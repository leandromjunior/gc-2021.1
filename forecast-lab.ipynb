{
 "cells": [
  {
   "cell_type": "markdown",
   "metadata": {},
   "source": [
    "# Laboratório 4 - Notebook do aluno"
   ]
  },
  {
   "cell_type": "markdown",
   "metadata": {},
   "source": [
    "## Visão geral\n",
    "\n",
    "Neste laboratório, você vai preparar um conjunto de dados (dataset) para criar uma previsão (forecast) usando o Amazon Forecast.\n",
    "\n",
    "Este laboratório inclui dois notebooks Jupyter:\n",
    "\n",
    "1. Esse notebook contém as etapas que você seguirá para preparar o conjunto de dados (dataset) e avaliar a previsão (forecast).\n",
    "2. O notebook `forecast-autorun.ipynb` contém as etapas para criar a previsão (forecast) usando o Amazon Forecast. Esse notebook é executado em segundo plano quando o laboratório é iniciado e pode levar entre 1 e 2 horas para ser concluído. Você fará referência a esse notebook durante as etapas do laboratório, mas não precisará executar qualquer célula.\n",
    "\n",
    "\n",
    "## Sobre o conjunto de dados (dataset)\n",
    "\n",
    "Este conjunto de dados (dataset) [Online Retail II] (https://archive.ics.uci.edu/ml/datasets/Online+Retail+II) contém todas as transações que ocorreram entre 12 de janeiro de 2009 e 12 de setembro de 2011 para uma organização de varejo on-line, que não é loja, e que está registrada e localizada no Reino Unido A empresa vende principalmente brindes exclusivos ocasionais. Muitos clientes da empresa são atacadistas.\n",
    "\n",
    "\n",
    "## Informações de atributo\n",
    "\n",
    "- **InvoiceNo** – Número da fatura. Nominal. Um número integral de 6 dígitos atribuído exclusivamente a cada transação. Se esse código começar com a letra *c*, indica um cancelamento.\n",
    "- **StockCode** – Código do produto (item). Nominal. Um número integral de 5 dígitos atribuído exclusivamente a cada produto distinto.\n",
    "- **Description** (Descrição) – Nome do produto (item). Nominal.\n",
    "- **Quantity** (Quantidade) – As quantidades de cada produto (item) por transação. Numérico.\n",
    "- **InvoiceDate** – Data e hora da fatura. Numérico. O dia e a hora em que uma transação foi gerada.\n",
    "- **UnitPrice** – Preço unitário. Numérico. Preço do produto por unidade em libras esterlinas (£).\n",
    "- **CustomerID** – Número do cliente. Nominal. Um número integral de 5 dígitos atribuído exclusivamente a cada cliente.\n",
    "- **Country** (País) – Nome do país. Nominal. O nome do país onde um cliente reside.\n",
    "\n",
    "\n",
    "## Atribuições do conjunto de dados (dataset)\n",
    "\n",
    "Esse conjunto de dados (dataset) foi obtido de:\n",
    "Dua, D. e Graff, C. (2019). repositório UCI Machine Learning (http://archive.ics.uci.edu/ml). Irvine, CA: University of California, School of Information and Computer Science."
   ]
  },
  {
   "cell_type": "markdown",
   "metadata": {},
   "source": [
    "## Instruções do laboratório\n",
    "\n",
    "Para concluir esse laboratório, leia e execute as células abaixo."
   ]
  },
  {
   "cell_type": "markdown",
   "metadata": {},
   "source": [
    "## Tarefa 1: Como importar pacotes Python\n",
    "\n",
    "Comece importando os pacotes necessários do Python.\n",
    "\n",
    "No código a seguir:\n",
    "\n",
    "- *boto3* representa o AWS SDK para Python (Boto3), que é a biblioteca Python da AWS\n",
    "- *pandas* fornece DataFrames para manipular dados de séries temporais\n",
    "- *matplotlib* fornece funções de plotagem\n",
    "- *sagemaker* representa a API necessária para trabalhar com o Amazon SageMaker\n",
    "- *time*,*sys*,*os*,*io* e *json* fornecem funções auxiliares \n"
   ]
  },
  {
   "cell_type": "code",
   "execution_count": 1,
   "metadata": {},
   "outputs": [
    {
     "name": "stderr",
     "output_type": "stream",
     "text": [
      "No handlers could be found for logger \"sagemaker\"\n"
     ]
    }
   ],
   "source": [
    "import warnings\n",
    "warnings.filterwarnings('ignore')\n",
    "bucket_name='c33334a421003l780313t1w17847112420-forecastbucket-1i9vbcsew9lk3'\n",
    "\n",
    "import boto3\n",
    "import pandas as pd\n",
    "import matplotlib\n",
    "import matplotlib.pyplot as plt\n",
    "import sagemaker\n",
    "import time, sys, os, io, json\n"
   ]
  },
  {
   "cell_type": "markdown",
   "metadata": {},
   "source": [
    "## Tarefa 2: Como fazer download e explorar os dados\n"
   ]
  },
  {
   "cell_type": "markdown",
   "metadata": {},
   "source": [
    "Os dados estão no formato *Microsoft Excel*. O pandas pode ler arquivos do Excel.\n",
    "\n",
    "**Observação:** Esses dados podem levar de 1 a 2 minutos para serem carregados"
   ]
  },
  {
   "cell_type": "code",
   "execution_count": 2,
   "metadata": {},
   "outputs": [],
   "source": [
    "retail = pd.read_excel('online_retail_II.xlsx')"
   ]
  },
  {
   "cell_type": "markdown",
   "metadata": {},
   "source": [
    "De acordo com a descrição do conjunto de dados (dataset), faltam alguns valores. Para simplificar, você removerá qualquer item que estiver com valor ausente."
   ]
  },
  {
   "cell_type": "code",
   "execution_count": 3,
   "metadata": {},
   "outputs": [],
   "source": [
    "retail = retail.dropna()"
   ]
  },
  {
   "cell_type": "markdown",
   "metadata": {},
   "source": [
    "Comece examinando os dados.\n",
    "\n",
    "Quantas linhas e colunas há no conjunto de dados?"
   ]
  },
  {
   "cell_type": "code",
   "execution_count": 4,
   "metadata": {},
   "outputs": [
    {
     "data": {
      "text/plain": [
       "(417534, 8)"
      ]
     },
     "execution_count": 4,
     "metadata": {},
     "output_type": "execute_result"
    }
   ],
   "source": [
    "retail.shape"
   ]
  },
  {
   "cell_type": "markdown",
   "metadata": {},
   "source": [
    "Quais são os tipos de dados?"
   ]
  },
  {
   "cell_type": "code",
   "execution_count": 5,
   "metadata": {},
   "outputs": [
    {
     "data": {
      "text/plain": [
       "Invoice                object\n",
       "StockCode              object\n",
       "Description            object\n",
       "Quantity                int64\n",
       "InvoiceDate    datetime64[ns]\n",
       "Price                 float64\n",
       "Customer ID           float64\n",
       "Country                object\n",
       "dtype: object"
      ]
     },
     "execution_count": 5,
     "metadata": {},
     "output_type": "execute_result"
    }
   ],
   "source": [
    "retail.dtypes"
   ]
  },
  {
   "cell_type": "markdown",
   "metadata": {},
   "source": [
    "Qual é a aparência dos dados?"
   ]
  },
  {
   "cell_type": "code",
   "execution_count": 6,
   "metadata": {},
   "outputs": [
    {
     "data": {
      "text/html": [
       "<div>\n",
       "<style scoped>\n",
       "    .dataframe tbody tr th:only-of-type {\n",
       "        vertical-align: middle;\n",
       "    }\n",
       "\n",
       "    .dataframe tbody tr th {\n",
       "        vertical-align: top;\n",
       "    }\n",
       "\n",
       "    .dataframe thead th {\n",
       "        text-align: right;\n",
       "    }\n",
       "</style>\n",
       "<table border=\"1\" class=\"dataframe\">\n",
       "  <thead>\n",
       "    <tr style=\"text-align: right;\">\n",
       "      <th></th>\n",
       "      <th>Invoice</th>\n",
       "      <th>StockCode</th>\n",
       "      <th>Description</th>\n",
       "      <th>Quantity</th>\n",
       "      <th>InvoiceDate</th>\n",
       "      <th>Price</th>\n",
       "      <th>Customer ID</th>\n",
       "      <th>Country</th>\n",
       "    </tr>\n",
       "  </thead>\n",
       "  <tbody>\n",
       "    <tr>\n",
       "      <th>0</th>\n",
       "      <td>489434</td>\n",
       "      <td>85048</td>\n",
       "      <td>15CM CHRISTMAS GLASS BALL 20 LIGHTS</td>\n",
       "      <td>12</td>\n",
       "      <td>2009-12-01 07:45:00</td>\n",
       "      <td>6.95</td>\n",
       "      <td>13085.0</td>\n",
       "      <td>United Kingdom</td>\n",
       "    </tr>\n",
       "    <tr>\n",
       "      <th>1</th>\n",
       "      <td>489434</td>\n",
       "      <td>79323P</td>\n",
       "      <td>PINK CHERRY LIGHTS</td>\n",
       "      <td>12</td>\n",
       "      <td>2009-12-01 07:45:00</td>\n",
       "      <td>6.75</td>\n",
       "      <td>13085.0</td>\n",
       "      <td>United Kingdom</td>\n",
       "    </tr>\n",
       "    <tr>\n",
       "      <th>2</th>\n",
       "      <td>489434</td>\n",
       "      <td>79323W</td>\n",
       "      <td>WHITE CHERRY LIGHTS</td>\n",
       "      <td>12</td>\n",
       "      <td>2009-12-01 07:45:00</td>\n",
       "      <td>6.75</td>\n",
       "      <td>13085.0</td>\n",
       "      <td>United Kingdom</td>\n",
       "    </tr>\n",
       "    <tr>\n",
       "      <th>3</th>\n",
       "      <td>489434</td>\n",
       "      <td>22041</td>\n",
       "      <td>RECORD FRAME 7\" SINGLE SIZE</td>\n",
       "      <td>48</td>\n",
       "      <td>2009-12-01 07:45:00</td>\n",
       "      <td>2.10</td>\n",
       "      <td>13085.0</td>\n",
       "      <td>United Kingdom</td>\n",
       "    </tr>\n",
       "    <tr>\n",
       "      <th>4</th>\n",
       "      <td>489434</td>\n",
       "      <td>21232</td>\n",
       "      <td>STRAWBERRY CERAMIC TRINKET BOX</td>\n",
       "      <td>24</td>\n",
       "      <td>2009-12-01 07:45:00</td>\n",
       "      <td>1.25</td>\n",
       "      <td>13085.0</td>\n",
       "      <td>United Kingdom</td>\n",
       "    </tr>\n",
       "    <tr>\n",
       "      <th>5</th>\n",
       "      <td>489434</td>\n",
       "      <td>22064</td>\n",
       "      <td>PINK DOUGHNUT TRINKET POT</td>\n",
       "      <td>24</td>\n",
       "      <td>2009-12-01 07:45:00</td>\n",
       "      <td>1.65</td>\n",
       "      <td>13085.0</td>\n",
       "      <td>United Kingdom</td>\n",
       "    </tr>\n",
       "    <tr>\n",
       "      <th>6</th>\n",
       "      <td>489434</td>\n",
       "      <td>21871</td>\n",
       "      <td>SAVE THE PLANET MUG</td>\n",
       "      <td>24</td>\n",
       "      <td>2009-12-01 07:45:00</td>\n",
       "      <td>1.25</td>\n",
       "      <td>13085.0</td>\n",
       "      <td>United Kingdom</td>\n",
       "    </tr>\n",
       "    <tr>\n",
       "      <th>7</th>\n",
       "      <td>489434</td>\n",
       "      <td>21523</td>\n",
       "      <td>FANCY FONT HOME SWEET HOME DOORMAT</td>\n",
       "      <td>10</td>\n",
       "      <td>2009-12-01 07:45:00</td>\n",
       "      <td>5.95</td>\n",
       "      <td>13085.0</td>\n",
       "      <td>United Kingdom</td>\n",
       "    </tr>\n",
       "    <tr>\n",
       "      <th>8</th>\n",
       "      <td>489435</td>\n",
       "      <td>22350</td>\n",
       "      <td>CAT BOWL</td>\n",
       "      <td>12</td>\n",
       "      <td>2009-12-01 07:46:00</td>\n",
       "      <td>2.55</td>\n",
       "      <td>13085.0</td>\n",
       "      <td>United Kingdom</td>\n",
       "    </tr>\n",
       "    <tr>\n",
       "      <th>9</th>\n",
       "      <td>489435</td>\n",
       "      <td>22349</td>\n",
       "      <td>DOG BOWL , CHASING BALL DESIGN</td>\n",
       "      <td>12</td>\n",
       "      <td>2009-12-01 07:46:00</td>\n",
       "      <td>3.75</td>\n",
       "      <td>13085.0</td>\n",
       "      <td>United Kingdom</td>\n",
       "    </tr>\n",
       "    <tr>\n",
       "      <th>10</th>\n",
       "      <td>489435</td>\n",
       "      <td>22195</td>\n",
       "      <td>HEART MEASURING SPOONS LARGE</td>\n",
       "      <td>24</td>\n",
       "      <td>2009-12-01 07:46:00</td>\n",
       "      <td>1.65</td>\n",
       "      <td>13085.0</td>\n",
       "      <td>United Kingdom</td>\n",
       "    </tr>\n",
       "    <tr>\n",
       "      <th>11</th>\n",
       "      <td>489435</td>\n",
       "      <td>22353</td>\n",
       "      <td>LUNCHBOX WITH CUTLERY FAIRY CAKES</td>\n",
       "      <td>12</td>\n",
       "      <td>2009-12-01 07:46:00</td>\n",
       "      <td>2.55</td>\n",
       "      <td>13085.0</td>\n",
       "      <td>United Kingdom</td>\n",
       "    </tr>\n",
       "    <tr>\n",
       "      <th>12</th>\n",
       "      <td>489436</td>\n",
       "      <td>48173C</td>\n",
       "      <td>DOOR MAT BLACK FLOCK</td>\n",
       "      <td>10</td>\n",
       "      <td>2009-12-01 09:06:00</td>\n",
       "      <td>5.95</td>\n",
       "      <td>13078.0</td>\n",
       "      <td>United Kingdom</td>\n",
       "    </tr>\n",
       "    <tr>\n",
       "      <th>13</th>\n",
       "      <td>489436</td>\n",
       "      <td>21755</td>\n",
       "      <td>LOVE BUILDING BLOCK WORD</td>\n",
       "      <td>18</td>\n",
       "      <td>2009-12-01 09:06:00</td>\n",
       "      <td>5.45</td>\n",
       "      <td>13078.0</td>\n",
       "      <td>United Kingdom</td>\n",
       "    </tr>\n",
       "    <tr>\n",
       "      <th>14</th>\n",
       "      <td>489436</td>\n",
       "      <td>21754</td>\n",
       "      <td>HOME BUILDING BLOCK WORD</td>\n",
       "      <td>3</td>\n",
       "      <td>2009-12-01 09:06:00</td>\n",
       "      <td>5.95</td>\n",
       "      <td>13078.0</td>\n",
       "      <td>United Kingdom</td>\n",
       "    </tr>\n",
       "    <tr>\n",
       "      <th>15</th>\n",
       "      <td>489436</td>\n",
       "      <td>84879</td>\n",
       "      <td>ASSORTED COLOUR BIRD ORNAMENT</td>\n",
       "      <td>16</td>\n",
       "      <td>2009-12-01 09:06:00</td>\n",
       "      <td>1.69</td>\n",
       "      <td>13078.0</td>\n",
       "      <td>United Kingdom</td>\n",
       "    </tr>\n",
       "    <tr>\n",
       "      <th>16</th>\n",
       "      <td>489436</td>\n",
       "      <td>22119</td>\n",
       "      <td>PEACE WOODEN BLOCK LETTERS</td>\n",
       "      <td>3</td>\n",
       "      <td>2009-12-01 09:06:00</td>\n",
       "      <td>6.95</td>\n",
       "      <td>13078.0</td>\n",
       "      <td>United Kingdom</td>\n",
       "    </tr>\n",
       "    <tr>\n",
       "      <th>17</th>\n",
       "      <td>489436</td>\n",
       "      <td>22142</td>\n",
       "      <td>CHRISTMAS CRAFT WHITE FAIRY</td>\n",
       "      <td>12</td>\n",
       "      <td>2009-12-01 09:06:00</td>\n",
       "      <td>1.45</td>\n",
       "      <td>13078.0</td>\n",
       "      <td>United Kingdom</td>\n",
       "    </tr>\n",
       "    <tr>\n",
       "      <th>18</th>\n",
       "      <td>489436</td>\n",
       "      <td>22296</td>\n",
       "      <td>HEART IVORY TRELLIS LARGE</td>\n",
       "      <td>12</td>\n",
       "      <td>2009-12-01 09:06:00</td>\n",
       "      <td>1.65</td>\n",
       "      <td>13078.0</td>\n",
       "      <td>United Kingdom</td>\n",
       "    </tr>\n",
       "    <tr>\n",
       "      <th>19</th>\n",
       "      <td>489436</td>\n",
       "      <td>22295</td>\n",
       "      <td>HEART FILIGREE DOVE LARGE</td>\n",
       "      <td>12</td>\n",
       "      <td>2009-12-01 09:06:00</td>\n",
       "      <td>1.65</td>\n",
       "      <td>13078.0</td>\n",
       "      <td>United Kingdom</td>\n",
       "    </tr>\n",
       "  </tbody>\n",
       "</table>\n",
       "</div>"
      ],
      "text/plain": [
       "   Invoice StockCode                          Description  Quantity  \\\n",
       "0   489434     85048  15CM CHRISTMAS GLASS BALL 20 LIGHTS        12   \n",
       "1   489434    79323P                   PINK CHERRY LIGHTS        12   \n",
       "2   489434    79323W                  WHITE CHERRY LIGHTS        12   \n",
       "3   489434     22041         RECORD FRAME 7\" SINGLE SIZE         48   \n",
       "4   489434     21232       STRAWBERRY CERAMIC TRINKET BOX        24   \n",
       "5   489434     22064           PINK DOUGHNUT TRINKET POT         24   \n",
       "6   489434     21871                  SAVE THE PLANET MUG        24   \n",
       "7   489434     21523   FANCY FONT HOME SWEET HOME DOORMAT        10   \n",
       "8   489435     22350                            CAT BOWL         12   \n",
       "9   489435     22349       DOG BOWL , CHASING BALL DESIGN        12   \n",
       "10  489435     22195         HEART MEASURING SPOONS LARGE        24   \n",
       "11  489435     22353   LUNCHBOX WITH CUTLERY FAIRY CAKES         12   \n",
       "12  489436    48173C                DOOR MAT BLACK FLOCK         10   \n",
       "13  489436     21755             LOVE BUILDING BLOCK WORD        18   \n",
       "14  489436     21754             HOME BUILDING BLOCK WORD         3   \n",
       "15  489436     84879        ASSORTED COLOUR BIRD ORNAMENT        16   \n",
       "16  489436     22119           PEACE WOODEN BLOCK LETTERS         3   \n",
       "17  489436     22142         CHRISTMAS CRAFT WHITE FAIRY         12   \n",
       "18  489436     22296            HEART IVORY TRELLIS LARGE        12   \n",
       "19  489436     22295            HEART FILIGREE DOVE LARGE        12   \n",
       "\n",
       "           InvoiceDate  Price  Customer ID         Country  \n",
       "0  2009-12-01 07:45:00   6.95      13085.0  United Kingdom  \n",
       "1  2009-12-01 07:45:00   6.75      13085.0  United Kingdom  \n",
       "2  2009-12-01 07:45:00   6.75      13085.0  United Kingdom  \n",
       "3  2009-12-01 07:45:00   2.10      13085.0  United Kingdom  \n",
       "4  2009-12-01 07:45:00   1.25      13085.0  United Kingdom  \n",
       "5  2009-12-01 07:45:00   1.65      13085.0  United Kingdom  \n",
       "6  2009-12-01 07:45:00   1.25      13085.0  United Kingdom  \n",
       "7  2009-12-01 07:45:00   5.95      13085.0  United Kingdom  \n",
       "8  2009-12-01 07:46:00   2.55      13085.0  United Kingdom  \n",
       "9  2009-12-01 07:46:00   3.75      13085.0  United Kingdom  \n",
       "10 2009-12-01 07:46:00   1.65      13085.0  United Kingdom  \n",
       "11 2009-12-01 07:46:00   2.55      13085.0  United Kingdom  \n",
       "12 2009-12-01 09:06:00   5.95      13078.0  United Kingdom  \n",
       "13 2009-12-01 09:06:00   5.45      13078.0  United Kingdom  \n",
       "14 2009-12-01 09:06:00   5.95      13078.0  United Kingdom  \n",
       "15 2009-12-01 09:06:00   1.69      13078.0  United Kingdom  \n",
       "16 2009-12-01 09:06:00   6.95      13078.0  United Kingdom  \n",
       "17 2009-12-01 09:06:00   1.45      13078.0  United Kingdom  \n",
       "18 2009-12-01 09:06:00   1.65      13078.0  United Kingdom  \n",
       "19 2009-12-01 09:06:00   1.65      13078.0  United Kingdom  "
      ]
     },
     "execution_count": 6,
     "metadata": {},
     "output_type": "execute_result"
    }
   ],
   "source": [
    "retail.head(20)"
   ]
  },
  {
   "cell_type": "markdown",
   "metadata": {},
   "source": [
    "O Amazon Forecast tem esquemas para domínios como, por exemplo, varejo. Revise as informações do esquema em [Domínio do varejo](https://docs.aws.amazon.com/forecast/latest/dg/retail-domain.html) na documentação da AWS.\n",
    "\n",
    "A série temporal de destino são os dados de séries temporais históricos de cada item ou produto vendido pela organização de varejo. Os campos a seguir são obrigatórios:\n",
    "\n",
    "- **item_id** (string) – um identificador exclusivo do item ou do produto do qual você deseja prever a demanda.\n",
    "- **timestamp** (timestamp)\n",
    "- **demand** (float) – o número de vendas desse item no timestamp. Também é o campo de destino para o qual o Amazon Forecast gera uma previsão.\n",
    "\n"
   ]
  },
  {
   "cell_type": "markdown",
   "metadata": {},
   "source": [
    "Se você examinar os dados anteriores, há determinadas colunas que não são necessárias para sua investigação. É possível descartar essas colunas. As colunas que você pode descartar são **Invoice** (Fatura),*Description** (Descrição) e **Customer ID** (ID do Cliente). \n",
    "\n",
    "**Observação:** É possível que os itens na mesma ordem (conforme mostrado na coluna **Invoice** (Fatura)) possam ter uma correlação que afeta o modelo. Para esse laboratório, você ignorará essa possibilidade.\n",
    "\n",
    "Remova as colunas desnecessárias."
   ]
  },
  {
   "cell_type": "code",
   "execution_count": 7,
   "metadata": {},
   "outputs": [],
   "source": [
    "retail = retail[['StockCode','Quantity','Price','Country','InvoiceDate']]"
   ]
  },
  {
   "cell_type": "markdown",
   "metadata": {},
   "source": [
    "A coluna **InvoiceDate** (Data da fatura) contém seus dados de data e hora. Você pode informar o pandas sobre isso usando a função `to_datetime`. Você pode explorar os dados por tempo, definindo o índice do DataFrame como a coluna **InvoiceDate** (Data da fatura)."
   ]
  },
  {
   "cell_type": "code",
   "execution_count": 8,
   "metadata": {},
   "outputs": [],
   "source": [
    "retail['InvoiceDate'] = pd.to_datetime(retail.InvoiceDate)\n",
    "retail = retail.set_index('InvoiceDate')"
   ]
  },
  {
   "cell_type": "markdown",
   "metadata": {},
   "source": [
    "Agora, você examinará o DataFrame atualizado.\n",
    "\n",
    "O número de linhas e colunas é:"
   ]
  },
  {
   "cell_type": "code",
   "execution_count": 9,
   "metadata": {},
   "outputs": [
    {
     "data": {
      "text/plain": [
       "(417534, 4)"
      ]
     },
     "execution_count": 9,
     "metadata": {},
     "output_type": "execute_result"
    }
   ],
   "source": [
    "retail.shape"
   ]
  },
  {
   "cell_type": "markdown",
   "metadata": {},
   "source": [
    "Os novos dados são semelhantes a este exemplo:"
   ]
  },
  {
   "cell_type": "code",
   "execution_count": 10,
   "metadata": {},
   "outputs": [
    {
     "data": {
      "text/html": [
       "<div>\n",
       "<style scoped>\n",
       "    .dataframe tbody tr th:only-of-type {\n",
       "        vertical-align: middle;\n",
       "    }\n",
       "\n",
       "    .dataframe tbody tr th {\n",
       "        vertical-align: top;\n",
       "    }\n",
       "\n",
       "    .dataframe thead th {\n",
       "        text-align: right;\n",
       "    }\n",
       "</style>\n",
       "<table border=\"1\" class=\"dataframe\">\n",
       "  <thead>\n",
       "    <tr style=\"text-align: right;\">\n",
       "      <th></th>\n",
       "      <th>StockCode</th>\n",
       "      <th>Quantity</th>\n",
       "      <th>Price</th>\n",
       "      <th>Country</th>\n",
       "    </tr>\n",
       "    <tr>\n",
       "      <th>InvoiceDate</th>\n",
       "      <th></th>\n",
       "      <th></th>\n",
       "      <th></th>\n",
       "      <th></th>\n",
       "    </tr>\n",
       "  </thead>\n",
       "  <tbody>\n",
       "    <tr>\n",
       "      <th>2009-12-01 07:45:00</th>\n",
       "      <td>85048</td>\n",
       "      <td>12</td>\n",
       "      <td>6.95</td>\n",
       "      <td>United Kingdom</td>\n",
       "    </tr>\n",
       "    <tr>\n",
       "      <th>2009-12-01 07:45:00</th>\n",
       "      <td>79323P</td>\n",
       "      <td>12</td>\n",
       "      <td>6.75</td>\n",
       "      <td>United Kingdom</td>\n",
       "    </tr>\n",
       "    <tr>\n",
       "      <th>2009-12-01 07:45:00</th>\n",
       "      <td>79323W</td>\n",
       "      <td>12</td>\n",
       "      <td>6.75</td>\n",
       "      <td>United Kingdom</td>\n",
       "    </tr>\n",
       "    <tr>\n",
       "      <th>2009-12-01 07:45:00</th>\n",
       "      <td>22041</td>\n",
       "      <td>48</td>\n",
       "      <td>2.10</td>\n",
       "      <td>United Kingdom</td>\n",
       "    </tr>\n",
       "    <tr>\n",
       "      <th>2009-12-01 07:45:00</th>\n",
       "      <td>21232</td>\n",
       "      <td>24</td>\n",
       "      <td>1.25</td>\n",
       "      <td>United Kingdom</td>\n",
       "    </tr>\n",
       "  </tbody>\n",
       "</table>\n",
       "</div>"
      ],
      "text/plain": [
       "                    StockCode  Quantity  Price         Country\n",
       "InvoiceDate                                                   \n",
       "2009-12-01 07:45:00     85048        12   6.95  United Kingdom\n",
       "2009-12-01 07:45:00    79323P        12   6.75  United Kingdom\n",
       "2009-12-01 07:45:00    79323W        12   6.75  United Kingdom\n",
       "2009-12-01 07:45:00     22041        48   2.10  United Kingdom\n",
       "2009-12-01 07:45:00     21232        24   1.25  United Kingdom"
      ]
     },
     "execution_count": 10,
     "metadata": {},
     "output_type": "execute_result"
    }
   ],
   "source": [
    "retail.head()"
   ]
  },
  {
   "cell_type": "markdown",
   "metadata": {},
   "source": [
    "Observe que **InvoiceDate** (Data da fatura) é o índice, e é mostrado na primeira coluna."
   ]
  },
  {
   "cell_type": "markdown",
   "metadata": {},
   "source": [
    "Como você define o índice para seus dados de data e hora, pode usá-lo para selecionar dados.\n",
    "\n",
    "Para selecionar todas as linhas de uma data específica, use a data no índice."
   ]
  },
  {
   "cell_type": "code",
   "execution_count": 11,
   "metadata": {},
   "outputs": [
    {
     "data": {
      "text/html": [
       "<div>\n",
       "<style scoped>\n",
       "    .dataframe tbody tr th:only-of-type {\n",
       "        vertical-align: middle;\n",
       "    }\n",
       "\n",
       "    .dataframe tbody tr th {\n",
       "        vertical-align: top;\n",
       "    }\n",
       "\n",
       "    .dataframe thead th {\n",
       "        text-align: right;\n",
       "    }\n",
       "</style>\n",
       "<table border=\"1\" class=\"dataframe\">\n",
       "  <thead>\n",
       "    <tr style=\"text-align: right;\">\n",
       "      <th></th>\n",
       "      <th>StockCode</th>\n",
       "      <th>Quantity</th>\n",
       "      <th>Price</th>\n",
       "      <th>Country</th>\n",
       "    </tr>\n",
       "    <tr>\n",
       "      <th>InvoiceDate</th>\n",
       "      <th></th>\n",
       "      <th></th>\n",
       "      <th></th>\n",
       "      <th></th>\n",
       "    </tr>\n",
       "  </thead>\n",
       "  <tbody>\n",
       "    <tr>\n",
       "      <th>2010-01-04 09:24:00</th>\n",
       "      <td>TEST001</td>\n",
       "      <td>5</td>\n",
       "      <td>4.50</td>\n",
       "      <td>United Kingdom</td>\n",
       "    </tr>\n",
       "    <tr>\n",
       "      <th>2010-01-04 09:43:00</th>\n",
       "      <td>21539</td>\n",
       "      <td>-1</td>\n",
       "      <td>4.25</td>\n",
       "      <td>United Kingdom</td>\n",
       "    </tr>\n",
       "    <tr>\n",
       "      <th>2010-01-04 09:53:00</th>\n",
       "      <td>TEST001</td>\n",
       "      <td>5</td>\n",
       "      <td>4.50</td>\n",
       "      <td>United Kingdom</td>\n",
       "    </tr>\n",
       "    <tr>\n",
       "      <th>2010-01-04 10:28:00</th>\n",
       "      <td>21844</td>\n",
       "      <td>36</td>\n",
       "      <td>2.55</td>\n",
       "      <td>United Kingdom</td>\n",
       "    </tr>\n",
       "    <tr>\n",
       "      <th>2010-01-04 10:28:00</th>\n",
       "      <td>21533</td>\n",
       "      <td>12</td>\n",
       "      <td>4.25</td>\n",
       "      <td>United Kingdom</td>\n",
       "    </tr>\n",
       "    <tr>\n",
       "      <th>2010-01-04 10:28:00</th>\n",
       "      <td>37508</td>\n",
       "      <td>2</td>\n",
       "      <td>2.55</td>\n",
       "      <td>United Kingdom</td>\n",
       "    </tr>\n",
       "    <tr>\n",
       "      <th>2010-01-04 10:28:00</th>\n",
       "      <td>35001G</td>\n",
       "      <td>2</td>\n",
       "      <td>4.25</td>\n",
       "      <td>United Kingdom</td>\n",
       "    </tr>\n",
       "    <tr>\n",
       "      <th>2010-01-04 10:28:00</th>\n",
       "      <td>21527</td>\n",
       "      <td>12</td>\n",
       "      <td>6.95</td>\n",
       "      <td>United Kingdom</td>\n",
       "    </tr>\n",
       "    <tr>\n",
       "      <th>2010-01-04 10:28:00</th>\n",
       "      <td>21531</td>\n",
       "      <td>24</td>\n",
       "      <td>2.10</td>\n",
       "      <td>United Kingdom</td>\n",
       "    </tr>\n",
       "    <tr>\n",
       "      <th>2010-01-04 10:33:00</th>\n",
       "      <td>21527</td>\n",
       "      <td>-3</td>\n",
       "      <td>7.95</td>\n",
       "      <td>United Kingdom</td>\n",
       "    </tr>\n",
       "    <tr>\n",
       "      <th>2010-01-04 10:41:00</th>\n",
       "      <td>22109</td>\n",
       "      <td>-1</td>\n",
       "      <td>3.39</td>\n",
       "      <td>United Kingdom</td>\n",
       "    </tr>\n",
       "    <tr>\n",
       "      <th>2010-01-04 10:43:00</th>\n",
       "      <td>82483</td>\n",
       "      <td>4</td>\n",
       "      <td>5.95</td>\n",
       "      <td>United Kingdom</td>\n",
       "    </tr>\n",
       "    <tr>\n",
       "      <th>2010-01-04 10:43:00</th>\n",
       "      <td>21681</td>\n",
       "      <td>2</td>\n",
       "      <td>9.95</td>\n",
       "      <td>United Kingdom</td>\n",
       "    </tr>\n",
       "    <tr>\n",
       "      <th>2010-01-04 10:43:00</th>\n",
       "      <td>21682</td>\n",
       "      <td>4</td>\n",
       "      <td>4.95</td>\n",
       "      <td>United Kingdom</td>\n",
       "    </tr>\n",
       "    <tr>\n",
       "      <th>2010-01-04 10:43:00</th>\n",
       "      <td>18096C</td>\n",
       "      <td>6</td>\n",
       "      <td>2.55</td>\n",
       "      <td>United Kingdom</td>\n",
       "    </tr>\n",
       "    <tr>\n",
       "      <th>2010-01-04 10:43:00</th>\n",
       "      <td>21577</td>\n",
       "      <td>6</td>\n",
       "      <td>2.25</td>\n",
       "      <td>United Kingdom</td>\n",
       "    </tr>\n",
       "    <tr>\n",
       "      <th>2010-01-04 10:43:00</th>\n",
       "      <td>21576</td>\n",
       "      <td>6</td>\n",
       "      <td>2.25</td>\n",
       "      <td>United Kingdom</td>\n",
       "    </tr>\n",
       "    <tr>\n",
       "      <th>2010-01-04 10:43:00</th>\n",
       "      <td>37447</td>\n",
       "      <td>12</td>\n",
       "      <td>1.49</td>\n",
       "      <td>United Kingdom</td>\n",
       "    </tr>\n",
       "    <tr>\n",
       "      <th>2010-01-04 10:43:00</th>\n",
       "      <td>21232</td>\n",
       "      <td>12</td>\n",
       "      <td>1.25</td>\n",
       "      <td>United Kingdom</td>\n",
       "    </tr>\n",
       "    <tr>\n",
       "      <th>2010-01-04 10:43:00</th>\n",
       "      <td>79000</td>\n",
       "      <td>12</td>\n",
       "      <td>0.85</td>\n",
       "      <td>United Kingdom</td>\n",
       "    </tr>\n",
       "    <tr>\n",
       "      <th>2010-01-04 10:43:00</th>\n",
       "      <td>84499</td>\n",
       "      <td>12</td>\n",
       "      <td>0.85</td>\n",
       "      <td>United Kingdom</td>\n",
       "    </tr>\n",
       "    <tr>\n",
       "      <th>2010-01-04 10:43:00</th>\n",
       "      <td>72780</td>\n",
       "      <td>12</td>\n",
       "      <td>0.85</td>\n",
       "      <td>United Kingdom</td>\n",
       "    </tr>\n",
       "    <tr>\n",
       "      <th>2010-01-04 10:43:00</th>\n",
       "      <td>22214</td>\n",
       "      <td>6</td>\n",
       "      <td>2.55</td>\n",
       "      <td>United Kingdom</td>\n",
       "    </tr>\n",
       "    <tr>\n",
       "      <th>2010-01-04 10:43:00</th>\n",
       "      <td>72369A</td>\n",
       "      <td>6</td>\n",
       "      <td>1.25</td>\n",
       "      <td>United Kingdom</td>\n",
       "    </tr>\n",
       "    <tr>\n",
       "      <th>2010-01-04 10:43:00</th>\n",
       "      <td>21428</td>\n",
       "      <td>4</td>\n",
       "      <td>4.25</td>\n",
       "      <td>United Kingdom</td>\n",
       "    </tr>\n",
       "    <tr>\n",
       "      <th>2010-01-04 10:43:00</th>\n",
       "      <td>22178</td>\n",
       "      <td>12</td>\n",
       "      <td>1.25</td>\n",
       "      <td>United Kingdom</td>\n",
       "    </tr>\n",
       "    <tr>\n",
       "      <th>2010-01-04 10:43:00</th>\n",
       "      <td>84615</td>\n",
       "      <td>2</td>\n",
       "      <td>7.95</td>\n",
       "      <td>United Kingdom</td>\n",
       "    </tr>\n",
       "    <tr>\n",
       "      <th>2010-01-04 10:43:00</th>\n",
       "      <td>84686</td>\n",
       "      <td>2</td>\n",
       "      <td>4.25</td>\n",
       "      <td>United Kingdom</td>\n",
       "    </tr>\n",
       "    <tr>\n",
       "      <th>2010-01-04 10:43:00</th>\n",
       "      <td>21777</td>\n",
       "      <td>2</td>\n",
       "      <td>7.95</td>\n",
       "      <td>United Kingdom</td>\n",
       "    </tr>\n",
       "    <tr>\n",
       "      <th>2010-01-04 11:15:00</th>\n",
       "      <td>84563A</td>\n",
       "      <td>1</td>\n",
       "      <td>5.95</td>\n",
       "      <td>United Kingdom</td>\n",
       "    </tr>\n",
       "    <tr>\n",
       "      <th>...</th>\n",
       "      <td>...</td>\n",
       "      <td>...</td>\n",
       "      <td>...</td>\n",
       "      <td>...</td>\n",
       "    </tr>\n",
       "    <tr>\n",
       "      <th>2010-01-04 16:29:00</th>\n",
       "      <td>20990</td>\n",
       "      <td>8</td>\n",
       "      <td>1.95</td>\n",
       "      <td>United Kingdom</td>\n",
       "    </tr>\n",
       "    <tr>\n",
       "      <th>2010-01-04 16:29:00</th>\n",
       "      <td>37476</td>\n",
       "      <td>2</td>\n",
       "      <td>9.95</td>\n",
       "      <td>United Kingdom</td>\n",
       "    </tr>\n",
       "    <tr>\n",
       "      <th>2010-01-04 16:29:00</th>\n",
       "      <td>21124</td>\n",
       "      <td>5</td>\n",
       "      <td>1.25</td>\n",
       "      <td>United Kingdom</td>\n",
       "    </tr>\n",
       "    <tr>\n",
       "      <th>2010-01-04 16:29:00</th>\n",
       "      <td>21122</td>\n",
       "      <td>5</td>\n",
       "      <td>1.25</td>\n",
       "      <td>United Kingdom</td>\n",
       "    </tr>\n",
       "    <tr>\n",
       "      <th>2010-01-04 16:29:00</th>\n",
       "      <td>10135</td>\n",
       "      <td>1</td>\n",
       "      <td>1.25</td>\n",
       "      <td>United Kingdom</td>\n",
       "    </tr>\n",
       "    <tr>\n",
       "      <th>2010-01-04 16:29:00</th>\n",
       "      <td>84596E</td>\n",
       "      <td>1</td>\n",
       "      <td>1.25</td>\n",
       "      <td>United Kingdom</td>\n",
       "    </tr>\n",
       "    <tr>\n",
       "      <th>2010-01-04 16:29:00</th>\n",
       "      <td>20994</td>\n",
       "      <td>6</td>\n",
       "      <td>0.85</td>\n",
       "      <td>United Kingdom</td>\n",
       "    </tr>\n",
       "    <tr>\n",
       "      <th>2010-01-04 16:29:00</th>\n",
       "      <td>22185</td>\n",
       "      <td>10</td>\n",
       "      <td>1.65</td>\n",
       "      <td>United Kingdom</td>\n",
       "    </tr>\n",
       "    <tr>\n",
       "      <th>2010-01-04 17:03:00</th>\n",
       "      <td>21931</td>\n",
       "      <td>1</td>\n",
       "      <td>1.95</td>\n",
       "      <td>United Kingdom</td>\n",
       "    </tr>\n",
       "    <tr>\n",
       "      <th>2010-01-04 17:03:00</th>\n",
       "      <td>20712</td>\n",
       "      <td>2</td>\n",
       "      <td>1.95</td>\n",
       "      <td>United Kingdom</td>\n",
       "    </tr>\n",
       "    <tr>\n",
       "      <th>2010-01-04 17:03:00</th>\n",
       "      <td>84029E</td>\n",
       "      <td>2</td>\n",
       "      <td>3.75</td>\n",
       "      <td>United Kingdom</td>\n",
       "    </tr>\n",
       "    <tr>\n",
       "      <th>2010-01-04 17:03:00</th>\n",
       "      <td>75131</td>\n",
       "      <td>10</td>\n",
       "      <td>1.69</td>\n",
       "      <td>United Kingdom</td>\n",
       "    </tr>\n",
       "    <tr>\n",
       "      <th>2010-01-04 17:03:00</th>\n",
       "      <td>21924</td>\n",
       "      <td>2</td>\n",
       "      <td>7.95</td>\n",
       "      <td>United Kingdom</td>\n",
       "    </tr>\n",
       "    <tr>\n",
       "      <th>2010-01-04 17:03:00</th>\n",
       "      <td>21481</td>\n",
       "      <td>2</td>\n",
       "      <td>2.95</td>\n",
       "      <td>United Kingdom</td>\n",
       "    </tr>\n",
       "    <tr>\n",
       "      <th>2010-01-04 17:03:00</th>\n",
       "      <td>21364</td>\n",
       "      <td>1</td>\n",
       "      <td>6.75</td>\n",
       "      <td>United Kingdom</td>\n",
       "    </tr>\n",
       "    <tr>\n",
       "      <th>2010-01-04 17:03:00</th>\n",
       "      <td>85042</td>\n",
       "      <td>5</td>\n",
       "      <td>4.95</td>\n",
       "      <td>United Kingdom</td>\n",
       "    </tr>\n",
       "    <tr>\n",
       "      <th>2010-01-04 17:03:00</th>\n",
       "      <td>71053</td>\n",
       "      <td>1</td>\n",
       "      <td>3.75</td>\n",
       "      <td>United Kingdom</td>\n",
       "    </tr>\n",
       "    <tr>\n",
       "      <th>2010-01-04 17:03:00</th>\n",
       "      <td>79323B</td>\n",
       "      <td>2</td>\n",
       "      <td>6.75</td>\n",
       "      <td>United Kingdom</td>\n",
       "    </tr>\n",
       "    <tr>\n",
       "      <th>2010-01-04 17:03:00</th>\n",
       "      <td>79323GR</td>\n",
       "      <td>2</td>\n",
       "      <td>6.75</td>\n",
       "      <td>United Kingdom</td>\n",
       "    </tr>\n",
       "    <tr>\n",
       "      <th>2010-01-04 17:03:00</th>\n",
       "      <td>15056BL</td>\n",
       "      <td>1</td>\n",
       "      <td>5.95</td>\n",
       "      <td>United Kingdom</td>\n",
       "    </tr>\n",
       "    <tr>\n",
       "      <th>2010-01-04 17:03:00</th>\n",
       "      <td>15056BL</td>\n",
       "      <td>1</td>\n",
       "      <td>5.95</td>\n",
       "      <td>United Kingdom</td>\n",
       "    </tr>\n",
       "    <tr>\n",
       "      <th>2010-01-04 17:03:00</th>\n",
       "      <td>40016</td>\n",
       "      <td>24</td>\n",
       "      <td>0.42</td>\n",
       "      <td>United Kingdom</td>\n",
       "    </tr>\n",
       "    <tr>\n",
       "      <th>2010-01-04 17:39:00</th>\n",
       "      <td>21477</td>\n",
       "      <td>10</td>\n",
       "      <td>10.95</td>\n",
       "      <td>United Kingdom</td>\n",
       "    </tr>\n",
       "    <tr>\n",
       "      <th>2010-01-04 17:39:00</th>\n",
       "      <td>84933C</td>\n",
       "      <td>1</td>\n",
       "      <td>9.95</td>\n",
       "      <td>United Kingdom</td>\n",
       "    </tr>\n",
       "    <tr>\n",
       "      <th>2010-01-04 17:39:00</th>\n",
       "      <td>90214S</td>\n",
       "      <td>1</td>\n",
       "      <td>1.25</td>\n",
       "      <td>United Kingdom</td>\n",
       "    </tr>\n",
       "    <tr>\n",
       "      <th>2010-01-04 17:39:00</th>\n",
       "      <td>90214G</td>\n",
       "      <td>1</td>\n",
       "      <td>1.25</td>\n",
       "      <td>United Kingdom</td>\n",
       "    </tr>\n",
       "    <tr>\n",
       "      <th>2010-01-04 17:39:00</th>\n",
       "      <td>90214N</td>\n",
       "      <td>1</td>\n",
       "      <td>1.25</td>\n",
       "      <td>United Kingdom</td>\n",
       "    </tr>\n",
       "    <tr>\n",
       "      <th>2010-01-04 17:39:00</th>\n",
       "      <td>90214N</td>\n",
       "      <td>1</td>\n",
       "      <td>1.25</td>\n",
       "      <td>United Kingdom</td>\n",
       "    </tr>\n",
       "    <tr>\n",
       "      <th>2010-01-04 17:39:00</th>\n",
       "      <td>90214C</td>\n",
       "      <td>1</td>\n",
       "      <td>1.25</td>\n",
       "      <td>United Kingdom</td>\n",
       "    </tr>\n",
       "    <tr>\n",
       "      <th>2010-01-04 17:39:00</th>\n",
       "      <td>21690</td>\n",
       "      <td>2</td>\n",
       "      <td>3.75</td>\n",
       "      <td>United Kingdom</td>\n",
       "    </tr>\n",
       "  </tbody>\n",
       "</table>\n",
       "<p>633 rows × 4 columns</p>\n",
       "</div>"
      ],
      "text/plain": [
       "                    StockCode  Quantity  Price         Country\n",
       "InvoiceDate                                                   \n",
       "2010-01-04 09:24:00   TEST001         5   4.50  United Kingdom\n",
       "2010-01-04 09:43:00     21539        -1   4.25  United Kingdom\n",
       "2010-01-04 09:53:00   TEST001         5   4.50  United Kingdom\n",
       "2010-01-04 10:28:00     21844        36   2.55  United Kingdom\n",
       "2010-01-04 10:28:00     21533        12   4.25  United Kingdom\n",
       "2010-01-04 10:28:00     37508         2   2.55  United Kingdom\n",
       "2010-01-04 10:28:00    35001G         2   4.25  United Kingdom\n",
       "2010-01-04 10:28:00     21527        12   6.95  United Kingdom\n",
       "2010-01-04 10:28:00     21531        24   2.10  United Kingdom\n",
       "2010-01-04 10:33:00     21527        -3   7.95  United Kingdom\n",
       "2010-01-04 10:41:00     22109        -1   3.39  United Kingdom\n",
       "2010-01-04 10:43:00     82483         4   5.95  United Kingdom\n",
       "2010-01-04 10:43:00     21681         2   9.95  United Kingdom\n",
       "2010-01-04 10:43:00     21682         4   4.95  United Kingdom\n",
       "2010-01-04 10:43:00    18096C         6   2.55  United Kingdom\n",
       "2010-01-04 10:43:00     21577         6   2.25  United Kingdom\n",
       "2010-01-04 10:43:00     21576         6   2.25  United Kingdom\n",
       "2010-01-04 10:43:00     37447        12   1.49  United Kingdom\n",
       "2010-01-04 10:43:00     21232        12   1.25  United Kingdom\n",
       "2010-01-04 10:43:00     79000        12   0.85  United Kingdom\n",
       "2010-01-04 10:43:00     84499        12   0.85  United Kingdom\n",
       "2010-01-04 10:43:00     72780        12   0.85  United Kingdom\n",
       "2010-01-04 10:43:00     22214         6   2.55  United Kingdom\n",
       "2010-01-04 10:43:00    72369A         6   1.25  United Kingdom\n",
       "2010-01-04 10:43:00     21428         4   4.25  United Kingdom\n",
       "2010-01-04 10:43:00     22178        12   1.25  United Kingdom\n",
       "2010-01-04 10:43:00     84615         2   7.95  United Kingdom\n",
       "2010-01-04 10:43:00     84686         2   4.25  United Kingdom\n",
       "2010-01-04 10:43:00     21777         2   7.95  United Kingdom\n",
       "2010-01-04 11:15:00    84563A         1   5.95  United Kingdom\n",
       "...                       ...       ...    ...             ...\n",
       "2010-01-04 16:29:00     20990         8   1.95  United Kingdom\n",
       "2010-01-04 16:29:00     37476         2   9.95  United Kingdom\n",
       "2010-01-04 16:29:00     21124         5   1.25  United Kingdom\n",
       "2010-01-04 16:29:00     21122         5   1.25  United Kingdom\n",
       "2010-01-04 16:29:00     10135         1   1.25  United Kingdom\n",
       "2010-01-04 16:29:00    84596E         1   1.25  United Kingdom\n",
       "2010-01-04 16:29:00     20994         6   0.85  United Kingdom\n",
       "2010-01-04 16:29:00     22185        10   1.65  United Kingdom\n",
       "2010-01-04 17:03:00     21931         1   1.95  United Kingdom\n",
       "2010-01-04 17:03:00     20712         2   1.95  United Kingdom\n",
       "2010-01-04 17:03:00    84029E         2   3.75  United Kingdom\n",
       "2010-01-04 17:03:00     75131        10   1.69  United Kingdom\n",
       "2010-01-04 17:03:00     21924         2   7.95  United Kingdom\n",
       "2010-01-04 17:03:00     21481         2   2.95  United Kingdom\n",
       "2010-01-04 17:03:00     21364         1   6.75  United Kingdom\n",
       "2010-01-04 17:03:00     85042         5   4.95  United Kingdom\n",
       "2010-01-04 17:03:00     71053         1   3.75  United Kingdom\n",
       "2010-01-04 17:03:00    79323B         2   6.75  United Kingdom\n",
       "2010-01-04 17:03:00   79323GR         2   6.75  United Kingdom\n",
       "2010-01-04 17:03:00   15056BL         1   5.95  United Kingdom\n",
       "2010-01-04 17:03:00   15056BL         1   5.95  United Kingdom\n",
       "2010-01-04 17:03:00     40016        24   0.42  United Kingdom\n",
       "2010-01-04 17:39:00     21477        10  10.95  United Kingdom\n",
       "2010-01-04 17:39:00    84933C         1   9.95  United Kingdom\n",
       "2010-01-04 17:39:00    90214S         1   1.25  United Kingdom\n",
       "2010-01-04 17:39:00    90214G         1   1.25  United Kingdom\n",
       "2010-01-04 17:39:00    90214N         1   1.25  United Kingdom\n",
       "2010-01-04 17:39:00    90214N         1   1.25  United Kingdom\n",
       "2010-01-04 17:39:00    90214C         1   1.25  United Kingdom\n",
       "2010-01-04 17:39:00     21690         2   3.75  United Kingdom\n",
       "\n",
       "[633 rows x 4 columns]"
      ]
     },
     "execution_count": 11,
     "metadata": {},
     "output_type": "execute_result"
    }
   ],
   "source": [
    "retail['2010-01-04']"
   ]
  },
  {
   "cell_type": "markdown",
   "metadata": {},
   "source": [
    "Você pode usar partes de uma data e intervalos de datas. Para visualizar as linhas **Jan** e **Feb** (Fev):"
   ]
  },
  {
   "cell_type": "code",
   "execution_count": 12,
   "metadata": {},
   "outputs": [
    {
     "data": {
      "text/html": [
       "<div>\n",
       "<style scoped>\n",
       "    .dataframe tbody tr th:only-of-type {\n",
       "        vertical-align: middle;\n",
       "    }\n",
       "\n",
       "    .dataframe tbody tr th {\n",
       "        vertical-align: top;\n",
       "    }\n",
       "\n",
       "    .dataframe thead th {\n",
       "        text-align: right;\n",
       "    }\n",
       "</style>\n",
       "<table border=\"1\" class=\"dataframe\">\n",
       "  <thead>\n",
       "    <tr style=\"text-align: right;\">\n",
       "      <th></th>\n",
       "      <th>StockCode</th>\n",
       "      <th>Quantity</th>\n",
       "      <th>Price</th>\n",
       "      <th>Country</th>\n",
       "    </tr>\n",
       "    <tr>\n",
       "      <th>InvoiceDate</th>\n",
       "      <th></th>\n",
       "      <th></th>\n",
       "      <th></th>\n",
       "      <th></th>\n",
       "    </tr>\n",
       "  </thead>\n",
       "  <tbody>\n",
       "    <tr>\n",
       "      <th>2010-01-04 09:24:00</th>\n",
       "      <td>TEST001</td>\n",
       "      <td>5</td>\n",
       "      <td>4.50</td>\n",
       "      <td>United Kingdom</td>\n",
       "    </tr>\n",
       "    <tr>\n",
       "      <th>2010-01-04 09:43:00</th>\n",
       "      <td>21539</td>\n",
       "      <td>-1</td>\n",
       "      <td>4.25</td>\n",
       "      <td>United Kingdom</td>\n",
       "    </tr>\n",
       "    <tr>\n",
       "      <th>2010-01-04 09:53:00</th>\n",
       "      <td>TEST001</td>\n",
       "      <td>5</td>\n",
       "      <td>4.50</td>\n",
       "      <td>United Kingdom</td>\n",
       "    </tr>\n",
       "    <tr>\n",
       "      <th>2010-01-04 10:28:00</th>\n",
       "      <td>21844</td>\n",
       "      <td>36</td>\n",
       "      <td>2.55</td>\n",
       "      <td>United Kingdom</td>\n",
       "    </tr>\n",
       "    <tr>\n",
       "      <th>2010-01-04 10:28:00</th>\n",
       "      <td>21533</td>\n",
       "      <td>12</td>\n",
       "      <td>4.25</td>\n",
       "      <td>United Kingdom</td>\n",
       "    </tr>\n",
       "    <tr>\n",
       "      <th>2010-01-04 10:28:00</th>\n",
       "      <td>37508</td>\n",
       "      <td>2</td>\n",
       "      <td>2.55</td>\n",
       "      <td>United Kingdom</td>\n",
       "    </tr>\n",
       "    <tr>\n",
       "      <th>2010-01-04 10:28:00</th>\n",
       "      <td>35001G</td>\n",
       "      <td>2</td>\n",
       "      <td>4.25</td>\n",
       "      <td>United Kingdom</td>\n",
       "    </tr>\n",
       "    <tr>\n",
       "      <th>2010-01-04 10:28:00</th>\n",
       "      <td>21527</td>\n",
       "      <td>12</td>\n",
       "      <td>6.95</td>\n",
       "      <td>United Kingdom</td>\n",
       "    </tr>\n",
       "    <tr>\n",
       "      <th>2010-01-04 10:28:00</th>\n",
       "      <td>21531</td>\n",
       "      <td>24</td>\n",
       "      <td>2.10</td>\n",
       "      <td>United Kingdom</td>\n",
       "    </tr>\n",
       "    <tr>\n",
       "      <th>2010-01-04 10:33:00</th>\n",
       "      <td>21527</td>\n",
       "      <td>-3</td>\n",
       "      <td>7.95</td>\n",
       "      <td>United Kingdom</td>\n",
       "    </tr>\n",
       "    <tr>\n",
       "      <th>2010-01-04 10:41:00</th>\n",
       "      <td>22109</td>\n",
       "      <td>-1</td>\n",
       "      <td>3.39</td>\n",
       "      <td>United Kingdom</td>\n",
       "    </tr>\n",
       "    <tr>\n",
       "      <th>2010-01-04 10:43:00</th>\n",
       "      <td>82483</td>\n",
       "      <td>4</td>\n",
       "      <td>5.95</td>\n",
       "      <td>United Kingdom</td>\n",
       "    </tr>\n",
       "    <tr>\n",
       "      <th>2010-01-04 10:43:00</th>\n",
       "      <td>21681</td>\n",
       "      <td>2</td>\n",
       "      <td>9.95</td>\n",
       "      <td>United Kingdom</td>\n",
       "    </tr>\n",
       "    <tr>\n",
       "      <th>2010-01-04 10:43:00</th>\n",
       "      <td>21682</td>\n",
       "      <td>4</td>\n",
       "      <td>4.95</td>\n",
       "      <td>United Kingdom</td>\n",
       "    </tr>\n",
       "    <tr>\n",
       "      <th>2010-01-04 10:43:00</th>\n",
       "      <td>18096C</td>\n",
       "      <td>6</td>\n",
       "      <td>2.55</td>\n",
       "      <td>United Kingdom</td>\n",
       "    </tr>\n",
       "    <tr>\n",
       "      <th>2010-01-04 10:43:00</th>\n",
       "      <td>21577</td>\n",
       "      <td>6</td>\n",
       "      <td>2.25</td>\n",
       "      <td>United Kingdom</td>\n",
       "    </tr>\n",
       "    <tr>\n",
       "      <th>2010-01-04 10:43:00</th>\n",
       "      <td>21576</td>\n",
       "      <td>6</td>\n",
       "      <td>2.25</td>\n",
       "      <td>United Kingdom</td>\n",
       "    </tr>\n",
       "    <tr>\n",
       "      <th>2010-01-04 10:43:00</th>\n",
       "      <td>37447</td>\n",
       "      <td>12</td>\n",
       "      <td>1.49</td>\n",
       "      <td>United Kingdom</td>\n",
       "    </tr>\n",
       "    <tr>\n",
       "      <th>2010-01-04 10:43:00</th>\n",
       "      <td>21232</td>\n",
       "      <td>12</td>\n",
       "      <td>1.25</td>\n",
       "      <td>United Kingdom</td>\n",
       "    </tr>\n",
       "    <tr>\n",
       "      <th>2010-01-04 10:43:00</th>\n",
       "      <td>79000</td>\n",
       "      <td>12</td>\n",
       "      <td>0.85</td>\n",
       "      <td>United Kingdom</td>\n",
       "    </tr>\n",
       "    <tr>\n",
       "      <th>2010-01-04 10:43:00</th>\n",
       "      <td>84499</td>\n",
       "      <td>12</td>\n",
       "      <td>0.85</td>\n",
       "      <td>United Kingdom</td>\n",
       "    </tr>\n",
       "    <tr>\n",
       "      <th>2010-01-04 10:43:00</th>\n",
       "      <td>72780</td>\n",
       "      <td>12</td>\n",
       "      <td>0.85</td>\n",
       "      <td>United Kingdom</td>\n",
       "    </tr>\n",
       "    <tr>\n",
       "      <th>2010-01-04 10:43:00</th>\n",
       "      <td>22214</td>\n",
       "      <td>6</td>\n",
       "      <td>2.55</td>\n",
       "      <td>United Kingdom</td>\n",
       "    </tr>\n",
       "    <tr>\n",
       "      <th>2010-01-04 10:43:00</th>\n",
       "      <td>72369A</td>\n",
       "      <td>6</td>\n",
       "      <td>1.25</td>\n",
       "      <td>United Kingdom</td>\n",
       "    </tr>\n",
       "    <tr>\n",
       "      <th>2010-01-04 10:43:00</th>\n",
       "      <td>21428</td>\n",
       "      <td>4</td>\n",
       "      <td>4.25</td>\n",
       "      <td>United Kingdom</td>\n",
       "    </tr>\n",
       "    <tr>\n",
       "      <th>2010-01-04 10:43:00</th>\n",
       "      <td>22178</td>\n",
       "      <td>12</td>\n",
       "      <td>1.25</td>\n",
       "      <td>United Kingdom</td>\n",
       "    </tr>\n",
       "    <tr>\n",
       "      <th>2010-01-04 10:43:00</th>\n",
       "      <td>84615</td>\n",
       "      <td>2</td>\n",
       "      <td>7.95</td>\n",
       "      <td>United Kingdom</td>\n",
       "    </tr>\n",
       "    <tr>\n",
       "      <th>2010-01-04 10:43:00</th>\n",
       "      <td>84686</td>\n",
       "      <td>2</td>\n",
       "      <td>4.25</td>\n",
       "      <td>United Kingdom</td>\n",
       "    </tr>\n",
       "    <tr>\n",
       "      <th>2010-01-04 10:43:00</th>\n",
       "      <td>21777</td>\n",
       "      <td>2</td>\n",
       "      <td>7.95</td>\n",
       "      <td>United Kingdom</td>\n",
       "    </tr>\n",
       "    <tr>\n",
       "      <th>2010-01-04 11:15:00</th>\n",
       "      <td>84563A</td>\n",
       "      <td>1</td>\n",
       "      <td>5.95</td>\n",
       "      <td>United Kingdom</td>\n",
       "    </tr>\n",
       "    <tr>\n",
       "      <th>...</th>\n",
       "      <td>...</td>\n",
       "      <td>...</td>\n",
       "      <td>...</td>\n",
       "      <td>...</td>\n",
       "    </tr>\n",
       "    <tr>\n",
       "      <th>2010-02-28 16:14:00</th>\n",
       "      <td>47592A</td>\n",
       "      <td>2</td>\n",
       "      <td>2.10</td>\n",
       "      <td>United Kingdom</td>\n",
       "    </tr>\n",
       "    <tr>\n",
       "      <th>2010-02-28 16:14:00</th>\n",
       "      <td>47592B</td>\n",
       "      <td>2</td>\n",
       "      <td>2.10</td>\n",
       "      <td>United Kingdom</td>\n",
       "    </tr>\n",
       "    <tr>\n",
       "      <th>2010-02-28 16:14:00</th>\n",
       "      <td>47591B</td>\n",
       "      <td>2</td>\n",
       "      <td>1.65</td>\n",
       "      <td>United Kingdom</td>\n",
       "    </tr>\n",
       "    <tr>\n",
       "      <th>2010-02-28 16:14:00</th>\n",
       "      <td>47591A</td>\n",
       "      <td>2</td>\n",
       "      <td>1.65</td>\n",
       "      <td>United Kingdom</td>\n",
       "    </tr>\n",
       "    <tr>\n",
       "      <th>2010-02-28 16:14:00</th>\n",
       "      <td>21156</td>\n",
       "      <td>2</td>\n",
       "      <td>1.95</td>\n",
       "      <td>United Kingdom</td>\n",
       "    </tr>\n",
       "    <tr>\n",
       "      <th>2010-02-28 16:14:00</th>\n",
       "      <td>85221</td>\n",
       "      <td>12</td>\n",
       "      <td>1.25</td>\n",
       "      <td>United Kingdom</td>\n",
       "    </tr>\n",
       "    <tr>\n",
       "      <th>2010-02-28 16:14:00</th>\n",
       "      <td>20728</td>\n",
       "      <td>1</td>\n",
       "      <td>1.65</td>\n",
       "      <td>United Kingdom</td>\n",
       "    </tr>\n",
       "    <tr>\n",
       "      <th>2010-02-28 16:14:00</th>\n",
       "      <td>22275</td>\n",
       "      <td>1</td>\n",
       "      <td>8.50</td>\n",
       "      <td>United Kingdom</td>\n",
       "    </tr>\n",
       "    <tr>\n",
       "      <th>2010-02-28 16:14:00</th>\n",
       "      <td>21621</td>\n",
       "      <td>2</td>\n",
       "      <td>8.50</td>\n",
       "      <td>United Kingdom</td>\n",
       "    </tr>\n",
       "    <tr>\n",
       "      <th>2010-02-28 16:14:00</th>\n",
       "      <td>21626</td>\n",
       "      <td>1</td>\n",
       "      <td>1.95</td>\n",
       "      <td>United Kingdom</td>\n",
       "    </tr>\n",
       "    <tr>\n",
       "      <th>2010-02-28 16:14:00</th>\n",
       "      <td>47589</td>\n",
       "      <td>2</td>\n",
       "      <td>5.45</td>\n",
       "      <td>United Kingdom</td>\n",
       "    </tr>\n",
       "    <tr>\n",
       "      <th>2010-02-28 16:14:00</th>\n",
       "      <td>40016</td>\n",
       "      <td>24</td>\n",
       "      <td>0.42</td>\n",
       "      <td>United Kingdom</td>\n",
       "    </tr>\n",
       "    <tr>\n",
       "      <th>2010-02-28 16:14:00</th>\n",
       "      <td>84670</td>\n",
       "      <td>12</td>\n",
       "      <td>0.42</td>\n",
       "      <td>United Kingdom</td>\n",
       "    </tr>\n",
       "    <tr>\n",
       "      <th>2010-02-28 16:14:00</th>\n",
       "      <td>20727</td>\n",
       "      <td>1</td>\n",
       "      <td>1.65</td>\n",
       "      <td>United Kingdom</td>\n",
       "    </tr>\n",
       "    <tr>\n",
       "      <th>2010-02-28 16:14:00</th>\n",
       "      <td>47347B</td>\n",
       "      <td>2</td>\n",
       "      <td>1.25</td>\n",
       "      <td>United Kingdom</td>\n",
       "    </tr>\n",
       "    <tr>\n",
       "      <th>2010-02-28 16:14:00</th>\n",
       "      <td>20750</td>\n",
       "      <td>1</td>\n",
       "      <td>7.95</td>\n",
       "      <td>United Kingdom</td>\n",
       "    </tr>\n",
       "    <tr>\n",
       "      <th>2010-02-28 16:14:00</th>\n",
       "      <td>21590</td>\n",
       "      <td>5</td>\n",
       "      <td>1.25</td>\n",
       "      <td>United Kingdom</td>\n",
       "    </tr>\n",
       "    <tr>\n",
       "      <th>2010-02-28 16:14:00</th>\n",
       "      <td>21653</td>\n",
       "      <td>2</td>\n",
       "      <td>2.10</td>\n",
       "      <td>United Kingdom</td>\n",
       "    </tr>\n",
       "    <tr>\n",
       "      <th>2010-02-28 16:14:00</th>\n",
       "      <td>47598</td>\n",
       "      <td>1</td>\n",
       "      <td>0.55</td>\n",
       "      <td>United Kingdom</td>\n",
       "    </tr>\n",
       "    <tr>\n",
       "      <th>2010-02-28 16:14:00</th>\n",
       "      <td>85093</td>\n",
       "      <td>2</td>\n",
       "      <td>1.25</td>\n",
       "      <td>United Kingdom</td>\n",
       "    </tr>\n",
       "    <tr>\n",
       "      <th>2010-02-28 16:14:00</th>\n",
       "      <td>82585</td>\n",
       "      <td>4</td>\n",
       "      <td>1.25</td>\n",
       "      <td>United Kingdom</td>\n",
       "    </tr>\n",
       "    <tr>\n",
       "      <th>2010-02-28 16:14:00</th>\n",
       "      <td>21987</td>\n",
       "      <td>2</td>\n",
       "      <td>0.65</td>\n",
       "      <td>United Kingdom</td>\n",
       "    </tr>\n",
       "    <tr>\n",
       "      <th>2010-02-28 16:14:00</th>\n",
       "      <td>20978</td>\n",
       "      <td>1</td>\n",
       "      <td>1.25</td>\n",
       "      <td>United Kingdom</td>\n",
       "    </tr>\n",
       "    <tr>\n",
       "      <th>2010-02-28 16:14:00</th>\n",
       "      <td>85200</td>\n",
       "      <td>12</td>\n",
       "      <td>1.25</td>\n",
       "      <td>United Kingdom</td>\n",
       "    </tr>\n",
       "    <tr>\n",
       "      <th>2010-02-28 16:14:00</th>\n",
       "      <td>84279P</td>\n",
       "      <td>1</td>\n",
       "      <td>3.75</td>\n",
       "      <td>United Kingdom</td>\n",
       "    </tr>\n",
       "    <tr>\n",
       "      <th>2010-02-28 16:14:00</th>\n",
       "      <td>84279B</td>\n",
       "      <td>1</td>\n",
       "      <td>3.75</td>\n",
       "      <td>United Kingdom</td>\n",
       "    </tr>\n",
       "    <tr>\n",
       "      <th>2010-02-28 16:14:00</th>\n",
       "      <td>84882</td>\n",
       "      <td>1</td>\n",
       "      <td>3.75</td>\n",
       "      <td>United Kingdom</td>\n",
       "    </tr>\n",
       "    <tr>\n",
       "      <th>2010-02-28 16:14:00</th>\n",
       "      <td>84882</td>\n",
       "      <td>1</td>\n",
       "      <td>3.75</td>\n",
       "      <td>United Kingdom</td>\n",
       "    </tr>\n",
       "    <tr>\n",
       "      <th>2010-02-28 16:14:00</th>\n",
       "      <td>44242B</td>\n",
       "      <td>5</td>\n",
       "      <td>1.25</td>\n",
       "      <td>United Kingdom</td>\n",
       "    </tr>\n",
       "    <tr>\n",
       "      <th>2010-02-28 16:16:00</th>\n",
       "      <td>10133</td>\n",
       "      <td>40</td>\n",
       "      <td>0.85</td>\n",
       "      <td>United Kingdom</td>\n",
       "    </tr>\n",
       "  </tbody>\n",
       "</table>\n",
       "<p>46345 rows × 4 columns</p>\n",
       "</div>"
      ],
      "text/plain": [
       "                    StockCode  Quantity  Price         Country\n",
       "InvoiceDate                                                   \n",
       "2010-01-04 09:24:00   TEST001         5   4.50  United Kingdom\n",
       "2010-01-04 09:43:00     21539        -1   4.25  United Kingdom\n",
       "2010-01-04 09:53:00   TEST001         5   4.50  United Kingdom\n",
       "2010-01-04 10:28:00     21844        36   2.55  United Kingdom\n",
       "2010-01-04 10:28:00     21533        12   4.25  United Kingdom\n",
       "2010-01-04 10:28:00     37508         2   2.55  United Kingdom\n",
       "2010-01-04 10:28:00    35001G         2   4.25  United Kingdom\n",
       "2010-01-04 10:28:00     21527        12   6.95  United Kingdom\n",
       "2010-01-04 10:28:00     21531        24   2.10  United Kingdom\n",
       "2010-01-04 10:33:00     21527        -3   7.95  United Kingdom\n",
       "2010-01-04 10:41:00     22109        -1   3.39  United Kingdom\n",
       "2010-01-04 10:43:00     82483         4   5.95  United Kingdom\n",
       "2010-01-04 10:43:00     21681         2   9.95  United Kingdom\n",
       "2010-01-04 10:43:00     21682         4   4.95  United Kingdom\n",
       "2010-01-04 10:43:00    18096C         6   2.55  United Kingdom\n",
       "2010-01-04 10:43:00     21577         6   2.25  United Kingdom\n",
       "2010-01-04 10:43:00     21576         6   2.25  United Kingdom\n",
       "2010-01-04 10:43:00     37447        12   1.49  United Kingdom\n",
       "2010-01-04 10:43:00     21232        12   1.25  United Kingdom\n",
       "2010-01-04 10:43:00     79000        12   0.85  United Kingdom\n",
       "2010-01-04 10:43:00     84499        12   0.85  United Kingdom\n",
       "2010-01-04 10:43:00     72780        12   0.85  United Kingdom\n",
       "2010-01-04 10:43:00     22214         6   2.55  United Kingdom\n",
       "2010-01-04 10:43:00    72369A         6   1.25  United Kingdom\n",
       "2010-01-04 10:43:00     21428         4   4.25  United Kingdom\n",
       "2010-01-04 10:43:00     22178        12   1.25  United Kingdom\n",
       "2010-01-04 10:43:00     84615         2   7.95  United Kingdom\n",
       "2010-01-04 10:43:00     84686         2   4.25  United Kingdom\n",
       "2010-01-04 10:43:00     21777         2   7.95  United Kingdom\n",
       "2010-01-04 11:15:00    84563A         1   5.95  United Kingdom\n",
       "...                       ...       ...    ...             ...\n",
       "2010-02-28 16:14:00    47592A         2   2.10  United Kingdom\n",
       "2010-02-28 16:14:00    47592B         2   2.10  United Kingdom\n",
       "2010-02-28 16:14:00    47591B         2   1.65  United Kingdom\n",
       "2010-02-28 16:14:00    47591A         2   1.65  United Kingdom\n",
       "2010-02-28 16:14:00     21156         2   1.95  United Kingdom\n",
       "2010-02-28 16:14:00     85221        12   1.25  United Kingdom\n",
       "2010-02-28 16:14:00     20728         1   1.65  United Kingdom\n",
       "2010-02-28 16:14:00     22275         1   8.50  United Kingdom\n",
       "2010-02-28 16:14:00     21621         2   8.50  United Kingdom\n",
       "2010-02-28 16:14:00     21626         1   1.95  United Kingdom\n",
       "2010-02-28 16:14:00     47589         2   5.45  United Kingdom\n",
       "2010-02-28 16:14:00     40016        24   0.42  United Kingdom\n",
       "2010-02-28 16:14:00     84670        12   0.42  United Kingdom\n",
       "2010-02-28 16:14:00     20727         1   1.65  United Kingdom\n",
       "2010-02-28 16:14:00    47347B         2   1.25  United Kingdom\n",
       "2010-02-28 16:14:00     20750         1   7.95  United Kingdom\n",
       "2010-02-28 16:14:00     21590         5   1.25  United Kingdom\n",
       "2010-02-28 16:14:00     21653         2   2.10  United Kingdom\n",
       "2010-02-28 16:14:00     47598         1   0.55  United Kingdom\n",
       "2010-02-28 16:14:00     85093         2   1.25  United Kingdom\n",
       "2010-02-28 16:14:00     82585         4   1.25  United Kingdom\n",
       "2010-02-28 16:14:00     21987         2   0.65  United Kingdom\n",
       "2010-02-28 16:14:00     20978         1   1.25  United Kingdom\n",
       "2010-02-28 16:14:00     85200        12   1.25  United Kingdom\n",
       "2010-02-28 16:14:00    84279P         1   3.75  United Kingdom\n",
       "2010-02-28 16:14:00    84279B         1   3.75  United Kingdom\n",
       "2010-02-28 16:14:00     84882         1   3.75  United Kingdom\n",
       "2010-02-28 16:14:00     84882         1   3.75  United Kingdom\n",
       "2010-02-28 16:14:00    44242B         5   1.25  United Kingdom\n",
       "2010-02-28 16:16:00     10133        40   0.85  United Kingdom\n",
       "\n",
       "[46345 rows x 4 columns]"
      ]
     },
     "execution_count": 12,
     "metadata": {},
     "output_type": "execute_result"
    }
   ],
   "source": [
    "retail['2010-01':'2010-02']"
   ]
  },
  {
   "cell_type": "markdown",
   "metadata": {},
   "source": [
    "O intervalo de datas começa em:"
   ]
  },
  {
   "cell_type": "code",
   "execution_count": 13,
   "metadata": {},
   "outputs": [
    {
     "data": {
      "text/plain": [
       "Timestamp('2009-12-01 07:45:00')"
      ]
     },
     "execution_count": 13,
     "metadata": {},
     "output_type": "execute_result"
    }
   ],
   "source": [
    "retail.index.min()"
   ]
  },
  {
   "cell_type": "markdown",
   "metadata": {},
   "source": [
    "O intervalo de datas termina em:"
   ]
  },
  {
   "cell_type": "code",
   "execution_count": 14,
   "metadata": {},
   "outputs": [
    {
     "data": {
      "text/plain": [
       "Timestamp('2010-12-09 20:01:00')"
      ]
     },
     "execution_count": 14,
     "metadata": {},
     "output_type": "execute_result"
    }
   ],
   "source": [
    "retail.index.max()"
   ]
  },
  {
   "cell_type": "markdown",
   "metadata": {},
   "source": [
    "Com o pandas, você pode extrair informações de data facilmente. Você pode extrair informações de data para explorar os dados mais detalhadamente e procurar tendências relacionadas ao tempo.\n",
    "\n",
    "Extraia o ano, o mês e o dia da semana."
   ]
  },
  {
   "cell_type": "code",
   "execution_count": 15,
   "metadata": {},
   "outputs": [],
   "source": [
    "retail['Year'] = retail.index.year\n",
    "retail['Month'] = retail.index.month\n",
    "retail['weekday_name'] = retail.index.day_name()"
   ]
  },
  {
   "cell_type": "code",
   "execution_count": 16,
   "metadata": {},
   "outputs": [
    {
     "data": {
      "text/html": [
       "<div>\n",
       "<style scoped>\n",
       "    .dataframe tbody tr th:only-of-type {\n",
       "        vertical-align: middle;\n",
       "    }\n",
       "\n",
       "    .dataframe tbody tr th {\n",
       "        vertical-align: top;\n",
       "    }\n",
       "\n",
       "    .dataframe thead th {\n",
       "        text-align: right;\n",
       "    }\n",
       "</style>\n",
       "<table border=\"1\" class=\"dataframe\">\n",
       "  <thead>\n",
       "    <tr style=\"text-align: right;\">\n",
       "      <th></th>\n",
       "      <th>StockCode</th>\n",
       "      <th>Quantity</th>\n",
       "      <th>Price</th>\n",
       "      <th>Country</th>\n",
       "      <th>Year</th>\n",
       "      <th>Month</th>\n",
       "      <th>weekday_name</th>\n",
       "    </tr>\n",
       "    <tr>\n",
       "      <th>InvoiceDate</th>\n",
       "      <th></th>\n",
       "      <th></th>\n",
       "      <th></th>\n",
       "      <th></th>\n",
       "      <th></th>\n",
       "      <th></th>\n",
       "      <th></th>\n",
       "    </tr>\n",
       "  </thead>\n",
       "  <tbody>\n",
       "    <tr>\n",
       "      <th>2009-12-01 07:45:00</th>\n",
       "      <td>85048</td>\n",
       "      <td>12</td>\n",
       "      <td>6.95</td>\n",
       "      <td>United Kingdom</td>\n",
       "      <td>2009</td>\n",
       "      <td>12</td>\n",
       "      <td>Tuesday</td>\n",
       "    </tr>\n",
       "    <tr>\n",
       "      <th>2009-12-01 07:45:00</th>\n",
       "      <td>79323P</td>\n",
       "      <td>12</td>\n",
       "      <td>6.75</td>\n",
       "      <td>United Kingdom</td>\n",
       "      <td>2009</td>\n",
       "      <td>12</td>\n",
       "      <td>Tuesday</td>\n",
       "    </tr>\n",
       "    <tr>\n",
       "      <th>2009-12-01 07:45:00</th>\n",
       "      <td>79323W</td>\n",
       "      <td>12</td>\n",
       "      <td>6.75</td>\n",
       "      <td>United Kingdom</td>\n",
       "      <td>2009</td>\n",
       "      <td>12</td>\n",
       "      <td>Tuesday</td>\n",
       "    </tr>\n",
       "    <tr>\n",
       "      <th>2009-12-01 07:45:00</th>\n",
       "      <td>22041</td>\n",
       "      <td>48</td>\n",
       "      <td>2.10</td>\n",
       "      <td>United Kingdom</td>\n",
       "      <td>2009</td>\n",
       "      <td>12</td>\n",
       "      <td>Tuesday</td>\n",
       "    </tr>\n",
       "    <tr>\n",
       "      <th>2009-12-01 07:45:00</th>\n",
       "      <td>21232</td>\n",
       "      <td>24</td>\n",
       "      <td>1.25</td>\n",
       "      <td>United Kingdom</td>\n",
       "      <td>2009</td>\n",
       "      <td>12</td>\n",
       "      <td>Tuesday</td>\n",
       "    </tr>\n",
       "  </tbody>\n",
       "</table>\n",
       "</div>"
      ],
      "text/plain": [
       "                    StockCode  Quantity  Price         Country  Year  Month  \\\n",
       "InvoiceDate                                                                   \n",
       "2009-12-01 07:45:00     85048        12   6.95  United Kingdom  2009     12   \n",
       "2009-12-01 07:45:00    79323P        12   6.75  United Kingdom  2009     12   \n",
       "2009-12-01 07:45:00    79323W        12   6.75  United Kingdom  2009     12   \n",
       "2009-12-01 07:45:00     22041        48   2.10  United Kingdom  2009     12   \n",
       "2009-12-01 07:45:00     21232        24   1.25  United Kingdom  2009     12   \n",
       "\n",
       "                    weekday_name  \n",
       "InvoiceDate                       \n",
       "2009-12-01 07:45:00      Tuesday  \n",
       "2009-12-01 07:45:00      Tuesday  \n",
       "2009-12-01 07:45:00      Tuesday  \n",
       "2009-12-01 07:45:00      Tuesday  \n",
       "2009-12-01 07:45:00      Tuesday  "
      ]
     },
     "execution_count": 16,
     "metadata": {},
     "output_type": "execute_result"
    }
   ],
   "source": [
    "retail.head()"
   ]
  },
  {
   "cell_type": "markdown",
   "metadata": {},
   "source": [
    "O conjunto de dados (dataset) que você agora tem inclui compras feitas entre dezembro de 2009 e dezembro de 2010. Podemos dizer que existiria alguma sazonalidade nesses dados. Agora você investigará se há sazonalidade."
   ]
  },
  {
   "cell_type": "code",
   "execution_count": 17,
   "metadata": {},
   "outputs": [
    {
     "data": {
      "text/plain": [
       "<matplotlib.axes._subplots.AxesSubplot at 0x7f3ddd3458d0>"
      ]
     },
     "execution_count": 17,
     "metadata": {},
     "output_type": "execute_result"
    },
    {
     "data": {
      "image/png": "[encoded data removed]",
      "text/plain": [
       "<Figure size 432x288 with 1 Axes>"
      ]
     },
     "metadata": {
      "needs_background": "light"
     },
     "output_type": "display_data"
    }
   ],
   "source": [
    "retail.Month.value_counts(sort=False).plot(kind='bar')"
   ]
  },
  {
   "cell_type": "markdown",
   "metadata": {},
   "source": [
    "A partir do gráfico, você pode deduzir alguma sazonalidade:\n",
    "\n",
    "1. Novembro e dezembro parecem ser superiores ao resto do ano.\n",
    "\n",
    "2. T4 parece ser superior que os outros trimestres.\n",
    "\n",
    "3. Para T1, T2 e T3: o último mês do trimestre (meses 3, 6 e 9) parece ter picos.\n",
    "\n",
    "Você observa outros padrões sazonais?"
   ]
  },
  {
   "cell_type": "markdown",
   "metadata": {},
   "source": [
    "Agora, investigue se há alguma sazonalidade durante a semana."
   ]
  },
  {
   "cell_type": "code",
   "execution_count": 18,
   "metadata": {},
   "outputs": [
    {
     "data": {
      "text/plain": [
       "<matplotlib.axes._subplots.AxesSubplot at 0x7f3ddc4e7650>"
      ]
     },
     "execution_count": 18,
     "metadata": {},
     "output_type": "execute_result"
    },
    {
     "data": {
      "image/png": "[encoded data removed]",
      "text/plain": [
       "<Figure size 432x288 with 1 Axes>"
      ]
     },
     "metadata": {
      "needs_background": "light"
     },
     "output_type": "display_data"
    }
   ],
   "source": [
    "day_order = [\"Monday\", \"Tuesday\", \"Wednesday\", \"Thursday\", \"Friday\", \"Saturday\", \"Sunday\"]\n",
    "retail.weekday_name.value_counts(sort=False).loc[day_order].plot(kind='bar')"
   ]
  },
  {
   "cell_type": "markdown",
   "metadata": {},
   "source": [
    "Sábado mostra muito poucos pedidos. Por que este pode ser o motivo?"
   ]
  },
  {
   "cell_type": "markdown",
   "metadata": {},
   "source": [
    "## Tarefa 3: Como limpar e reduzir o tamanho dos dados"
   ]
  },
  {
   "cell_type": "markdown",
   "metadata": {},
   "source": [
    "Nesta tarefa, você reduzirá o tamanho dos dados. Você também removerá quaisquer anomalias, como preços negativos, anomalias (outliers) e dados do país."
   ]
  },
  {
   "cell_type": "markdown",
   "metadata": {},
   "source": [
    "## Redução de países\n",
    "Examine os dados do **Country** (País)."
   ]
  },
  {
   "cell_type": "code",
   "execution_count": 19,
   "metadata": {},
   "outputs": [
    {
     "data": {
      "text/plain": [
       "array([u'United Kingdom', u'France', u'USA', u'Belgium', u'Australia',\n",
       "       u'EIRE', u'Germany', u'Portugal', u'Japan', u'Denmark',\n",
       "       u'Netherlands', u'Poland', u'Spain', u'Channel Islands', u'Italy',\n",
       "       u'Cyprus', u'Greece', u'Norway', u'Austria', u'Sweden',\n",
       "       u'United Arab Emirates', u'Finland', u'Switzerland',\n",
       "       u'Unspecified', u'Nigeria', u'Malta', u'RSA', u'Singapore',\n",
       "       u'Bahrain', u'Thailand', u'Israel', u'Lithuania', u'West Indies',\n",
       "       u'Korea', u'Brazil', u'Canada', u'Iceland'], dtype=object)"
      ]
     },
     "execution_count": 19,
     "metadata": {},
     "output_type": "execute_result"
    }
   ],
   "source": [
    "retail.Country.unique()"
   ]
  },
  {
   "cell_type": "code",
   "execution_count": 20,
   "metadata": {},
   "outputs": [
    {
     "data": {
      "text/plain": [
       "United Kingdom          379423\n",
       "EIRE                      8710\n",
       "Germany                   8129\n",
       "France                    5710\n",
       "Netherlands               2769\n",
       "Spain                     1278\n",
       "Switzerland               1187\n",
       "Belgium                   1054\n",
       "Portugal                  1024\n",
       "Channel Islands            906\n",
       "Sweden                     883\n",
       "Italy                      731\n",
       "Australia                  654\n",
       "Cyprus                     554\n",
       "Austria                    537\n",
       "Greece                     517\n",
       "Denmark                    428\n",
       "Norway                     369\n",
       "Finland                    354\n",
       "United Arab Emirates       318\n",
       "Unspecified                280\n",
       "USA                        244\n",
       "Japan                      224\n",
       "Poland                     194\n",
       "Malta                      172\n",
       "Lithuania                  154\n",
       "Singapore                  117\n",
       "Canada                      77\n",
       "Thailand                    76\n",
       "Israel                      74\n",
       "Iceland                     71\n",
       "RSA                         65\n",
       "Korea                       63\n",
       "Brazil                      62\n",
       "West Indies                 54\n",
       "Bahrain                     42\n",
       "Nigeria                     30\n",
       "Name: Country, dtype: int64"
      ]
     },
     "execution_count": 20,
     "metadata": {},
     "output_type": "execute_result"
    }
   ],
   "source": [
    "retail.Country.value_counts()"
   ]
  },
  {
   "cell_type": "markdown",
   "metadata": {},
   "source": [
    "A maioria dos dados parece ser do Reino Unido. Para facilitar o trabalho, filtre os dados por *United Kingdom* (Reino Unido)."
   ]
  },
  {
   "cell_type": "code",
   "execution_count": 21,
   "metadata": {},
   "outputs": [],
   "source": [
    "country_filter = ['United Kingdom']\n",
    "retail = retail[retail.Country.isin(country_filter)]"
   ]
  },
  {
   "cell_type": "markdown",
   "metadata": {},
   "source": [
    "Como a coluna **Country** (País) contém apenas o mesmo valor, você pode descartá-la."
   ]
  },
  {
   "cell_type": "code",
   "execution_count": 22,
   "metadata": {},
   "outputs": [],
   "source": [
    "retail = retail[['StockCode','Quantity','Price']]"
   ]
  },
  {
   "cell_type": "code",
   "execution_count": 23,
   "metadata": {},
   "outputs": [
    {
     "data": {
      "text/html": [
       "<div>\n",
       "<style scoped>\n",
       "    .dataframe tbody tr th:only-of-type {\n",
       "        vertical-align: middle;\n",
       "    }\n",
       "\n",
       "    .dataframe tbody tr th {\n",
       "        vertical-align: top;\n",
       "    }\n",
       "\n",
       "    .dataframe thead th {\n",
       "        text-align: right;\n",
       "    }\n",
       "</style>\n",
       "<table border=\"1\" class=\"dataframe\">\n",
       "  <thead>\n",
       "    <tr style=\"text-align: right;\">\n",
       "      <th></th>\n",
       "      <th>StockCode</th>\n",
       "      <th>Quantity</th>\n",
       "      <th>Price</th>\n",
       "    </tr>\n",
       "    <tr>\n",
       "      <th>InvoiceDate</th>\n",
       "      <th></th>\n",
       "      <th></th>\n",
       "      <th></th>\n",
       "    </tr>\n",
       "  </thead>\n",
       "  <tbody>\n",
       "    <tr>\n",
       "      <th>2009-12-01 07:45:00</th>\n",
       "      <td>85048</td>\n",
       "      <td>12</td>\n",
       "      <td>6.95</td>\n",
       "    </tr>\n",
       "    <tr>\n",
       "      <th>2009-12-01 07:45:00</th>\n",
       "      <td>79323P</td>\n",
       "      <td>12</td>\n",
       "      <td>6.75</td>\n",
       "    </tr>\n",
       "    <tr>\n",
       "      <th>2009-12-01 07:45:00</th>\n",
       "      <td>79323W</td>\n",
       "      <td>12</td>\n",
       "      <td>6.75</td>\n",
       "    </tr>\n",
       "    <tr>\n",
       "      <th>2009-12-01 07:45:00</th>\n",
       "      <td>22041</td>\n",
       "      <td>48</td>\n",
       "      <td>2.10</td>\n",
       "    </tr>\n",
       "    <tr>\n",
       "      <th>2009-12-01 07:45:00</th>\n",
       "      <td>21232</td>\n",
       "      <td>24</td>\n",
       "      <td>1.25</td>\n",
       "    </tr>\n",
       "  </tbody>\n",
       "</table>\n",
       "</div>"
      ],
      "text/plain": [
       "                    StockCode  Quantity  Price\n",
       "InvoiceDate                                   \n",
       "2009-12-01 07:45:00     85048        12   6.95\n",
       "2009-12-01 07:45:00    79323P        12   6.75\n",
       "2009-12-01 07:45:00    79323W        12   6.75\n",
       "2009-12-01 07:45:00     22041        48   2.10\n",
       "2009-12-01 07:45:00     21232        24   1.25"
      ]
     },
     "execution_count": 23,
     "metadata": {},
     "output_type": "execute_result"
    }
   ],
   "source": [
    "retail.head()"
   ]
  },
  {
   "cell_type": "markdown",
   "metadata": {},
   "source": [
    "## Como examinar o StockCode e remover anomalias\n",
    "\n",
    "Examine a distribuição da coluna **StockCode** (Código do produto):"
   ]
  },
  {
   "cell_type": "code",
   "execution_count": 24,
   "metadata": {},
   "outputs": [
    {
     "data": {
      "text/plain": [
       "count     379423\n",
       "unique      4015\n",
       "top       85123A\n",
       "freq        3140\n",
       "Name: StockCode, dtype: object"
      ]
     },
     "execution_count": 24,
     "metadata": {},
     "output_type": "execute_result"
    }
   ],
   "source": [
    "retail.StockCode.describe()"
   ]
  },
  {
   "cell_type": "markdown",
   "metadata": {},
   "source": [
    "Existem 4.015 valores exclusivos para **StockCode** (Código do produto). Um gráfico rápido das contagens pode fornecer informações sobre como os valores são distribuídos."
   ]
  },
  {
   "cell_type": "code",
   "execution_count": 25,
   "metadata": {},
   "outputs": [
    {
     "data": {
      "text/plain": [
       "<matplotlib.axes._subplots.AxesSubplot at 0x7f3ddc503210>"
      ]
     },
     "execution_count": 25,
     "metadata": {},
     "output_type": "execute_result"
    },
    {
     "data": {
      "image/png": "[encoded data removed]",
      "text/plain": [
       "<Figure size 432x288 with 1 Axes>"
      ]
     },
     "metadata": {
      "needs_background": "light"
     },
     "output_type": "display_data"
    }
   ],
   "source": [
    "retail.StockCode.value_counts().plot()"
   ]
  },
  {
   "cell_type": "markdown",
   "metadata": {},
   "source": [
    "Parece que há alguns produtos de alta venda, com uma caracteristica de long tail (número grande de vendas, mas em pequenas quantidades) por trás deles. Você pode investigar essa situação com mais detalhes futuramente. No entanto, por enquanto, examine **Quantity** (Quantidade)."
   ]
  },
  {
   "cell_type": "code",
   "execution_count": 26,
   "metadata": {},
   "outputs": [
    {
     "data": {
      "text/plain": [
       "count    379423.000000\n",
       "mean         11.451517\n",
       "std          68.943709\n",
       "min       -9360.000000\n",
       "25%           2.000000\n",
       "50%           4.000000\n",
       "75%          12.000000\n",
       "max       10000.000000\n",
       "Name: Quantity, dtype: float64"
      ]
     },
     "execution_count": 26,
     "metadata": {},
     "output_type": "execute_result"
    }
   ],
   "source": [
    "retail.Quantity.describe()"
   ]
  },
  {
   "cell_type": "code",
   "execution_count": 27,
   "metadata": {},
   "outputs": [
    {
     "data": {
      "text/plain": [
       "<matplotlib.axes._subplots.AxesSubplot at 0x7f3ddc476090>"
      ]
     },
     "execution_count": 27,
     "metadata": {},
     "output_type": "execute_result"
    },
    {
     "data": {
      "image/png": "[encoded data removed]",
      "text/plain": [
       "<Figure size 432x288 with 1 Axes>"
      ]
     },
     "metadata": {
      "needs_background": "light"
     },
     "output_type": "display_data"
    }
   ],
   "source": [
    "retail.Quantity.plot()"
   ]
  },
  {
   "cell_type": "markdown",
   "metadata": {},
   "source": [
    "No gráfico inicial, observe alguns aspectos interessantes.\n",
    "\n",
    "1. Parece haver quantidades negativas.\n",
    "\n",
    "2. Há picos muito grandes ao longo do ano.\n"
   ]
  },
  {
   "cell_type": "markdown",
   "metadata": {},
   "source": [
    "As quantidades negativas e zeradas poderão afetar a previsão, se você não souber o motivo da existência desses valores. Para facilitar as coisas por enquanto, você removerá as quantidades negativas e zeradas"
   ]
  },
  {
   "cell_type": "code",
   "execution_count": 28,
   "metadata": {},
   "outputs": [],
   "source": [
    "retail = retail[retail.Quantity>0]"
   ]
  },
  {
   "cell_type": "markdown",
   "metadata": {},
   "source": [
    "Now, examine **Price**."
   ]
  },
  {
   "cell_type": "code",
   "execution_count": 29,
   "metadata": {},
   "outputs": [
    {
     "data": {
      "text/plain": [
       "count    370951.000000\n",
       "mean          3.145220\n",
       "std          30.551482\n",
       "min           0.000000\n",
       "25%           1.250000\n",
       "50%           1.950000\n",
       "75%           3.750000\n",
       "max       10953.500000\n",
       "Name: Price, dtype: float64"
      ]
     },
     "execution_count": 29,
     "metadata": {},
     "output_type": "execute_result"
    }
   ],
   "source": [
    "retail.Price.describe()"
   ]
  },
  {
   "cell_type": "code",
   "execution_count": 30,
   "metadata": {},
   "outputs": [
    {
     "data": {
      "text/plain": [
       "<matplotlib.axes._subplots.AxesSubplot at 0x7f3ddc456f50>"
      ]
     },
     "execution_count": 30,
     "metadata": {},
     "output_type": "execute_result"
    },
    {
     "data": {
      "image/png": "[encoded data removed]",
      "text/plain": [
       "<Figure size 432x288 with 1 Axes>"
      ]
     },
     "metadata": {
      "needs_background": "light"
     },
     "output_type": "display_data"
    }
   ],
   "source": [
    "retail.Price.plot()"
   ]
  },
  {
   "cell_type": "markdown",
   "metadata": {},
   "source": [
    "O gráfico mostra alguns picos claros de preço. Agora, você tentará descobrir o motivo da existência desses picos."
   ]
  },
  {
   "cell_type": "code",
   "execution_count": 31,
   "metadata": {},
   "outputs": [
    {
     "data": {
      "text/html": [
       "<div>\n",
       "<style scoped>\n",
       "    .dataframe tbody tr th:only-of-type {\n",
       "        vertical-align: middle;\n",
       "    }\n",
       "\n",
       "    .dataframe tbody tr th {\n",
       "        vertical-align: top;\n",
       "    }\n",
       "\n",
       "    .dataframe thead th {\n",
       "        text-align: right;\n",
       "    }\n",
       "</style>\n",
       "<table border=\"1\" class=\"dataframe\">\n",
       "  <thead>\n",
       "    <tr style=\"text-align: right;\">\n",
       "      <th></th>\n",
       "      <th>StockCode</th>\n",
       "      <th>Quantity</th>\n",
       "      <th>Price</th>\n",
       "    </tr>\n",
       "    <tr>\n",
       "      <th>InvoiceDate</th>\n",
       "      <th></th>\n",
       "      <th></th>\n",
       "      <th></th>\n",
       "    </tr>\n",
       "  </thead>\n",
       "  <tbody>\n",
       "    <tr>\n",
       "      <th>2009-12-10 11:50:00</th>\n",
       "      <td>M</td>\n",
       "      <td>1</td>\n",
       "      <td>1213.02</td>\n",
       "    </tr>\n",
       "    <tr>\n",
       "      <th>2010-01-29 11:04:00</th>\n",
       "      <td>M</td>\n",
       "      <td>1</td>\n",
       "      <td>8985.60</td>\n",
       "    </tr>\n",
       "    <tr>\n",
       "      <th>2010-03-23 15:22:00</th>\n",
       "      <td>M</td>\n",
       "      <td>1</td>\n",
       "      <td>10953.50</td>\n",
       "    </tr>\n",
       "    <tr>\n",
       "      <th>2010-06-08 16:39:00</th>\n",
       "      <td>M</td>\n",
       "      <td>1</td>\n",
       "      <td>849.45</td>\n",
       "    </tr>\n",
       "    <tr>\n",
       "      <th>2010-06-11 15:54:00</th>\n",
       "      <td>M</td>\n",
       "      <td>1</td>\n",
       "      <td>1000.63</td>\n",
       "    </tr>\n",
       "  </tbody>\n",
       "</table>\n",
       "</div>"
      ],
      "text/plain": [
       "                    StockCode  Quantity     Price\n",
       "InvoiceDate                                      \n",
       "2009-12-10 11:50:00         M         1   1213.02\n",
       "2010-01-29 11:04:00         M         1   8985.60\n",
       "2010-03-23 15:22:00         M         1  10953.50\n",
       "2010-06-08 16:39:00         M         1    849.45\n",
       "2010-06-11 15:54:00         M         1   1000.63"
      ]
     },
     "execution_count": 31,
     "metadata": {},
     "output_type": "execute_result"
    }
   ],
   "source": [
    "retail[retail.Price>500].head()"
   ]
  },
  {
   "cell_type": "markdown",
   "metadata": {},
   "source": [
    "O valor **StockCode** (Código do produto) de *M* parece incomum. Se você tiver acesso a um especialista em domínio, poderá saber mais sobre a importância do *M*. Como você não pode solicitar um especialista em domínio para este laboratório, descartará tudo que tiver um valor **StockCode** de *M*."
   ]
  },
  {
   "cell_type": "code",
   "execution_count": 32,
   "metadata": {},
   "outputs": [],
   "source": [
    "retail = retail[retail.StockCode!='M']"
   ]
  },
  {
   "cell_type": "code",
   "execution_count": 33,
   "metadata": {},
   "outputs": [
    {
     "data": {
      "text/plain": [
       "count    370576.000000\n",
       "mean          3.009463\n",
       "std           4.576951\n",
       "min           0.000000\n",
       "25%           1.250000\n",
       "50%           1.950000\n",
       "75%           3.750000\n",
       "max         387.540000\n",
       "Name: Price, dtype: float64"
      ]
     },
     "execution_count": 33,
     "metadata": {},
     "output_type": "execute_result"
    }
   ],
   "source": [
    "retail.Price.describe()"
   ]
  },
  {
   "cell_type": "markdown",
   "metadata": {},
   "source": [
    "Esse resultado é melhor, mas o valor **max** ainda é alto. Você investigará essa situação em mais detalhes futuramente."
   ]
  },
  {
   "cell_type": "code",
   "execution_count": 34,
   "metadata": {},
   "outputs": [
    {
     "data": {
      "text/html": [
       "<div>\n",
       "<style scoped>\n",
       "    .dataframe tbody tr th:only-of-type {\n",
       "        vertical-align: middle;\n",
       "    }\n",
       "\n",
       "    .dataframe tbody tr th {\n",
       "        vertical-align: top;\n",
       "    }\n",
       "\n",
       "    .dataframe thead th {\n",
       "        text-align: right;\n",
       "    }\n",
       "</style>\n",
       "<table border=\"1\" class=\"dataframe\">\n",
       "  <thead>\n",
       "    <tr style=\"text-align: right;\">\n",
       "      <th></th>\n",
       "      <th>StockCode</th>\n",
       "      <th>Quantity</th>\n",
       "      <th>Price</th>\n",
       "    </tr>\n",
       "    <tr>\n",
       "      <th>InvoiceDate</th>\n",
       "      <th></th>\n",
       "      <th></th>\n",
       "      <th></th>\n",
       "    </tr>\n",
       "  </thead>\n",
       "  <tbody>\n",
       "    <tr>\n",
       "      <th>2010-01-26 16:29:00</th>\n",
       "      <td>ADJUST</td>\n",
       "      <td>1</td>\n",
       "      <td>342.80</td>\n",
       "    </tr>\n",
       "    <tr>\n",
       "      <th>2010-01-26 17:28:00</th>\n",
       "      <td>ADJUST</td>\n",
       "      <td>1</td>\n",
       "      <td>387.54</td>\n",
       "    </tr>\n",
       "    <tr>\n",
       "      <th>2010-06-25 14:15:00</th>\n",
       "      <td>ADJUST2</td>\n",
       "      <td>1</td>\n",
       "      <td>300.13</td>\n",
       "    </tr>\n",
       "    <tr>\n",
       "      <th>2010-06-25 14:15:00</th>\n",
       "      <td>ADJUST2</td>\n",
       "      <td>1</td>\n",
       "      <td>358.47</td>\n",
       "    </tr>\n",
       "    <tr>\n",
       "      <th>2010-08-04 11:38:00</th>\n",
       "      <td>POST</td>\n",
       "      <td>1</td>\n",
       "      <td>334.88</td>\n",
       "    </tr>\n",
       "  </tbody>\n",
       "</table>\n",
       "</div>"
      ],
      "text/plain": [
       "                    StockCode  Quantity   Price\n",
       "InvoiceDate                                    \n",
       "2010-01-26 16:29:00    ADJUST         1  342.80\n",
       "2010-01-26 17:28:00    ADJUST         1  387.54\n",
       "2010-06-25 14:15:00   ADJUST2         1  300.13\n",
       "2010-06-25 14:15:00   ADJUST2         1  358.47\n",
       "2010-08-04 11:38:00      POST         1  334.88"
      ]
     },
     "execution_count": 34,
     "metadata": {},
     "output_type": "execute_result"
    }
   ],
   "source": [
    "retail[retail.Price>300].head(20)"
   ]
  },
  {
   "cell_type": "markdown",
   "metadata": {},
   "source": [
    "Parece que ocorreram alguns ajustes. Você também descartará todos os dados que mostram esses ajustes."
   ]
  },
  {
   "cell_type": "code",
   "execution_count": 35,
   "metadata": {},
   "outputs": [],
   "source": [
    "stockcodes = ['ADJUST', 'ADJUST2', 'POST']\n",
    "retail = retail[~retail.StockCode.isin(stockcodes)]"
   ]
  },
  {
   "cell_type": "code",
   "execution_count": 36,
   "metadata": {},
   "outputs": [
    {
     "data": {
      "text/plain": [
       "count    370554.000000\n",
       "mean          3.002500\n",
       "std           4.363688\n",
       "min           0.000000\n",
       "25%           1.250000\n",
       "50%           1.950000\n",
       "75%           3.750000\n",
       "max         295.000000\n",
       "Name: Price, dtype: float64"
      ]
     },
     "execution_count": 36,
     "metadata": {},
     "output_type": "execute_result"
    }
   ],
   "source": [
    "retail.Price.describe()"
   ]
  },
  {
   "cell_type": "markdown",
   "metadata": {},
   "source": [
    "Agora, você examinará itens com preço zero."
   ]
  },
  {
   "cell_type": "code",
   "execution_count": 37,
   "metadata": {},
   "outputs": [
    {
     "data": {
      "text/plain": [
       "<bound method DataFrame.count of                     StockCode  Quantity  Price\n",
       "InvoiceDate                                   \n",
       "2009-12-02 13:34:00     22076        12    0.0\n",
       "2009-12-03 11:19:00     48185         2    0.0\n",
       "2009-12-08 15:25:00     22065         1    0.0\n",
       "2009-12-08 15:25:00     22142        12    0.0\n",
       "2009-12-15 13:49:00     85042         8    0.0\n",
       "2009-12-18 14:22:00     21143        12    0.0\n",
       "2010-01-06 14:54:00     79320        24    0.0\n",
       "2010-01-15 12:43:00     21533        12    0.0\n",
       "2010-02-12 14:58:00   TEST001         5    0.0\n",
       "2010-02-12 15:47:00   TEST001         5    0.0\n",
       "2010-03-04 11:44:00     21662         1    0.0\n",
       "2010-04-01 17:13:00     22459         8    0.0\n",
       "2010-04-01 17:13:00     22458         8    0.0\n",
       "2010-06-11 11:12:00     21765         1    0.0\n",
       "2010-06-17 10:12:00     20914         2    0.0\n",
       "2010-06-24 12:34:00     22423         5    0.0\n",
       "2010-07-19 13:13:00     22690         6    0.0\n",
       "2010-09-27 16:59:00    46000M       648    0.0\n",
       "2010-09-30 12:19:00     22218         2    0.0\n",
       "2010-10-18 15:13:00     22121         1    0.0\n",
       "2010-11-07 14:26:00     21843         2    0.0>"
      ]
     },
     "execution_count": 37,
     "metadata": {},
     "output_type": "execute_result"
    }
   ],
   "source": [
    "retail[retail.Price==0].count"
   ]
  },
  {
   "cell_type": "markdown",
   "metadata": {},
   "source": [
    "Não há muitos valores nesses resultados, portanto, você pode descartar itens com preço zero."
   ]
  },
  {
   "cell_type": "code",
   "execution_count": 38,
   "metadata": {},
   "outputs": [],
   "source": [
    "retail = retail[retail.Price>0]"
   ]
  },
  {
   "cell_type": "markdown",
   "metadata": {},
   "source": [
    "### Dividir os dados"
   ]
  },
  {
   "cell_type": "markdown",
   "metadata": {},
   "source": [
    "Os dados de séries temporais necessários para criar uma previsão exigem um *timestamp*, um *itemId* e um *demand* (demanda). Esses recursos serão mapeados para as colunas **InvoiceDate** (Data da fatura), **StockCode** (Código do produto) e **Quantity** (Quantidade).\n",
    "\n",
    "Os dados relacionados de séries temporais precisam de um *timestamp*, um *itemId* e um *price* (preço). Esses recursos serão mapeados para as colunas **InvoiceDate** (Data da fatura), **StockCode** (Código do produto) e **Price** (Preço).\n",
    "\n",
    "Crie os dois DataFrames:"
   ]
  },
  {
   "cell_type": "code",
   "execution_count": 39,
   "metadata": {},
   "outputs": [],
   "source": [
    "df_time_series = retail[['StockCode','Quantity']]\n",
    "df_related_time_series = retail[['StockCode','Price']]"
   ]
  },
  {
   "cell_type": "markdown",
   "metadata": {},
   "source": [
    "### Downsampling"
   ]
  },
  {
   "cell_type": "markdown",
   "metadata": {},
   "source": [
    "Agora você examinará um único item."
   ]
  },
  {
   "cell_type": "code",
   "execution_count": 40,
   "metadata": {},
   "outputs": [
    {
     "data": {
      "text/html": [
       "<div>\n",
       "<style scoped>\n",
       "    .dataframe tbody tr th:only-of-type {\n",
       "        vertical-align: middle;\n",
       "    }\n",
       "\n",
       "    .dataframe tbody tr th {\n",
       "        vertical-align: top;\n",
       "    }\n",
       "\n",
       "    .dataframe thead th {\n",
       "        text-align: right;\n",
       "    }\n",
       "</style>\n",
       "<table border=\"1\" class=\"dataframe\">\n",
       "  <thead>\n",
       "    <tr style=\"text-align: right;\">\n",
       "      <th></th>\n",
       "      <th>StockCode</th>\n",
       "      <th>Quantity</th>\n",
       "    </tr>\n",
       "    <tr>\n",
       "      <th>InvoiceDate</th>\n",
       "      <th></th>\n",
       "      <th></th>\n",
       "    </tr>\n",
       "  </thead>\n",
       "  <tbody>\n",
       "    <tr>\n",
       "      <th>2009-12-01 07:45:00</th>\n",
       "      <td>21232</td>\n",
       "      <td>24</td>\n",
       "    </tr>\n",
       "    <tr>\n",
       "      <th>2009-12-01 10:49:00</th>\n",
       "      <td>21232</td>\n",
       "      <td>48</td>\n",
       "    </tr>\n",
       "    <tr>\n",
       "      <th>2009-12-01 12:13:00</th>\n",
       "      <td>21232</td>\n",
       "      <td>3</td>\n",
       "    </tr>\n",
       "    <tr>\n",
       "      <th>2009-12-01 12:14:00</th>\n",
       "      <td>21232</td>\n",
       "      <td>20</td>\n",
       "    </tr>\n",
       "    <tr>\n",
       "      <th>2009-12-01 13:31:00</th>\n",
       "      <td>21232</td>\n",
       "      <td>4</td>\n",
       "    </tr>\n",
       "    <tr>\n",
       "      <th>2009-12-01 13:37:00</th>\n",
       "      <td>21232</td>\n",
       "      <td>12</td>\n",
       "    </tr>\n",
       "    <tr>\n",
       "      <th>2009-12-01 13:43:00</th>\n",
       "      <td>21232</td>\n",
       "      <td>24</td>\n",
       "    </tr>\n",
       "    <tr>\n",
       "      <th>2009-12-01 14:19:00</th>\n",
       "      <td>21232</td>\n",
       "      <td>12</td>\n",
       "    </tr>\n",
       "    <tr>\n",
       "      <th>2009-12-01 15:26:00</th>\n",
       "      <td>21232</td>\n",
       "      <td>12</td>\n",
       "    </tr>\n",
       "    <tr>\n",
       "      <th>2009-12-01 16:18:00</th>\n",
       "      <td>21232</td>\n",
       "      <td>12</td>\n",
       "    </tr>\n",
       "  </tbody>\n",
       "</table>\n",
       "</div>"
      ],
      "text/plain": [
       "                    StockCode  Quantity\n",
       "InvoiceDate                            \n",
       "2009-12-01 07:45:00     21232        24\n",
       "2009-12-01 10:49:00     21232        48\n",
       "2009-12-01 12:13:00     21232         3\n",
       "2009-12-01 12:14:00     21232        20\n",
       "2009-12-01 13:31:00     21232         4\n",
       "2009-12-01 13:37:00     21232        12\n",
       "2009-12-01 13:43:00     21232        24\n",
       "2009-12-01 14:19:00     21232        12\n",
       "2009-12-01 15:26:00     21232        12\n",
       "2009-12-01 16:18:00     21232        12"
      ]
     },
     "execution_count": 40,
     "metadata": {},
     "output_type": "execute_result"
    }
   ],
   "source": [
    "df_time_series[df_time_series.StockCode==21232]['2009-12-01']"
   ]
  },
  {
   "cell_type": "markdown",
   "metadata": {},
   "source": [
    "Você pode ver vários pedidos para cada dia. Você quer criar uma previsão que prevê a demanda em valores totais diários.\n",
    "\n",
    "Você deve *fazer downsample* dos dados dos pedidos individuais em um valor total diário.\n",
    "\n",
    "Os pedidos para cada dia podem ser somados, pois a demanda total para o dia é o valor que você prevê.\n",
    "\n",
    "O pandas fornece a função `resample` para essa finalidade. `sum` somará a coluna **Quantity** (Quantidade). Você também redefinirá o índice com base no valor **InvoiceDate** (Data da fatura). No entanto, desta vez, será uma data sem a parte do tempo.\n",
    "\n",
    "**Observação:** Pode levar até 1 minuto para que esse processo seja concluído."
   ]
  },
  {
   "cell_type": "code",
   "execution_count": 41,
   "metadata": {},
   "outputs": [],
   "source": [
    "df_time_series = df_time_series.groupby('StockCode').resample('D').sum().reset_index()"
   ]
  },
  {
   "cell_type": "code",
   "execution_count": 42,
   "metadata": {},
   "outputs": [
    {
     "data": {
      "text/html": [
       "<div>\n",
       "<style scoped>\n",
       "    .dataframe tbody tr th:only-of-type {\n",
       "        vertical-align: middle;\n",
       "    }\n",
       "\n",
       "    .dataframe tbody tr th {\n",
       "        vertical-align: top;\n",
       "    }\n",
       "\n",
       "    .dataframe thead th {\n",
       "        text-align: right;\n",
       "    }\n",
       "</style>\n",
       "<table border=\"1\" class=\"dataframe\">\n",
       "  <thead>\n",
       "    <tr style=\"text-align: right;\">\n",
       "      <th></th>\n",
       "      <th>StockCode</th>\n",
       "      <th>Quantity</th>\n",
       "    </tr>\n",
       "    <tr>\n",
       "      <th>InvoiceDate</th>\n",
       "      <th></th>\n",
       "      <th></th>\n",
       "    </tr>\n",
       "  </thead>\n",
       "  <tbody>\n",
       "    <tr>\n",
       "      <th>2009-12-01</th>\n",
       "      <td>10002</td>\n",
       "      <td>12</td>\n",
       "    </tr>\n",
       "    <tr>\n",
       "      <th>2009-12-02</th>\n",
       "      <td>10002</td>\n",
       "      <td>0</td>\n",
       "    </tr>\n",
       "    <tr>\n",
       "      <th>2009-12-03</th>\n",
       "      <td>10002</td>\n",
       "      <td>7</td>\n",
       "    </tr>\n",
       "    <tr>\n",
       "      <th>2009-12-04</th>\n",
       "      <td>10002</td>\n",
       "      <td>25</td>\n",
       "    </tr>\n",
       "    <tr>\n",
       "      <th>2009-12-05</th>\n",
       "      <td>10002</td>\n",
       "      <td>0</td>\n",
       "    </tr>\n",
       "  </tbody>\n",
       "</table>\n",
       "</div>"
      ],
      "text/plain": [
       "            StockCode  Quantity\n",
       "InvoiceDate                    \n",
       "2009-12-01      10002        12\n",
       "2009-12-02      10002         0\n",
       "2009-12-03      10002         7\n",
       "2009-12-04      10002        25\n",
       "2009-12-05      10002         0"
      ]
     },
     "execution_count": 42,
     "metadata": {},
     "output_type": "execute_result"
    }
   ],
   "source": [
    "df_time_series['InvoiceDate'] = pd.to_datetime(df_time_series.InvoiceDate)\n",
    "df_time_series = df_time_series.set_index('InvoiceDate')\n",
    "df_time_series.head()"
   ]
  },
  {
   "cell_type": "code",
   "execution_count": 43,
   "metadata": {},
   "outputs": [],
   "source": [
    "df_time_series = df_time_series.groupby('StockCode').resample('D').sum().reset_index().set_index(['InvoiceDate'])"
   ]
  },
  {
   "cell_type": "markdown",
   "metadata": {},
   "source": [
    "Examine o novo DataFrame."
   ]
  },
  {
   "cell_type": "code",
   "execution_count": 44,
   "metadata": {},
   "outputs": [
    {
     "data": {
      "text/html": [
       "<div>\n",
       "<style scoped>\n",
       "    .dataframe tbody tr th:only-of-type {\n",
       "        vertical-align: middle;\n",
       "    }\n",
       "\n",
       "    .dataframe tbody tr th {\n",
       "        vertical-align: top;\n",
       "    }\n",
       "\n",
       "    .dataframe thead th {\n",
       "        text-align: right;\n",
       "    }\n",
       "</style>\n",
       "<table border=\"1\" class=\"dataframe\">\n",
       "  <thead>\n",
       "    <tr style=\"text-align: right;\">\n",
       "      <th></th>\n",
       "      <th>StockCode</th>\n",
       "      <th>Quantity</th>\n",
       "    </tr>\n",
       "    <tr>\n",
       "      <th>InvoiceDate</th>\n",
       "      <th></th>\n",
       "      <th></th>\n",
       "    </tr>\n",
       "  </thead>\n",
       "  <tbody>\n",
       "    <tr>\n",
       "      <th>2009-12-01</th>\n",
       "      <td>21232</td>\n",
       "      <td>171</td>\n",
       "    </tr>\n",
       "    <tr>\n",
       "      <th>2009-12-02</th>\n",
       "      <td>21232</td>\n",
       "      <td>164</td>\n",
       "    </tr>\n",
       "    <tr>\n",
       "      <th>2009-12-03</th>\n",
       "      <td>21232</td>\n",
       "      <td>192</td>\n",
       "    </tr>\n",
       "    <tr>\n",
       "      <th>2009-12-04</th>\n",
       "      <td>21232</td>\n",
       "      <td>264</td>\n",
       "    </tr>\n",
       "    <tr>\n",
       "      <th>2009-12-05</th>\n",
       "      <td>21232</td>\n",
       "      <td>36</td>\n",
       "    </tr>\n",
       "    <tr>\n",
       "      <th>2009-12-06</th>\n",
       "      <td>21232</td>\n",
       "      <td>54</td>\n",
       "    </tr>\n",
       "    <tr>\n",
       "      <th>2009-12-07</th>\n",
       "      <td>21232</td>\n",
       "      <td>110</td>\n",
       "    </tr>\n",
       "    <tr>\n",
       "      <th>2009-12-08</th>\n",
       "      <td>21232</td>\n",
       "      <td>339</td>\n",
       "    </tr>\n",
       "    <tr>\n",
       "      <th>2009-12-09</th>\n",
       "      <td>21232</td>\n",
       "      <td>59</td>\n",
       "    </tr>\n",
       "    <tr>\n",
       "      <th>2009-12-10</th>\n",
       "      <td>21232</td>\n",
       "      <td>174</td>\n",
       "    </tr>\n",
       "    <tr>\n",
       "      <th>2009-12-11</th>\n",
       "      <td>21232</td>\n",
       "      <td>93</td>\n",
       "    </tr>\n",
       "    <tr>\n",
       "      <th>2009-12-12</th>\n",
       "      <td>21232</td>\n",
       "      <td>0</td>\n",
       "    </tr>\n",
       "    <tr>\n",
       "      <th>2009-12-13</th>\n",
       "      <td>21232</td>\n",
       "      <td>122</td>\n",
       "    </tr>\n",
       "    <tr>\n",
       "      <th>2009-12-14</th>\n",
       "      <td>21232</td>\n",
       "      <td>126</td>\n",
       "    </tr>\n",
       "    <tr>\n",
       "      <th>2009-12-15</th>\n",
       "      <td>21232</td>\n",
       "      <td>303</td>\n",
       "    </tr>\n",
       "    <tr>\n",
       "      <th>2009-12-16</th>\n",
       "      <td>21232</td>\n",
       "      <td>312</td>\n",
       "    </tr>\n",
       "    <tr>\n",
       "      <th>2009-12-17</th>\n",
       "      <td>21232</td>\n",
       "      <td>237</td>\n",
       "    </tr>\n",
       "    <tr>\n",
       "      <th>2009-12-18</th>\n",
       "      <td>21232</td>\n",
       "      <td>108</td>\n",
       "    </tr>\n",
       "    <tr>\n",
       "      <th>2009-12-19</th>\n",
       "      <td>21232</td>\n",
       "      <td>0</td>\n",
       "    </tr>\n",
       "    <tr>\n",
       "      <th>2009-12-20</th>\n",
       "      <td>21232</td>\n",
       "      <td>18</td>\n",
       "    </tr>\n",
       "    <tr>\n",
       "      <th>2009-12-21</th>\n",
       "      <td>21232</td>\n",
       "      <td>0</td>\n",
       "    </tr>\n",
       "    <tr>\n",
       "      <th>2009-12-22</th>\n",
       "      <td>21232</td>\n",
       "      <td>0</td>\n",
       "    </tr>\n",
       "    <tr>\n",
       "      <th>2009-12-23</th>\n",
       "      <td>21232</td>\n",
       "      <td>0</td>\n",
       "    </tr>\n",
       "    <tr>\n",
       "      <th>2009-12-24</th>\n",
       "      <td>21232</td>\n",
       "      <td>0</td>\n",
       "    </tr>\n",
       "    <tr>\n",
       "      <th>2009-12-25</th>\n",
       "      <td>21232</td>\n",
       "      <td>0</td>\n",
       "    </tr>\n",
       "    <tr>\n",
       "      <th>2009-12-26</th>\n",
       "      <td>21232</td>\n",
       "      <td>0</td>\n",
       "    </tr>\n",
       "    <tr>\n",
       "      <th>2009-12-27</th>\n",
       "      <td>21232</td>\n",
       "      <td>0</td>\n",
       "    </tr>\n",
       "    <tr>\n",
       "      <th>2009-12-28</th>\n",
       "      <td>21232</td>\n",
       "      <td>0</td>\n",
       "    </tr>\n",
       "    <tr>\n",
       "      <th>2009-12-29</th>\n",
       "      <td>21232</td>\n",
       "      <td>0</td>\n",
       "    </tr>\n",
       "    <tr>\n",
       "      <th>2009-12-30</th>\n",
       "      <td>21232</td>\n",
       "      <td>0</td>\n",
       "    </tr>\n",
       "    <tr>\n",
       "      <th>...</th>\n",
       "      <td>...</td>\n",
       "      <td>...</td>\n",
       "    </tr>\n",
       "    <tr>\n",
       "      <th>2010-11-09</th>\n",
       "      <td>21232</td>\n",
       "      <td>262</td>\n",
       "    </tr>\n",
       "    <tr>\n",
       "      <th>2010-11-10</th>\n",
       "      <td>21232</td>\n",
       "      <td>482</td>\n",
       "    </tr>\n",
       "    <tr>\n",
       "      <th>2010-11-11</th>\n",
       "      <td>21232</td>\n",
       "      <td>34</td>\n",
       "    </tr>\n",
       "    <tr>\n",
       "      <th>2010-11-12</th>\n",
       "      <td>21232</td>\n",
       "      <td>96</td>\n",
       "    </tr>\n",
       "    <tr>\n",
       "      <th>2010-11-13</th>\n",
       "      <td>21232</td>\n",
       "      <td>0</td>\n",
       "    </tr>\n",
       "    <tr>\n",
       "      <th>2010-11-14</th>\n",
       "      <td>21232</td>\n",
       "      <td>20</td>\n",
       "    </tr>\n",
       "    <tr>\n",
       "      <th>2010-11-15</th>\n",
       "      <td>21232</td>\n",
       "      <td>8</td>\n",
       "    </tr>\n",
       "    <tr>\n",
       "      <th>2010-11-16</th>\n",
       "      <td>21232</td>\n",
       "      <td>40</td>\n",
       "    </tr>\n",
       "    <tr>\n",
       "      <th>2010-11-17</th>\n",
       "      <td>21232</td>\n",
       "      <td>141</td>\n",
       "    </tr>\n",
       "    <tr>\n",
       "      <th>2010-11-18</th>\n",
       "      <td>21232</td>\n",
       "      <td>36</td>\n",
       "    </tr>\n",
       "    <tr>\n",
       "      <th>2010-11-19</th>\n",
       "      <td>21232</td>\n",
       "      <td>76</td>\n",
       "    </tr>\n",
       "    <tr>\n",
       "      <th>2010-11-20</th>\n",
       "      <td>21232</td>\n",
       "      <td>0</td>\n",
       "    </tr>\n",
       "    <tr>\n",
       "      <th>2010-11-21</th>\n",
       "      <td>21232</td>\n",
       "      <td>34</td>\n",
       "    </tr>\n",
       "    <tr>\n",
       "      <th>2010-11-22</th>\n",
       "      <td>21232</td>\n",
       "      <td>44</td>\n",
       "    </tr>\n",
       "    <tr>\n",
       "      <th>2010-11-23</th>\n",
       "      <td>21232</td>\n",
       "      <td>80</td>\n",
       "    </tr>\n",
       "    <tr>\n",
       "      <th>2010-11-24</th>\n",
       "      <td>21232</td>\n",
       "      <td>42</td>\n",
       "    </tr>\n",
       "    <tr>\n",
       "      <th>2010-11-25</th>\n",
       "      <td>21232</td>\n",
       "      <td>216</td>\n",
       "    </tr>\n",
       "    <tr>\n",
       "      <th>2010-11-26</th>\n",
       "      <td>21232</td>\n",
       "      <td>76</td>\n",
       "    </tr>\n",
       "    <tr>\n",
       "      <th>2010-11-27</th>\n",
       "      <td>21232</td>\n",
       "      <td>0</td>\n",
       "    </tr>\n",
       "    <tr>\n",
       "      <th>2010-11-28</th>\n",
       "      <td>21232</td>\n",
       "      <td>27</td>\n",
       "    </tr>\n",
       "    <tr>\n",
       "      <th>2010-11-29</th>\n",
       "      <td>21232</td>\n",
       "      <td>41</td>\n",
       "    </tr>\n",
       "    <tr>\n",
       "      <th>2010-11-30</th>\n",
       "      <td>21232</td>\n",
       "      <td>104</td>\n",
       "    </tr>\n",
       "    <tr>\n",
       "      <th>2010-12-01</th>\n",
       "      <td>21232</td>\n",
       "      <td>540</td>\n",
       "    </tr>\n",
       "    <tr>\n",
       "      <th>2010-12-02</th>\n",
       "      <td>21232</td>\n",
       "      <td>44</td>\n",
       "    </tr>\n",
       "    <tr>\n",
       "      <th>2010-12-03</th>\n",
       "      <td>21232</td>\n",
       "      <td>36</td>\n",
       "    </tr>\n",
       "    <tr>\n",
       "      <th>2010-12-04</th>\n",
       "      <td>21232</td>\n",
       "      <td>0</td>\n",
       "    </tr>\n",
       "    <tr>\n",
       "      <th>2010-12-05</th>\n",
       "      <td>21232</td>\n",
       "      <td>4</td>\n",
       "    </tr>\n",
       "    <tr>\n",
       "      <th>2010-12-06</th>\n",
       "      <td>21232</td>\n",
       "      <td>12</td>\n",
       "    </tr>\n",
       "    <tr>\n",
       "      <th>2010-12-07</th>\n",
       "      <td>21232</td>\n",
       "      <td>28</td>\n",
       "    </tr>\n",
       "    <tr>\n",
       "      <th>2010-12-08</th>\n",
       "      <td>21232</td>\n",
       "      <td>61</td>\n",
       "    </tr>\n",
       "  </tbody>\n",
       "</table>\n",
       "<p>373 rows × 2 columns</p>\n",
       "</div>"
      ],
      "text/plain": [
       "            StockCode  Quantity\n",
       "InvoiceDate                    \n",
       "2009-12-01      21232       171\n",
       "2009-12-02      21232       164\n",
       "2009-12-03      21232       192\n",
       "2009-12-04      21232       264\n",
       "2009-12-05      21232        36\n",
       "2009-12-06      21232        54\n",
       "2009-12-07      21232       110\n",
       "2009-12-08      21232       339\n",
       "2009-12-09      21232        59\n",
       "2009-12-10      21232       174\n",
       "2009-12-11      21232        93\n",
       "2009-12-12      21232         0\n",
       "2009-12-13      21232       122\n",
       "2009-12-14      21232       126\n",
       "2009-12-15      21232       303\n",
       "2009-12-16      21232       312\n",
       "2009-12-17      21232       237\n",
       "2009-12-18      21232       108\n",
       "2009-12-19      21232         0\n",
       "2009-12-20      21232        18\n",
       "2009-12-21      21232         0\n",
       "2009-12-22      21232         0\n",
       "2009-12-23      21232         0\n",
       "2009-12-24      21232         0\n",
       "2009-12-25      21232         0\n",
       "2009-12-26      21232         0\n",
       "2009-12-27      21232         0\n",
       "2009-12-28      21232         0\n",
       "2009-12-29      21232         0\n",
       "2009-12-30      21232         0\n",
       "...               ...       ...\n",
       "2010-11-09      21232       262\n",
       "2010-11-10      21232       482\n",
       "2010-11-11      21232        34\n",
       "2010-11-12      21232        96\n",
       "2010-11-13      21232         0\n",
       "2010-11-14      21232        20\n",
       "2010-11-15      21232         8\n",
       "2010-11-16      21232        40\n",
       "2010-11-17      21232       141\n",
       "2010-11-18      21232        36\n",
       "2010-11-19      21232        76\n",
       "2010-11-20      21232         0\n",
       "2010-11-21      21232        34\n",
       "2010-11-22      21232        44\n",
       "2010-11-23      21232        80\n",
       "2010-11-24      21232        42\n",
       "2010-11-25      21232       216\n",
       "2010-11-26      21232        76\n",
       "2010-11-27      21232         0\n",
       "2010-11-28      21232        27\n",
       "2010-11-29      21232        41\n",
       "2010-11-30      21232       104\n",
       "2010-12-01      21232       540\n",
       "2010-12-02      21232        44\n",
       "2010-12-03      21232        36\n",
       "2010-12-04      21232         0\n",
       "2010-12-05      21232         4\n",
       "2010-12-06      21232        12\n",
       "2010-12-07      21232        28\n",
       "2010-12-08      21232        61\n",
       "\n",
       "[373 rows x 2 columns]"
      ]
     },
     "execution_count": 44,
     "metadata": {},
     "output_type": "execute_result"
    }
   ],
   "source": [
    "df_time_series[df_time_series.StockCode==21232]\n"
   ]
  },
  {
   "cell_type": "markdown",
   "metadata": {},
   "source": [
    "O pedido agora tem uma única entrada para cada dia."
   ]
  },
  {
   "cell_type": "markdown",
   "metadata": {},
   "source": [
    "Repita esse processo com os dados de séries temporais relacionados."
   ]
  },
  {
   "cell_type": "code",
   "execution_count": 45,
   "metadata": {},
   "outputs": [
    {
     "data": {
      "text/html": [
       "<div>\n",
       "<style scoped>\n",
       "    .dataframe tbody tr th:only-of-type {\n",
       "        vertical-align: middle;\n",
       "    }\n",
       "\n",
       "    .dataframe tbody tr th {\n",
       "        vertical-align: top;\n",
       "    }\n",
       "\n",
       "    .dataframe thead th {\n",
       "        text-align: right;\n",
       "    }\n",
       "</style>\n",
       "<table border=\"1\" class=\"dataframe\">\n",
       "  <thead>\n",
       "    <tr style=\"text-align: right;\">\n",
       "      <th></th>\n",
       "      <th>StockCode</th>\n",
       "      <th>Price</th>\n",
       "    </tr>\n",
       "    <tr>\n",
       "      <th>InvoiceDate</th>\n",
       "      <th></th>\n",
       "      <th></th>\n",
       "    </tr>\n",
       "  </thead>\n",
       "  <tbody>\n",
       "    <tr>\n",
       "      <th>2009-12-01 07:45:00</th>\n",
       "      <td>85048</td>\n",
       "      <td>6.95</td>\n",
       "    </tr>\n",
       "    <tr>\n",
       "      <th>2009-12-01 07:45:00</th>\n",
       "      <td>79323P</td>\n",
       "      <td>6.75</td>\n",
       "    </tr>\n",
       "    <tr>\n",
       "      <th>2009-12-01 07:45:00</th>\n",
       "      <td>79323W</td>\n",
       "      <td>6.75</td>\n",
       "    </tr>\n",
       "    <tr>\n",
       "      <th>2009-12-01 07:45:00</th>\n",
       "      <td>22041</td>\n",
       "      <td>2.10</td>\n",
       "    </tr>\n",
       "    <tr>\n",
       "      <th>2009-12-01 07:45:00</th>\n",
       "      <td>21232</td>\n",
       "      <td>1.25</td>\n",
       "    </tr>\n",
       "  </tbody>\n",
       "</table>\n",
       "</div>"
      ],
      "text/plain": [
       "                    StockCode  Price\n",
       "InvoiceDate                         \n",
       "2009-12-01 07:45:00     85048   6.95\n",
       "2009-12-01 07:45:00    79323P   6.75\n",
       "2009-12-01 07:45:00    79323W   6.75\n",
       "2009-12-01 07:45:00     22041   2.10\n",
       "2009-12-01 07:45:00     21232   1.25"
      ]
     },
     "execution_count": 45,
     "metadata": {},
     "output_type": "execute_result"
    }
   ],
   "source": [
    "df_related_time_series.head()"
   ]
  },
  {
   "cell_type": "code",
   "execution_count": 46,
   "metadata": {},
   "outputs": [],
   "source": [
    "df_related_time_series2 = df_related_time_series.groupby('StockCode').resample('D').mean().reset_index().set_index(['InvoiceDate','StockCode'])"
   ]
  },
  {
   "cell_type": "code",
   "execution_count": 47,
   "metadata": {},
   "outputs": [
    {
     "data": {
      "text/html": [
       "<div>\n",
       "<style scoped>\n",
       "    .dataframe tbody tr th:only-of-type {\n",
       "        vertical-align: middle;\n",
       "    }\n",
       "\n",
       "    .dataframe tbody tr th {\n",
       "        vertical-align: top;\n",
       "    }\n",
       "\n",
       "    .dataframe thead th {\n",
       "        text-align: right;\n",
       "    }\n",
       "</style>\n",
       "<table border=\"1\" class=\"dataframe\">\n",
       "  <thead>\n",
       "    <tr style=\"text-align: right;\">\n",
       "      <th></th>\n",
       "      <th></th>\n",
       "      <th>Price</th>\n",
       "    </tr>\n",
       "    <tr>\n",
       "      <th>InvoiceDate</th>\n",
       "      <th>StockCode</th>\n",
       "      <th></th>\n",
       "    </tr>\n",
       "  </thead>\n",
       "  <tbody>\n",
       "    <tr>\n",
       "      <th>2009-12-01</th>\n",
       "      <th>10002</th>\n",
       "      <td>0.85</td>\n",
       "    </tr>\n",
       "    <tr>\n",
       "      <th>2009-12-02</th>\n",
       "      <th>10002</th>\n",
       "      <td>NaN</td>\n",
       "    </tr>\n",
       "    <tr>\n",
       "      <th>2009-12-03</th>\n",
       "      <th>10002</th>\n",
       "      <td>0.85</td>\n",
       "    </tr>\n",
       "    <tr>\n",
       "      <th>2009-12-04</th>\n",
       "      <th>10002</th>\n",
       "      <td>0.85</td>\n",
       "    </tr>\n",
       "    <tr>\n",
       "      <th>2009-12-05</th>\n",
       "      <th>10002</th>\n",
       "      <td>NaN</td>\n",
       "    </tr>\n",
       "    <tr>\n",
       "      <th>2009-12-06</th>\n",
       "      <th>10002</th>\n",
       "      <td>0.85</td>\n",
       "    </tr>\n",
       "    <tr>\n",
       "      <th>2009-12-07</th>\n",
       "      <th>10002</th>\n",
       "      <td>0.85</td>\n",
       "    </tr>\n",
       "    <tr>\n",
       "      <th>2009-12-08</th>\n",
       "      <th>10002</th>\n",
       "      <td>NaN</td>\n",
       "    </tr>\n",
       "    <tr>\n",
       "      <th>2009-12-09</th>\n",
       "      <th>10002</th>\n",
       "      <td>NaN</td>\n",
       "    </tr>\n",
       "    <tr>\n",
       "      <th>2009-12-10</th>\n",
       "      <th>10002</th>\n",
       "      <td>NaN</td>\n",
       "    </tr>\n",
       "    <tr>\n",
       "      <th>2009-12-11</th>\n",
       "      <th>10002</th>\n",
       "      <td>0.85</td>\n",
       "    </tr>\n",
       "    <tr>\n",
       "      <th>2009-12-12</th>\n",
       "      <th>10002</th>\n",
       "      <td>NaN</td>\n",
       "    </tr>\n",
       "    <tr>\n",
       "      <th>2009-12-13</th>\n",
       "      <th>10002</th>\n",
       "      <td>NaN</td>\n",
       "    </tr>\n",
       "    <tr>\n",
       "      <th>2009-12-14</th>\n",
       "      <th>10002</th>\n",
       "      <td>0.85</td>\n",
       "    </tr>\n",
       "    <tr>\n",
       "      <th>2009-12-15</th>\n",
       "      <th>10002</th>\n",
       "      <td>NaN</td>\n",
       "    </tr>\n",
       "    <tr>\n",
       "      <th>2009-12-16</th>\n",
       "      <th>10002</th>\n",
       "      <td>NaN</td>\n",
       "    </tr>\n",
       "    <tr>\n",
       "      <th>2009-12-17</th>\n",
       "      <th>10002</th>\n",
       "      <td>NaN</td>\n",
       "    </tr>\n",
       "    <tr>\n",
       "      <th>2009-12-18</th>\n",
       "      <th>10002</th>\n",
       "      <td>NaN</td>\n",
       "    </tr>\n",
       "    <tr>\n",
       "      <th>2009-12-19</th>\n",
       "      <th>10002</th>\n",
       "      <td>NaN</td>\n",
       "    </tr>\n",
       "    <tr>\n",
       "      <th>2009-12-20</th>\n",
       "      <th>10002</th>\n",
       "      <td>NaN</td>\n",
       "    </tr>\n",
       "  </tbody>\n",
       "</table>\n",
       "</div>"
      ],
      "text/plain": [
       "                       Price\n",
       "InvoiceDate StockCode       \n",
       "2009-12-01  10002       0.85\n",
       "2009-12-02  10002        NaN\n",
       "2009-12-03  10002       0.85\n",
       "2009-12-04  10002       0.85\n",
       "2009-12-05  10002        NaN\n",
       "2009-12-06  10002       0.85\n",
       "2009-12-07  10002       0.85\n",
       "2009-12-08  10002        NaN\n",
       "2009-12-09  10002        NaN\n",
       "2009-12-10  10002        NaN\n",
       "2009-12-11  10002       0.85\n",
       "2009-12-12  10002        NaN\n",
       "2009-12-13  10002        NaN\n",
       "2009-12-14  10002       0.85\n",
       "2009-12-15  10002        NaN\n",
       "2009-12-16  10002        NaN\n",
       "2009-12-17  10002        NaN\n",
       "2009-12-18  10002        NaN\n",
       "2009-12-19  10002        NaN\n",
       "2009-12-20  10002        NaN"
      ]
     },
     "execution_count": 47,
     "metadata": {},
     "output_type": "execute_result"
    }
   ],
   "source": [
    "df_related_time_series2.head(20)"
   ]
  },
  {
   "cell_type": "markdown",
   "metadata": {},
   "source": [
    "**Pergunta:** Por que alguns dos valores anteriores são mostrados como *NaN*?"
   ]
  },
  {
   "cell_type": "markdown",
   "metadata": {},
   "source": [
    "**Resposta:** Esse produto não tinha pedidos para esses dias e, portanto, não tem preço. Você deve preencher esses valores NaN com um valor numérico?"
   ]
  },
  {
   "cell_type": "code",
   "execution_count": 48,
   "metadata": {},
   "outputs": [
    {
     "data": {
      "text/html": [
       "<div>\n",
       "<style scoped>\n",
       "    .dataframe tbody tr th:only-of-type {\n",
       "        vertical-align: middle;\n",
       "    }\n",
       "\n",
       "    .dataframe tbody tr th {\n",
       "        vertical-align: top;\n",
       "    }\n",
       "\n",
       "    .dataframe thead th {\n",
       "        text-align: right;\n",
       "    }\n",
       "</style>\n",
       "<table border=\"1\" class=\"dataframe\">\n",
       "  <thead>\n",
       "    <tr style=\"text-align: right;\">\n",
       "      <th></th>\n",
       "      <th>StockCode</th>\n",
       "      <th>Quantity</th>\n",
       "      <th>Price</th>\n",
       "    </tr>\n",
       "    <tr>\n",
       "      <th>InvoiceDate</th>\n",
       "      <th></th>\n",
       "      <th></th>\n",
       "      <th></th>\n",
       "    </tr>\n",
       "  </thead>\n",
       "  <tbody>\n",
       "    <tr>\n",
       "      <th>2009-12-01 09:08:00</th>\n",
       "      <td>10002</td>\n",
       "      <td>12</td>\n",
       "      <td>0.85</td>\n",
       "    </tr>\n",
       "    <tr>\n",
       "      <th>2009-12-03 13:49:00</th>\n",
       "      <td>10002</td>\n",
       "      <td>1</td>\n",
       "      <td>0.85</td>\n",
       "    </tr>\n",
       "    <tr>\n",
       "      <th>2009-12-03 13:49:00</th>\n",
       "      <td>10002</td>\n",
       "      <td>1</td>\n",
       "      <td>0.85</td>\n",
       "    </tr>\n",
       "    <tr>\n",
       "      <th>2009-12-03 19:13:00</th>\n",
       "      <td>10002</td>\n",
       "      <td>1</td>\n",
       "      <td>0.85</td>\n",
       "    </tr>\n",
       "    <tr>\n",
       "      <th>2009-12-03 20:03:00</th>\n",
       "      <td>10002</td>\n",
       "      <td>4</td>\n",
       "      <td>0.85</td>\n",
       "    </tr>\n",
       "    <tr>\n",
       "      <th>2009-12-04 08:46:00</th>\n",
       "      <td>10002</td>\n",
       "      <td>12</td>\n",
       "      <td>0.85</td>\n",
       "    </tr>\n",
       "    <tr>\n",
       "      <th>2009-12-04 12:20:00</th>\n",
       "      <td>10002</td>\n",
       "      <td>12</td>\n",
       "      <td>0.85</td>\n",
       "    </tr>\n",
       "    <tr>\n",
       "      <th>2009-12-04 17:31:00</th>\n",
       "      <td>10002</td>\n",
       "      <td>1</td>\n",
       "      <td>0.85</td>\n",
       "    </tr>\n",
       "    <tr>\n",
       "      <th>2009-12-06 15:24:00</th>\n",
       "      <td>10002</td>\n",
       "      <td>1</td>\n",
       "      <td>0.85</td>\n",
       "    </tr>\n",
       "    <tr>\n",
       "      <th>2009-12-07 16:40:00</th>\n",
       "      <td>10002</td>\n",
       "      <td>2</td>\n",
       "      <td>0.85</td>\n",
       "    </tr>\n",
       "    <tr>\n",
       "      <th>2009-12-11 12:21:00</th>\n",
       "      <td>10002</td>\n",
       "      <td>9</td>\n",
       "      <td>0.85</td>\n",
       "    </tr>\n",
       "    <tr>\n",
       "      <th>2009-12-14 12:02:00</th>\n",
       "      <td>10002</td>\n",
       "      <td>12</td>\n",
       "      <td>0.85</td>\n",
       "    </tr>\n",
       "    <tr>\n",
       "      <th>2009-12-14 14:12:00</th>\n",
       "      <td>10002</td>\n",
       "      <td>24</td>\n",
       "      <td>0.85</td>\n",
       "    </tr>\n",
       "    <tr>\n",
       "      <th>2009-12-21 13:29:00</th>\n",
       "      <td>10002</td>\n",
       "      <td>12</td>\n",
       "      <td>0.85</td>\n",
       "    </tr>\n",
       "    <tr>\n",
       "      <th>2009-12-23 12:07:00</th>\n",
       "      <td>10002</td>\n",
       "      <td>1</td>\n",
       "      <td>0.85</td>\n",
       "    </tr>\n",
       "  </tbody>\n",
       "</table>\n",
       "</div>"
      ],
      "text/plain": [
       "                    StockCode  Quantity  Price\n",
       "InvoiceDate                                   \n",
       "2009-12-01 09:08:00     10002        12   0.85\n",
       "2009-12-03 13:49:00     10002         1   0.85\n",
       "2009-12-03 13:49:00     10002         1   0.85\n",
       "2009-12-03 19:13:00     10002         1   0.85\n",
       "2009-12-03 20:03:00     10002         4   0.85\n",
       "2009-12-04 08:46:00     10002        12   0.85\n",
       "2009-12-04 12:20:00     10002        12   0.85\n",
       "2009-12-04 17:31:00     10002         1   0.85\n",
       "2009-12-06 15:24:00     10002         1   0.85\n",
       "2009-12-07 16:40:00     10002         2   0.85\n",
       "2009-12-11 12:21:00     10002         9   0.85\n",
       "2009-12-14 12:02:00     10002        12   0.85\n",
       "2009-12-14 14:12:00     10002        24   0.85\n",
       "2009-12-21 13:29:00     10002        12   0.85\n",
       "2009-12-23 12:07:00     10002         1   0.85"
      ]
     },
     "execution_count": 48,
     "metadata": {},
     "output_type": "execute_result"
    }
   ],
   "source": [
    "retail[retail.StockCode == 10002]['2009-12']"
   ]
  },
  {
   "cell_type": "markdown",
   "metadata": {},
   "source": [
    "Você pode usar `pad` para encaminhar o preço. O valor anterior será usado para preencher a lacuna de cada valor ausente. "
   ]
  },
  {
   "cell_type": "code",
   "execution_count": 49,
   "metadata": {},
   "outputs": [],
   "source": [
    "df_related_time_series3 = df_related_time_series2.groupby('StockCode').pad()"
   ]
  },
  {
   "cell_type": "code",
   "execution_count": 50,
   "metadata": {},
   "outputs": [
    {
     "data": {
      "text/html": [
       "<div>\n",
       "<style scoped>\n",
       "    .dataframe tbody tr th:only-of-type {\n",
       "        vertical-align: middle;\n",
       "    }\n",
       "\n",
       "    .dataframe tbody tr th {\n",
       "        vertical-align: top;\n",
       "    }\n",
       "\n",
       "    .dataframe thead th {\n",
       "        text-align: right;\n",
       "    }\n",
       "</style>\n",
       "<table border=\"1\" class=\"dataframe\">\n",
       "  <thead>\n",
       "    <tr style=\"text-align: right;\">\n",
       "      <th></th>\n",
       "      <th></th>\n",
       "      <th>StockCode</th>\n",
       "      <th>Price</th>\n",
       "    </tr>\n",
       "    <tr>\n",
       "      <th>InvoiceDate</th>\n",
       "      <th>StockCode</th>\n",
       "      <th></th>\n",
       "      <th></th>\n",
       "    </tr>\n",
       "  </thead>\n",
       "  <tbody>\n",
       "    <tr>\n",
       "      <th>2009-12-01</th>\n",
       "      <th>10002</th>\n",
       "      <td>10002</td>\n",
       "      <td>0.85</td>\n",
       "    </tr>\n",
       "    <tr>\n",
       "      <th>2009-12-02</th>\n",
       "      <th>10002</th>\n",
       "      <td>10002</td>\n",
       "      <td>0.85</td>\n",
       "    </tr>\n",
       "    <tr>\n",
       "      <th>2009-12-03</th>\n",
       "      <th>10002</th>\n",
       "      <td>10002</td>\n",
       "      <td>0.85</td>\n",
       "    </tr>\n",
       "    <tr>\n",
       "      <th>2009-12-04</th>\n",
       "      <th>10002</th>\n",
       "      <td>10002</td>\n",
       "      <td>0.85</td>\n",
       "    </tr>\n",
       "    <tr>\n",
       "      <th>2009-12-05</th>\n",
       "      <th>10002</th>\n",
       "      <td>10002</td>\n",
       "      <td>0.85</td>\n",
       "    </tr>\n",
       "    <tr>\n",
       "      <th>2009-12-06</th>\n",
       "      <th>10002</th>\n",
       "      <td>10002</td>\n",
       "      <td>0.85</td>\n",
       "    </tr>\n",
       "    <tr>\n",
       "      <th>2009-12-07</th>\n",
       "      <th>10002</th>\n",
       "      <td>10002</td>\n",
       "      <td>0.85</td>\n",
       "    </tr>\n",
       "    <tr>\n",
       "      <th>2009-12-08</th>\n",
       "      <th>10002</th>\n",
       "      <td>10002</td>\n",
       "      <td>0.85</td>\n",
       "    </tr>\n",
       "    <tr>\n",
       "      <th>2009-12-09</th>\n",
       "      <th>10002</th>\n",
       "      <td>10002</td>\n",
       "      <td>0.85</td>\n",
       "    </tr>\n",
       "    <tr>\n",
       "      <th>2009-12-10</th>\n",
       "      <th>10002</th>\n",
       "      <td>10002</td>\n",
       "      <td>0.85</td>\n",
       "    </tr>\n",
       "    <tr>\n",
       "      <th>2009-12-11</th>\n",
       "      <th>10002</th>\n",
       "      <td>10002</td>\n",
       "      <td>0.85</td>\n",
       "    </tr>\n",
       "    <tr>\n",
       "      <th>2009-12-12</th>\n",
       "      <th>10002</th>\n",
       "      <td>10002</td>\n",
       "      <td>0.85</td>\n",
       "    </tr>\n",
       "    <tr>\n",
       "      <th>2009-12-13</th>\n",
       "      <th>10002</th>\n",
       "      <td>10002</td>\n",
       "      <td>0.85</td>\n",
       "    </tr>\n",
       "    <tr>\n",
       "      <th>2009-12-14</th>\n",
       "      <th>10002</th>\n",
       "      <td>10002</td>\n",
       "      <td>0.85</td>\n",
       "    </tr>\n",
       "    <tr>\n",
       "      <th>2009-12-15</th>\n",
       "      <th>10002</th>\n",
       "      <td>10002</td>\n",
       "      <td>0.85</td>\n",
       "    </tr>\n",
       "    <tr>\n",
       "      <th>2009-12-16</th>\n",
       "      <th>10002</th>\n",
       "      <td>10002</td>\n",
       "      <td>0.85</td>\n",
       "    </tr>\n",
       "    <tr>\n",
       "      <th>2009-12-17</th>\n",
       "      <th>10002</th>\n",
       "      <td>10002</td>\n",
       "      <td>0.85</td>\n",
       "    </tr>\n",
       "    <tr>\n",
       "      <th>2009-12-18</th>\n",
       "      <th>10002</th>\n",
       "      <td>10002</td>\n",
       "      <td>0.85</td>\n",
       "    </tr>\n",
       "    <tr>\n",
       "      <th>2009-12-19</th>\n",
       "      <th>10002</th>\n",
       "      <td>10002</td>\n",
       "      <td>0.85</td>\n",
       "    </tr>\n",
       "    <tr>\n",
       "      <th>2009-12-20</th>\n",
       "      <th>10002</th>\n",
       "      <td>10002</td>\n",
       "      <td>0.85</td>\n",
       "    </tr>\n",
       "  </tbody>\n",
       "</table>\n",
       "</div>"
      ],
      "text/plain": [
       "                      StockCode  Price\n",
       "InvoiceDate StockCode                 \n",
       "2009-12-01  10002         10002   0.85\n",
       "2009-12-02  10002         10002   0.85\n",
       "2009-12-03  10002         10002   0.85\n",
       "2009-12-04  10002         10002   0.85\n",
       "2009-12-05  10002         10002   0.85\n",
       "2009-12-06  10002         10002   0.85\n",
       "2009-12-07  10002         10002   0.85\n",
       "2009-12-08  10002         10002   0.85\n",
       "2009-12-09  10002         10002   0.85\n",
       "2009-12-10  10002         10002   0.85\n",
       "2009-12-11  10002         10002   0.85\n",
       "2009-12-12  10002         10002   0.85\n",
       "2009-12-13  10002         10002   0.85\n",
       "2009-12-14  10002         10002   0.85\n",
       "2009-12-15  10002         10002   0.85\n",
       "2009-12-16  10002         10002   0.85\n",
       "2009-12-17  10002         10002   0.85\n",
       "2009-12-18  10002         10002   0.85\n",
       "2009-12-19  10002         10002   0.85\n",
       "2009-12-20  10002         10002   0.85"
      ]
     },
     "execution_count": 50,
     "metadata": {},
     "output_type": "execute_result"
    }
   ],
   "source": [
    "df_related_time_series3.head(20)"
   ]
  },
  {
   "cell_type": "markdown",
   "metadata": {},
   "source": [
    "## Tarefa 4: Revisão da criação da previsão\n",
    "\n",
    "As células a seguir são Markdown. Eles demonstram as chamadas de API necessárias para criar uma previsão (forecast) com base nos dados com os quais você está trabalhando. A criação de uma previsão com o Amazon Forecast envolve três estágios:\n",
    "\n",
    "1. Criar os conjuntos de dados (datasets) e importar os dados. Esse processo geralmente leva de 5 a 10 minutos.\n",
    "2. Criação do preditor. Esse processo treina um modelo usando os dados que você forneceu. Leva de 30 a 60 minutos para ser concluído.\n",
    "3. Criação da previsão (forecast). Esse processo gera uma previsão (forecast) para um item específico usando o preditor. Também leva de 30 a 60 minutos para ser concluído.\n",
    "\n",
    "Para economizar tempo, quando esse laboratório foi iniciado, o `forecast-autorun.ipynb` também foi executado em segundo plano. O notebook será atualizado com os resultados após a conclusão da execução. Leva cerca de 65 minutos para ser executado, mas pode demorar um pouco mais. Quando você revisar essa célula, a criação da previsão (forecast) deverá estar em andamento. Quando estiver concluído, você analisará o código.\n",
    "\n",
    "**Observação:** Sinta-se à vontade para revisar o notebook real `forecast-autorun.ipynb`, se quiser mais detalhes. No entanto, certifique-se de não executar nenhuma célula!"
   ]
  },
  {
   "cell_type": "markdown",
   "metadata": {},
   "source": [
    "### Criação de conjuntos de dados (datasets) e importação de dados\n",
    "\n",
    "A primeira etapa é criar um grupo de conjuntos de dados (datasets group) da previsão (forecast):\n",
    "\n",
    "```python\n",
    "session = boto3.Session()\n",
    "forecast = session.client(service_name='forecast') \n",
    "create_dataset_group_response = forecast.create_dataset_group(DatasetGroupName=dataset_group_name, Domain=\"RETAIL\")\n",
    "dataset_group_arn = create_dataset_group_response['DatasetGroupArn']\n",
    "```\n",
    "    \n",
    "A função `create_dataset` requer alguns parâmetros:\n",
    "\n",
    "- **DOMAIN** – este parâmetro especifica o domínio, como *retail* (varejo), que a previsão deve usar.\n",
    "- **DatasetType** – para dados de séries temporais, este parâmetro será definido como* TARGET_TIME_SERIES*.\n",
    "- **DatasetName** – este parâmetro especifica o nome do conjunto de dados.\n",
    "- **DataFrequency** – este parâmetro especifica a frequência. Para o conjunto de dados diário, ele será *D*.\n",
    "- **Schema** (Esquema) – este parâmetro especifica o esquema do conjunto de dados.\n",
    "\n",
    "O esquema do conjunto de dados para os dados de séries temporais é:\n",
    "\n",
    "```python\n",
    "schema ={\n",
    "   \"Attributes\":[\n",
    "      {\n",
    "         \"AttributeName\":\"timestamp\",\n",
    "         \"AttributeType\":\"timestamp\"\n",
    "      },\n",
    "      {\n",
    "         \"AttributeName\":\"item_id\",\n",
    "         \"AttributeType\":\"string\"\n",
    "      },\n",
    "      {\n",
    "         \"AttributeName\":\"demand\",\n",
    "         \"AttributeType\":\"float\"\n",
    "      }\n",
    "   ]\n",
    "}\n",
    "```\n",
    "\n",
    "\n",
    "O código para criar o conjunto de dados (dataset) é:\n",
    "\n",
    "```python\n",
    "time_series_response=forecast.create_dataset(\n",
    "                    Domain=\"RETAIL\",\n",
    "                    DatasetType='TARGET_TIME_SERIES',\n",
    "                    DatasetName='retail_time_series_data',\n",
    "                    DataFrequency='D', \n",
    "                    Schema = schema\n",
    ")\n",
    "dataset_arn = time_series_response['DatasetArn']\n",
    "```\n",
    "    \n",
    "Agora que o conjunto de dados está definido, um trabalho é necessário para importar os dados:\n",
    "\n",
    "```python\n",
    "ds_import_job_response=forecast.create_dataset_import_job(DatasetImportJobName='retail_import_job',\n",
    "                                                      DatasetArn=dataset_arn,\n",
    "                                                      DataSource= data_source,\n",
    "                                                      TimestampFormat=timestamp_format\n",
    "                                                     )\n",
    "```\n",
    "\n",
    "Observe que *data_source* é um caminho para os dados armazenados no Amazon Simple Storage Service (Amazon S3).\n",
    "\n",
    "A etapa final é adicionar o conjunto de dados (dataset) ao grupo de conjuntos de dados (datasets group):\n",
    "\n",
    "```python\n",
    "forecast.update_dataset_group(DatasetGroupArn=dataset_group_arn, DatasetArns=[dataset_arn])\n",
    "```\n",
    "    \n",
    "\n",
    "O processo de adição de dados ou metadados relacionados é feito da mesma maneira: alterando os nomes, o esquema e o tipo de conjunto de dados (dataset). Embora tenha preparado esses dados, você não os usará no preditor porque o modelo não foi afetado pelos dados adicionais."
   ]
  },
  {
   "cell_type": "markdown",
   "metadata": {},
   "source": [
    "### Criação do preditor\n",
    "\n",
    "A próxima etapa é criar o preditor. O comando `create_predictor` precisa de alguns parâmetros:\n",
    "\n",
    "- **PredictorName** – este parâmetro especifica o nome que você deseja dar ao preditor.\n",
    "\n",
    "    ```python\n",
    "    predictor_name= prefix+'_deeparp_algo'\n",
    "    ```\n",
    "\n",
    "\n",
    "- **AlgorithmArn** – este parâmetro é o caminho para o algoritmo que você deseja usar. Neste exemplo, você usará o DeepAR +.\n",
    "\n",
    "    ```python\n",
    "    algorithm_arn = 'arn:aws:forecast:::algorithm/Deep_AR_Plus\n",
    "    ```\n",
    "\n",
    "\n",
    "- **EvaluationParameters** – este parâmetro permite que você especifique o número e o tamanho das janelas de backtesting. Lembre-se do módulo de que esse parâmetro controla o tamanho e o número de janelas de teste criadas dos dados.\n",
    "\n",
    "    ```python\n",
    "    evaluation_parameters= {\"NumberOfBacktestWindows\": 1, \"BackTestWindowOffset\": 30}\n",
    "    ```\n",
    "\n",
    "\n",
    "- **ForecastHorizon** – quantas unidades devem ser previstas (neste caso, as unidades são dias).\n",
    "\n",
    "    ```python\n",
    "    forecast_horizon = 30\n",
    "    ```\n",
    "\n",
    "\n",
    "- **InputDataConfig** – este parâmetro especifica os dados, juntamente com dias de férias opcionais.\n",
    "\n",
    "    ```python\n",
    "    input_data_config = {\"DatasetGroupArn\": dataset_group_arn, \"SupplementaryFeatures\": [ {\"Name\": \"holiday\",\"Value\": \"UK\"} ]}\n",
    "    ```\n",
    "\n",
    "\n",
    "- **FeaturizationConfig** – este parâmetro define a frequência, mas também pode ser usado para especificar métodos de preenchimento para dados.\n",
    "\n",
    "    ```python\n",
    "    featurization_config= {\"ForecastFrequency\": dataset_frequency }\n",
    "    ```\n",
    "\n",
    "O código para criar o preditor é:\n",
    "\n",
    "```python\n",
    "create_predictor_response=forecast.create_predictor(PredictorName = predictor_name,\n",
    "      AlgorithmArn = algorithm_arn,\n",
    "      ForecastHorizon = forecast_horizon,\n",
    "      PerformAutoML = False,\n",
    "      PerformHPO = False,\n",
    "      EvaluationParameters= evaluation_parameters, \n",
    "      InputDataConfig = input_data_config,\n",
    "      FeaturizationConfig = featurization_config\n",
    "     )\n",
    "```\n",
    "                                                 \n",
    "Depois que o preditor for criado, você poderá criar uma previsão (forecast)."
   ]
  },
  {
   "cell_type": "markdown",
   "metadata": {},
   "source": [
    "### Criação da previsão (forecast)\n",
    "\n",
    "Para criar a previsão (forecast), use o método `create_forecast`:\n",
    "\n",
    "```python\n",
    "predictor_arn = create_predictor_response['PredictorArn']\n",
    "\n",
    "create_forecast_response=forecast.create_forecast(ForecastName=forecast_Name,\n",
    "                                                  PredictorArn=predictor_arn)\n",
    "\n",
    "```\n",
    "\n",
    "Depois que a previsão (forecast) for gerada, os resultados poderão ser consultados usando o método `query_forecast`:\n",
    "\n",
    "```python\n",
    "forecast_response = forecast_query.query_forecast(\n",
    "    ForecastArn=forecast_arn,\n",
    "    Filters={\"item_id\":\"22423\"}\n",
    ")\n",
    "```\n"
   ]
  },
  {
   "cell_type": "markdown",
   "metadata": {},
   "source": [
    "## Tarefa 5: Como aguardar a conclusão da criação da previsão (forecast)\n",
    "\n",
    "A previsão (forecast) agora deve ser criada. Você pode investigar para ver se a criação da previsão (forecast) foi concluída.\n",
    "\n",
    "Primeiro, crie um método auxiliar (helper method) para mostrar o status."
   ]
  },
  {
   "cell_type": "code",
   "execution_count": 51,
   "metadata": {},
   "outputs": [],
   "source": [
    "import sys\n",
    "\n",
    "class StatusIndicator:\n",
    "    \n",
    "    def __init__(self):\n",
    "        self.previous_status = None\n",
    "        self.need_newline = False\n",
    "        \n",
    "    def update( self, status ):\n",
    "        if self.previous_status != status:\n",
    "            if self.need_newline:\n",
    "                sys.stdout.write(\"\\n\")\n",
    "            sys.stdout.write( status + \" \")\n",
    "            self.need_newline = True\n",
    "            self.previous_status = status\n",
    "        else:\n",
    "            sys.stdout.write(\".\")\n",
    "            self.need_newline = True\n",
    "        sys.stdout.flush()\n",
    "\n",
    "    def end(self):\n",
    "        if self.need_newline:\n",
    "            sys.stdout.write(\"\\n\")"
   ]
  },
  {
   "cell_type": "markdown",
   "metadata": {},
   "source": [
    "Em seguida, crie instâncias da previsão (forecast) e os objetos de consulta da previsão (forecast query objects)."
   ]
  },
  {
   "cell_type": "code",
   "execution_count": 52,
   "metadata": {},
   "outputs": [],
   "source": [
    "bucket='c33334a421003l780313t1w17847112420-forecastbucket-1i9vbcsew9lk3'\n",
    "\n",
    "session = boto3.Session() \n",
    "forecast = session.client(service_name='forecast') \n",
    "forecast_query = session.client(service_name='forecastquery')"
   ]
  },
  {
   "cell_type": "markdown",
   "metadata": {},
   "source": [
    "Você lerá as variáveis do armazenamento e verificará se a previsão (forecast) foi definida. Depois que a previsão (forecast) for definida, você aguardará até que seu status se torne ativo."
   ]
  },
  {
   "cell_type": "code",
   "execution_count": 2,
   "metadata": {},
   "outputs": [
    {
     "ename": "NameError",
     "evalue": "name 'time' is not defined",
     "output_type": "error",
     "traceback": [
      "\u001b[0;31m\u001b[0m",
      "\u001b[0;31mNameError\u001b[0mTraceback (most recent call last)",
      "\u001b[0;32m<ipython-input-2-bd35ed731346>\u001b[0m in \u001b[0;36m<module>\u001b[0;34m()\u001b[0m\n\u001b[1;32m      4\u001b[0m     \u001b[0mis_local\u001b[0m \u001b[0;34m=\u001b[0m \u001b[0;34m\"forecast_arn\"\u001b[0m \u001b[0;32min\u001b[0m \u001b[0mlocals\u001b[0m\u001b[0;34m(\u001b[0m\u001b[0;34m)\u001b[0m\u001b[0;34m\u001b[0m\u001b[0m\n\u001b[1;32m      5\u001b[0m     \u001b[0;32mif\u001b[0m \u001b[0mis_local\u001b[0m\u001b[0;34m:\u001b[0m \u001b[0;32mbreak\u001b[0m\u001b[0;34m\u001b[0m\u001b[0m\n\u001b[0;32m----> 6\u001b[0;31m     \u001b[0mtime\u001b[0m\u001b[0;34m.\u001b[0m\u001b[0msleep\u001b[0m\u001b[0;34m(\u001b[0m\u001b[0;36m10\u001b[0m\u001b[0;34m)\u001b[0m\u001b[0;34m\u001b[0m\u001b[0m\n\u001b[0m\u001b[1;32m      7\u001b[0m \u001b[0;34m\u001b[0m\u001b[0m\n\u001b[1;32m      8\u001b[0m \u001b[0;34m\u001b[0m\u001b[0m\n",
      "\u001b[0;31mNameError\u001b[0m: name 'time' is not defined"
     ]
    }
   ],
   "source": [
    "\n",
    "while True:\n",
    "    %store -r\n",
    "    is_local = \"forecast_arn\" in locals()\n",
    "    if is_local: break\n",
    "    time.sleep(10)\n",
    "\n",
    "\n",
    "status_indicator = StatusIndicator()\n",
    "while True:\n",
    "    status = forecast.describe_forecast(ForecastArn=forecast_arn)['Status']\n",
    "    status_indicator.update(status)\n",
    "    if status in ('ACTIVE', 'CREATE_FAILED'): break\n",
    "    time.sleep(10)\n",
    "\n",
    "status_indicator.end()"
   ]
  },
  {
   "cell_type": "markdown",
   "metadata": {},
   "source": [
    "## Tarefa 6: Usar a previsão (forecast)\n",
    "\n",
    "Neste momento, deve haver uma previsão (forecast) pronta para ser consultada.\n",
    "\n",
    "Verifique se você obtém dados para o seguinte código de estoque de teste: *21232*"
   ]
  },
  {
   "cell_type": "code",
   "execution_count": 3,
   "metadata": {},
   "outputs": [
    {
     "name": "stdout",
     "output_type": "stream",
     "text": [
      "()\n"
     ]
    },
    {
     "ename": "NameError",
     "evalue": "name 'forecast_query' is not defined",
     "output_type": "error",
     "traceback": [
      "\u001b[0;31m\u001b[0m",
      "\u001b[0;31mNameError\u001b[0mTraceback (most recent call last)",
      "\u001b[0;32m<ipython-input-3-2e32673171c1>\u001b[0m in \u001b[0;36m<module>\u001b[0;34m()\u001b[0m\n\u001b[1;32m      1\u001b[0m \u001b[0;32mprint\u001b[0m\u001b[0;34m(\u001b[0m\u001b[0;34m)\u001b[0m\u001b[0;34m\u001b[0m\u001b[0m\n\u001b[0;32m----> 2\u001b[0;31m forecast_response = forecast_query.query_forecast(\n\u001b[0m\u001b[1;32m      3\u001b[0m     \u001b[0mForecastArn\u001b[0m\u001b[0;34m=\u001b[0m\u001b[0mforecast_arn\u001b[0m\u001b[0;34m,\u001b[0m\u001b[0;34m\u001b[0m\u001b[0m\n\u001b[1;32m      4\u001b[0m     \u001b[0mFilters\u001b[0m\u001b[0;34m=\u001b[0m\u001b[0;34m{\u001b[0m\u001b[0;34m\"item_id\"\u001b[0m\u001b[0;34m:\u001b[0m\u001b[0;34m\"21232\"\u001b[0m\u001b[0;34m}\u001b[0m\u001b[0;34m\u001b[0m\u001b[0m\n\u001b[1;32m      5\u001b[0m )\n",
      "\u001b[0;31mNameError\u001b[0m: name 'forecast_query' is not defined"
     ]
    }
   ],
   "source": [
    "print()\n",
    "forecast_response = forecast_query.query_forecast(\n",
    "    ForecastArn=forecast_arn,\n",
    "    Filters={\"item_id\":\"21232\"}\n",
    ")\n",
    "print(forecast_response)"
   ]
  },
  {
   "cell_type": "markdown",
   "metadata": {},
   "source": [
    "### Plotagem dos resultados reais\n",
    "\n",
    "Anteriormente, você dividiu os dados e reteve os valores de *novembro* e *dezembro*. Você plotará esses valores em relação aos valores previstos para o mesmo período.\n",
    "\n",
    "Você começará lendo os valores de teste de volta em um DataFrame.\n"
   ]
  },
  {
   "cell_type": "code",
   "execution_count": 1,
   "metadata": {},
   "outputs": [
    {
     "ename": "NameError",
     "evalue": "name 'pd' is not defined",
     "output_type": "error",
     "traceback": [
      "\u001b[0;31m\u001b[0m",
      "\u001b[0;31mNameError\u001b[0mTraceback (most recent call last)",
      "\u001b[0;32m<ipython-input-1-70ece2f27ae3>\u001b[0m in \u001b[0;36m<module>\u001b[0;34m()\u001b[0m\n\u001b[0;32m----> 1\u001b[0;31m \u001b[0mactual_df\u001b[0m \u001b[0;34m=\u001b[0m \u001b[0mpd\u001b[0m\u001b[0;34m.\u001b[0m\u001b[0mread_csv\u001b[0m\u001b[0;34m(\u001b[0m\u001b[0mtest\u001b[0m\u001b[0;34m,\u001b[0m \u001b[0mnames\u001b[0m\u001b[0;34m=\u001b[0m\u001b[0;34m[\u001b[0m\u001b[0;34m'InvoiceDate'\u001b[0m\u001b[0;34m,\u001b[0m\u001b[0;34m'StockCode'\u001b[0m\u001b[0;34m,\u001b[0m\u001b[0;34m'Quantity'\u001b[0m\u001b[0;34m]\u001b[0m\u001b[0;34m)\u001b[0m\u001b[0;34m\u001b[0m\u001b[0m\n\u001b[0m\u001b[1;32m      2\u001b[0m \u001b[0mactual_df\u001b[0m\u001b[0;34m[\u001b[0m\u001b[0;34m'InvoiceDate'\u001b[0m\u001b[0;34m]\u001b[0m \u001b[0;34m=\u001b[0m \u001b[0mpd\u001b[0m\u001b[0;34m.\u001b[0m\u001b[0mto_datetime\u001b[0m\u001b[0;34m(\u001b[0m\u001b[0mactual_df\u001b[0m\u001b[0;34m.\u001b[0m\u001b[0mInvoiceDate\u001b[0m\u001b[0;34m)\u001b[0m\u001b[0;34m\u001b[0m\u001b[0m\n\u001b[1;32m      3\u001b[0m \u001b[0mactual_df\u001b[0m \u001b[0;34m=\u001b[0m \u001b[0mactual_df\u001b[0m\u001b[0;34m.\u001b[0m\u001b[0mset_index\u001b[0m\u001b[0;34m(\u001b[0m\u001b[0;34m'InvoiceDate'\u001b[0m\u001b[0;34m)\u001b[0m\u001b[0;34m\u001b[0m\u001b[0m\n\u001b[1;32m      4\u001b[0m \u001b[0mactual_df\u001b[0m\u001b[0;34m.\u001b[0m\u001b[0mhead\u001b[0m\u001b[0;34m(\u001b[0m\u001b[0;34m)\u001b[0m\u001b[0;34m\u001b[0m\u001b[0m\n",
      "\u001b[0;31mNameError\u001b[0m: name 'pd' is not defined"
     ]
    }
   ],
   "source": [
    "actual_df = pd.read_csv(test, names=['InvoiceDate','StockCode','Quantity'])\n",
    "actual_df['InvoiceDate'] = pd.to_datetime(actual_df.InvoiceDate)\n",
    "actual_df = actual_df.set_index('InvoiceDate')\n",
    "actual_df.head()"
   ]
  },
  {
   "cell_type": "markdown",
   "metadata": {},
   "source": [
    "Verifique se você tem apenas dados para o código de estoque *21232*."
   ]
  },
  {
   "cell_type": "code",
   "execution_count": 2,
   "metadata": {},
   "outputs": [
    {
     "ename": "NameError",
     "evalue": "name 'actual_df' is not defined",
     "output_type": "error",
     "traceback": [
      "\u001b[0;31m\u001b[0m",
      "\u001b[0;31mNameError\u001b[0mTraceback (most recent call last)",
      "\u001b[0;32m<ipython-input-2-6c4857cd43a0>\u001b[0m in \u001b[0;36m<module>\u001b[0;34m()\u001b[0m\n\u001b[1;32m      1\u001b[0m \u001b[0mstockcode_filter\u001b[0m \u001b[0;34m=\u001b[0m \u001b[0;34m[\u001b[0m\u001b[0;34m'21232'\u001b[0m\u001b[0;34m]\u001b[0m\u001b[0;34m\u001b[0m\u001b[0m\n\u001b[0;32m----> 2\u001b[0;31m \u001b[0mactual_df\u001b[0m \u001b[0;34m=\u001b[0m \u001b[0mactual_df\u001b[0m\u001b[0;34m[\u001b[0m\u001b[0mactual_df\u001b[0m\u001b[0;34m[\u001b[0m\u001b[0;34m'StockCode'\u001b[0m\u001b[0;34m]\u001b[0m\u001b[0;34m.\u001b[0m\u001b[0misin\u001b[0m\u001b[0;34m(\u001b[0m\u001b[0mstockcode_filter\u001b[0m\u001b[0;34m)\u001b[0m\u001b[0;34m]\u001b[0m\u001b[0;34m\u001b[0m\u001b[0m\n\u001b[0m",
      "\u001b[0;31mNameError\u001b[0m: name 'actual_df' is not defined"
     ]
    }
   ],
   "source": [
    "stockcode_filter = ['21232']\n",
    "actual_df = actual_df[actual_df['StockCode'].isin(stockcode_filter)]"
   ]
  },
  {
   "cell_type": "code",
   "execution_count": 3,
   "metadata": {},
   "outputs": [
    {
     "ename": "NameError",
     "evalue": "name 'actual_df' is not defined",
     "output_type": "error",
     "traceback": [
      "\u001b[0;31m\u001b[0m",
      "\u001b[0;31mNameError\u001b[0mTraceback (most recent call last)",
      "\u001b[0;32m<ipython-input-3-b9b05798d6ac>\u001b[0m in \u001b[0;36m<module>\u001b[0;34m()\u001b[0m\n\u001b[0;32m----> 1\u001b[0;31m \u001b[0mactual_df\u001b[0m\u001b[0;34m.\u001b[0m\u001b[0mhead\u001b[0m\u001b[0;34m(\u001b[0m\u001b[0;34m)\u001b[0m\u001b[0;34m\u001b[0m\u001b[0m\n\u001b[0m",
      "\u001b[0;31mNameError\u001b[0m: name 'actual_df' is not defined"
     ]
    }
   ],
   "source": [
    "actual_df.head()"
   ]
  },
  {
   "cell_type": "markdown",
   "metadata": {},
   "source": [
    "Você pode fazer um gráfico rápido dos dados. Lembre-se de que esses dados são dados de teste, portanto, os valores reais são plotados. Na próxima etapa, você plotará os valores previstos."
   ]
  },
  {
   "cell_type": "code",
   "execution_count": 4,
   "metadata": {},
   "outputs": [
    {
     "ename": "NameError",
     "evalue": "name 'actual_df' is not defined",
     "output_type": "error",
     "traceback": [
      "\u001b[0;31m\u001b[0m",
      "\u001b[0;31mNameError\u001b[0mTraceback (most recent call last)",
      "\u001b[0;32m<ipython-input-4-688c4d0f8156>\u001b[0m in \u001b[0;36m<module>\u001b[0;34m()\u001b[0m\n\u001b[0;32m----> 1\u001b[0;31m \u001b[0mactual_df\u001b[0m\u001b[0;34m.\u001b[0m\u001b[0mQuantity\u001b[0m\u001b[0;34m.\u001b[0m\u001b[0mplot\u001b[0m\u001b[0;34m(\u001b[0m\u001b[0;34m)\u001b[0m\u001b[0;34m\u001b[0m\u001b[0m\n\u001b[0m",
      "\u001b[0;31mNameError\u001b[0m: name 'actual_df' is not defined"
     ]
    }
   ],
   "source": [
    "actual_df.Quantity.plot()"
   ]
  },
  {
   "cell_type": "markdown",
   "metadata": {},
   "source": [
    "### Plotagem da previsão\n",
    "\n",
    "Em seguida, você deve converter a resposta JSON do preditor em um DataFrame que possa ser plotado.\n",
    "\n",
    "Comece obtendo as predições P10.\n"
   ]
  },
  {
   "cell_type": "code",
   "execution_count": 5,
   "metadata": {},
   "outputs": [
    {
     "ename": "NameError",
     "evalue": "name 'pd' is not defined",
     "output_type": "error",
     "traceback": [
      "\u001b[0;31m\u001b[0m",
      "\u001b[0;31mNameError\u001b[0mTraceback (most recent call last)",
      "\u001b[0;32m<ipython-input-5-3782da973238>\u001b[0m in \u001b[0;36m<module>\u001b[0;34m()\u001b[0m\n\u001b[1;32m      1\u001b[0m \u001b[0;31m# Generate DF\u001b[0m\u001b[0;34m\u001b[0m\u001b[0;34m\u001b[0m\u001b[0m\n\u001b[0;32m----> 2\u001b[0;31m \u001b[0mprediction_df_p10\u001b[0m \u001b[0;34m=\u001b[0m \u001b[0mpd\u001b[0m\u001b[0;34m.\u001b[0m\u001b[0mDataFrame\u001b[0m\u001b[0;34m.\u001b[0m\u001b[0mfrom_dict\u001b[0m\u001b[0;34m(\u001b[0m\u001b[0mforecast_response\u001b[0m\u001b[0;34m[\u001b[0m\u001b[0;34m'Forecast'\u001b[0m\u001b[0;34m]\u001b[0m\u001b[0;34m[\u001b[0m\u001b[0;34m'Predictions'\u001b[0m\u001b[0;34m]\u001b[0m\u001b[0;34m[\u001b[0m\u001b[0;34m'p10'\u001b[0m\u001b[0;34m]\u001b[0m\u001b[0;34m)\u001b[0m\u001b[0;34m\u001b[0m\u001b[0m\n\u001b[0m\u001b[1;32m      3\u001b[0m \u001b[0mprediction_df_p10\u001b[0m\u001b[0;34m.\u001b[0m\u001b[0mhead\u001b[0m\u001b[0;34m(\u001b[0m\u001b[0;34m)\u001b[0m\u001b[0;34m\u001b[0m\u001b[0m\n",
      "\u001b[0;31mNameError\u001b[0m: name 'pd' is not defined"
     ]
    }
   ],
   "source": [
    "# Generate DF \n",
    "prediction_df_p10 = pd.DataFrame.from_dict(forecast_response['Forecast']['Predictions']['p10'])\n",
    "prediction_df_p10.head()"
   ]
  },
  {
   "cell_type": "markdown",
   "metadata": {},
   "source": [
    "Em seguida, plote as predições P10."
   ]
  },
  {
   "cell_type": "code",
   "execution_count": 6,
   "metadata": {},
   "outputs": [
    {
     "ename": "NameError",
     "evalue": "name 'prediction_df_p10' is not defined",
     "output_type": "error",
     "traceback": [
      "\u001b[0;31m\u001b[0m",
      "\u001b[0;31mNameError\u001b[0mTraceback (most recent call last)",
      "\u001b[0;32m<ipython-input-6-f6bd4319ccb9>\u001b[0m in \u001b[0;36m<module>\u001b[0;34m()\u001b[0m\n\u001b[1;32m      1\u001b[0m \u001b[0;31m# Plot\u001b[0m\u001b[0;34m\u001b[0m\u001b[0;34m\u001b[0m\u001b[0m\n\u001b[0;32m----> 2\u001b[0;31m \u001b[0mprediction_df_p10\u001b[0m\u001b[0;34m.\u001b[0m\u001b[0mplot\u001b[0m\u001b[0;34m(\u001b[0m\u001b[0;34m)\u001b[0m\u001b[0;34m\u001b[0m\u001b[0m\n\u001b[0m",
      "\u001b[0;31mNameError\u001b[0m: name 'prediction_df_p10' is not defined"
     ]
    }
   ],
   "source": [
    "# Plot\n",
    "prediction_df_p10.plot()\n"
   ]
  },
  {
   "cell_type": "markdown",
   "metadata": {},
   "source": [
    "O código anterior só recuperou os valores P10 e os colocou em um DataFrame. Agora, conclua o mesmo processo para os valores P50 e P90.\n"
   ]
  },
  {
   "cell_type": "code",
   "execution_count": 7,
   "metadata": {},
   "outputs": [
    {
     "ename": "NameError",
     "evalue": "name 'pd' is not defined",
     "output_type": "error",
     "traceback": [
      "\u001b[0;31m\u001b[0m",
      "\u001b[0;31mNameError\u001b[0mTraceback (most recent call last)",
      "\u001b[0;32m<ipython-input-7-9edbd89d60a8>\u001b[0m in \u001b[0;36m<module>\u001b[0;34m()\u001b[0m\n\u001b[0;32m----> 1\u001b[0;31m \u001b[0mprediction_df_p50\u001b[0m \u001b[0;34m=\u001b[0m \u001b[0mpd\u001b[0m\u001b[0;34m.\u001b[0m\u001b[0mDataFrame\u001b[0m\u001b[0;34m.\u001b[0m\u001b[0mfrom_dict\u001b[0m\u001b[0;34m(\u001b[0m\u001b[0mforecast_response\u001b[0m\u001b[0;34m[\u001b[0m\u001b[0;34m'Forecast'\u001b[0m\u001b[0;34m]\u001b[0m\u001b[0;34m[\u001b[0m\u001b[0;34m'Predictions'\u001b[0m\u001b[0;34m]\u001b[0m\u001b[0;34m[\u001b[0m\u001b[0;34m'p50'\u001b[0m\u001b[0;34m]\u001b[0m\u001b[0;34m)\u001b[0m\u001b[0;34m\u001b[0m\u001b[0m\n\u001b[0m\u001b[1;32m      2\u001b[0m \u001b[0mprediction_df_p90\u001b[0m \u001b[0;34m=\u001b[0m \u001b[0mpd\u001b[0m\u001b[0;34m.\u001b[0m\u001b[0mDataFrame\u001b[0m\u001b[0;34m.\u001b[0m\u001b[0mfrom_dict\u001b[0m\u001b[0;34m(\u001b[0m\u001b[0mforecast_response\u001b[0m\u001b[0;34m[\u001b[0m\u001b[0;34m'Forecast'\u001b[0m\u001b[0;34m]\u001b[0m\u001b[0;34m[\u001b[0m\u001b[0;34m'Predictions'\u001b[0m\u001b[0;34m]\u001b[0m\u001b[0;34m[\u001b[0m\u001b[0;34m'p90'\u001b[0m\u001b[0;34m]\u001b[0m\u001b[0;34m)\u001b[0m\u001b[0;34m\u001b[0m\u001b[0m\n",
      "\u001b[0;31mNameError\u001b[0m: name 'pd' is not defined"
     ]
    }
   ],
   "source": [
    "prediction_df_p50 = pd.DataFrame.from_dict(forecast_response['Forecast']['Predictions']['p50'])\n",
    "prediction_df_p90 = pd.DataFrame.from_dict(forecast_response['Forecast']['Predictions']['p90'])"
   ]
  },
  {
   "cell_type": "markdown",
   "metadata": {},
   "source": [
    "\n",
    "## Comparação da predição com resultados reais\n",
    "\n",
    "Depois de obter os DataFrames, a próxima tarefa é plotá-los juntos para determinar a melhor opção.\n"
   ]
  },
  {
   "cell_type": "code",
   "execution_count": 8,
   "metadata": {},
   "outputs": [
    {
     "ename": "NameError",
     "evalue": "name 'pd' is not defined",
     "output_type": "error",
     "traceback": [
      "\u001b[0;31m\u001b[0m",
      "\u001b[0;31mNameError\u001b[0mTraceback (most recent call last)",
      "\u001b[0;32m<ipython-input-8-1f02671382fb>\u001b[0m in \u001b[0;36m<module>\u001b[0;34m()\u001b[0m\n\u001b[1;32m      1\u001b[0m \u001b[0;31m# Start by creating a DataFrame to house the content. Here, Source will be which DataFrame it came from.\u001b[0m\u001b[0;34m\u001b[0m\u001b[0;34m\u001b[0m\u001b[0m\n\u001b[0;32m----> 2\u001b[0;31m \u001b[0mresults_df\u001b[0m \u001b[0;34m=\u001b[0m \u001b[0mpd\u001b[0m\u001b[0;34m.\u001b[0m\u001b[0mDataFrame\u001b[0m\u001b[0;34m(\u001b[0m\u001b[0mcolumns\u001b[0m\u001b[0;34m=\u001b[0m\u001b[0;34m[\u001b[0m\u001b[0;34m'timestamp'\u001b[0m\u001b[0;34m,\u001b[0m\u001b[0;34m'value'\u001b[0m\u001b[0;34m,\u001b[0m\u001b[0;34m'Source'\u001b[0m\u001b[0;34m]\u001b[0m\u001b[0;34m)\u001b[0m\u001b[0;34m\u001b[0m\u001b[0m\n\u001b[0m\u001b[1;32m      3\u001b[0m \u001b[0;34m\u001b[0m\u001b[0m\n\u001b[1;32m      4\u001b[0m \u001b[0mresults_df\u001b[0m\u001b[0;34m.\u001b[0m\u001b[0mhead\u001b[0m\u001b[0;34m(\u001b[0m\u001b[0;34m)\u001b[0m\u001b[0;34m\u001b[0m\u001b[0m\n",
      "\u001b[0;31mNameError\u001b[0m: name 'pd' is not defined"
     ]
    }
   ],
   "source": [
    "# Start by creating a DataFrame to house the content. Here, Source will be which DataFrame it came from.\n",
    "results_df = pd.DataFrame(columns=['timestamp','value','Source'])\n",
    "\n",
    "results_df.head()"
   ]
  },
  {
   "cell_type": "markdown",
   "metadata": {},
   "source": [
    "\n",
    "\n",
    "Importe os valores observados para o DataFrame:\n"
   ]
  },
  {
   "cell_type": "code",
   "execution_count": 9,
   "metadata": {},
   "outputs": [
    {
     "ename": "NameError",
     "evalue": "name 'actual_df' is not defined",
     "output_type": "error",
     "traceback": [
      "\u001b[0;31m\u001b[0m",
      "\u001b[0;31mNameError\u001b[0mTraceback (most recent call last)",
      "\u001b[0;32m<ipython-input-9-c9c17e07a954>\u001b[0m in \u001b[0;36m<module>\u001b[0;34m()\u001b[0m\n\u001b[1;32m      1\u001b[0m \u001b[0;32mimport\u001b[0m \u001b[0mdateutil\u001b[0m\u001b[0;34m.\u001b[0m\u001b[0mparser\u001b[0m\u001b[0;34m\u001b[0m\u001b[0m\n\u001b[0;32m----> 2\u001b[0;31m \u001b[0;32mfor\u001b[0m \u001b[0mindex\u001b[0m\u001b[0;34m,\u001b[0m \u001b[0mrow\u001b[0m \u001b[0;32min\u001b[0m \u001b[0mactual_df\u001b[0m\u001b[0;34m.\u001b[0m\u001b[0miterrows\u001b[0m\u001b[0;34m(\u001b[0m\u001b[0;34m)\u001b[0m\u001b[0;34m:\u001b[0m\u001b[0;34m\u001b[0m\u001b[0m\n\u001b[0m\u001b[1;32m      3\u001b[0m     \u001b[0;31m#clean_timestamp = dateutil.parser.parse(index)\u001b[0m\u001b[0;34m\u001b[0m\u001b[0;34m\u001b[0m\u001b[0m\n\u001b[1;32m      4\u001b[0m     \u001b[0mresults_df\u001b[0m \u001b[0;34m=\u001b[0m \u001b[0mresults_df\u001b[0m\u001b[0;34m.\u001b[0m\u001b[0mappend\u001b[0m\u001b[0;34m(\u001b[0m\u001b[0;34m{\u001b[0m\u001b[0;34m'timestamp'\u001b[0m \u001b[0;34m:\u001b[0m \u001b[0mindex\u001b[0m \u001b[0;34m,\u001b[0m \u001b[0;34m'value'\u001b[0m \u001b[0;34m:\u001b[0m \u001b[0mrow\u001b[0m\u001b[0;34m[\u001b[0m\u001b[0;34m'Quantity'\u001b[0m\u001b[0;34m]\u001b[0m\u001b[0;34m,\u001b[0m \u001b[0;34m'Source'\u001b[0m\u001b[0;34m:\u001b[0m \u001b[0;34m'Actual'\u001b[0m\u001b[0;34m}\u001b[0m \u001b[0;34m,\u001b[0m \u001b[0mignore_index\u001b[0m\u001b[0;34m=\u001b[0m\u001b[0mTrue\u001b[0m\u001b[0;34m)\u001b[0m\u001b[0;34m\u001b[0m\u001b[0m\n",
      "\u001b[0;31mNameError\u001b[0m: name 'actual_df' is not defined"
     ]
    }
   ],
   "source": [
    "import dateutil.parser\n",
    "for index, row in actual_df.iterrows():\n",
    "    #clean_timestamp = dateutil.parser.parse(index)\n",
    "    results_df = results_df.append({'timestamp' : index , 'value' : row['Quantity'], 'Source': 'Actual'} , ignore_index=True)"
   ]
  },
  {
   "cell_type": "code",
   "execution_count": 10,
   "metadata": {},
   "outputs": [
    {
     "ename": "NameError",
     "evalue": "name 'results_df' is not defined",
     "output_type": "error",
     "traceback": [
      "\u001b[0;31m\u001b[0m",
      "\u001b[0;31mNameError\u001b[0mTraceback (most recent call last)",
      "\u001b[0;32m<ipython-input-10-ea32aae46901>\u001b[0m in \u001b[0;36m<module>\u001b[0;34m()\u001b[0m\n\u001b[1;32m      1\u001b[0m \u001b[0;31m# To show the new DataFrame\u001b[0m\u001b[0;34m\u001b[0m\u001b[0;34m\u001b[0m\u001b[0m\n\u001b[0;32m----> 2\u001b[0;31m \u001b[0mresults_df\u001b[0m\u001b[0;34m.\u001b[0m\u001b[0mhead\u001b[0m\u001b[0;34m(\u001b[0m\u001b[0;34m)\u001b[0m\u001b[0;34m\u001b[0m\u001b[0m\n\u001b[0m",
      "\u001b[0;31mNameError\u001b[0m: name 'results_df' is not defined"
     ]
    }
   ],
   "source": [
    "# To show the new DataFrame\n",
    "results_df.head()"
   ]
  },
  {
   "cell_type": "code",
   "execution_count": 11,
   "metadata": {},
   "outputs": [
    {
     "ename": "NameError",
     "evalue": "name 'prediction_df_p10' is not defined",
     "output_type": "error",
     "traceback": [
      "\u001b[0;31m\u001b[0m",
      "\u001b[0;31mNameError\u001b[0mTraceback (most recent call last)",
      "\u001b[0;32m<ipython-input-11-67ef01a5acce>\u001b[0m in \u001b[0;36m<module>\u001b[0;34m()\u001b[0m\n\u001b[1;32m      1\u001b[0m \u001b[0;31m# Now add the P10, P50, and P90 Values\u001b[0m\u001b[0;34m\u001b[0m\u001b[0;34m\u001b[0m\u001b[0m\n\u001b[0;32m----> 2\u001b[0;31m \u001b[0;32mfor\u001b[0m \u001b[0mindex\u001b[0m\u001b[0;34m,\u001b[0m \u001b[0mrow\u001b[0m \u001b[0;32min\u001b[0m \u001b[0mprediction_df_p10\u001b[0m\u001b[0;34m.\u001b[0m\u001b[0miterrows\u001b[0m\u001b[0;34m(\u001b[0m\u001b[0;34m)\u001b[0m\u001b[0;34m:\u001b[0m\u001b[0;34m\u001b[0m\u001b[0m\n\u001b[0m\u001b[1;32m      3\u001b[0m     \u001b[0mclean_timestamp\u001b[0m \u001b[0;34m=\u001b[0m \u001b[0mdateutil\u001b[0m\u001b[0;34m.\u001b[0m\u001b[0mparser\u001b[0m\u001b[0;34m.\u001b[0m\u001b[0mparse\u001b[0m\u001b[0;34m(\u001b[0m\u001b[0mrow\u001b[0m\u001b[0;34m[\u001b[0m\u001b[0;34m'Timestamp'\u001b[0m\u001b[0;34m]\u001b[0m\u001b[0;34m)\u001b[0m\u001b[0;34m\u001b[0m\u001b[0m\n\u001b[1;32m      4\u001b[0m     \u001b[0mresults_df\u001b[0m \u001b[0;34m=\u001b[0m \u001b[0mresults_df\u001b[0m\u001b[0;34m.\u001b[0m\u001b[0mappend\u001b[0m\u001b[0;34m(\u001b[0m\u001b[0;34m{\u001b[0m\u001b[0;34m'timestamp'\u001b[0m \u001b[0;34m:\u001b[0m \u001b[0mclean_timestamp\u001b[0m \u001b[0;34m,\u001b[0m \u001b[0;34m'value'\u001b[0m \u001b[0;34m:\u001b[0m \u001b[0mrow\u001b[0m\u001b[0;34m[\u001b[0m\u001b[0;34m'Value'\u001b[0m\u001b[0;34m]\u001b[0m\u001b[0;34m,\u001b[0m \u001b[0;34m'Source'\u001b[0m\u001b[0;34m:\u001b[0m \u001b[0;34m'p10'\u001b[0m\u001b[0;34m}\u001b[0m \u001b[0;34m,\u001b[0m \u001b[0mignore_index\u001b[0m\u001b[0;34m=\u001b[0m\u001b[0mTrue\u001b[0m\u001b[0;34m)\u001b[0m\u001b[0;34m\u001b[0m\u001b[0m\n\u001b[1;32m      5\u001b[0m \u001b[0;32mfor\u001b[0m \u001b[0mindex\u001b[0m\u001b[0;34m,\u001b[0m \u001b[0mrow\u001b[0m \u001b[0;32min\u001b[0m \u001b[0mprediction_df_p50\u001b[0m\u001b[0;34m.\u001b[0m\u001b[0miterrows\u001b[0m\u001b[0;34m(\u001b[0m\u001b[0;34m)\u001b[0m\u001b[0;34m:\u001b[0m\u001b[0;34m\u001b[0m\u001b[0m\n",
      "\u001b[0;31mNameError\u001b[0m: name 'prediction_df_p10' is not defined"
     ]
    }
   ],
   "source": [
    "# Now add the P10, P50, and P90 Values\n",
    "for index, row in prediction_df_p10.iterrows():\n",
    "    clean_timestamp = dateutil.parser.parse(row['Timestamp'])\n",
    "    results_df = results_df.append({'timestamp' : clean_timestamp , 'value' : row['Value'], 'Source': 'p10'} , ignore_index=True)\n",
    "for index, row in prediction_df_p50.iterrows():\n",
    "    clean_timestamp = dateutil.parser.parse(row['Timestamp'])\n",
    "    results_df = results_df.append({'timestamp' : clean_timestamp , 'value' : row['Value'], 'Source': 'p50'} , ignore_index=True)\n",
    "for index, row in prediction_df_p90.iterrows():\n",
    "    clean_timestamp = dateutil.parser.parse(row['Timestamp'])\n",
    "    results_df = results_df.append({'timestamp' : clean_timestamp , 'value' : row['Value'], 'Source': 'p90'} , ignore_index=True)"
   ]
  },
  {
   "cell_type": "markdown",
   "metadata": {},
   "source": [
    "Ao criar um pivot nos dados, você pode comparar os valores reais P10, P50 e P90."
   ]
  },
  {
   "cell_type": "code",
   "execution_count": 12,
   "metadata": {},
   "outputs": [
    {
     "ename": "NameError",
     "evalue": "name 'results_df' is not defined",
     "output_type": "error",
     "traceback": [
      "\u001b[0;31m\u001b[0m",
      "\u001b[0;31mNameError\u001b[0mTraceback (most recent call last)",
      "\u001b[0;32m<ipython-input-12-5adff08a206a>\u001b[0m in \u001b[0;36m<module>\u001b[0;34m()\u001b[0m\n\u001b[0;32m----> 1\u001b[0;31m \u001b[0mpivot_df\u001b[0m \u001b[0;34m=\u001b[0m \u001b[0mresults_df\u001b[0m\u001b[0;34m.\u001b[0m\u001b[0mpivot\u001b[0m\u001b[0;34m(\u001b[0m\u001b[0mcolumns\u001b[0m\u001b[0;34m=\u001b[0m\u001b[0;34m'Source'\u001b[0m\u001b[0;34m,\u001b[0m \u001b[0mvalues\u001b[0m\u001b[0;34m=\u001b[0m\u001b[0;34m'value'\u001b[0m\u001b[0;34m,\u001b[0m \u001b[0mindex\u001b[0m\u001b[0;34m=\u001b[0m\u001b[0;34m\"timestamp\"\u001b[0m\u001b[0;34m)\u001b[0m\u001b[0;34m\u001b[0m\u001b[0m\n\u001b[0m\u001b[1;32m      2\u001b[0m \u001b[0mpivot_df\u001b[0m\u001b[0;34m\u001b[0m\u001b[0m\n",
      "\u001b[0;31mNameError\u001b[0m: name 'results_df' is not defined"
     ]
    }
   ],
   "source": [
    "pivot_df = results_df.pivot(columns='Source', values='value', index=\"timestamp\")\n",
    "pivot_df"
   ]
  },
  {
   "cell_type": "markdown",
   "metadata": {},
   "source": [
    "Os gráficos podem ser mais fáceis de analisar do que os valores brutos."
   ]
  },
  {
   "cell_type": "code",
   "execution_count": 13,
   "metadata": {},
   "outputs": [
    {
     "ename": "NameError",
     "evalue": "name 'pivot_df' is not defined",
     "output_type": "error",
     "traceback": [
      "\u001b[0;31m\u001b[0m",
      "\u001b[0;31mNameError\u001b[0mTraceback (most recent call last)",
      "\u001b[0;32m<ipython-input-13-665373f773e1>\u001b[0m in \u001b[0;36m<module>\u001b[0;34m()\u001b[0m\n\u001b[0;32m----> 1\u001b[0;31m \u001b[0mpivot_df\u001b[0m\u001b[0;34m.\u001b[0m\u001b[0mplot\u001b[0m\u001b[0;34m(\u001b[0m\u001b[0mfigsize\u001b[0m\u001b[0;34m=\u001b[0m\u001b[0;34m(\u001b[0m\u001b[0;36m20\u001b[0m\u001b[0;34m,\u001b[0m\u001b[0;36m10\u001b[0m\u001b[0;34m)\u001b[0m\u001b[0;34m)\u001b[0m\u001b[0;34m\u001b[0m\u001b[0m\n\u001b[0m",
      "\u001b[0;31mNameError\u001b[0m: name 'pivot_df' is not defined"
     ]
    }
   ],
   "source": [
    "pivot_df.plot(figsize=(20,10))"
   ]
  },
  {
   "cell_type": "markdown",
   "metadata": {},
   "source": [
    "## Como examinar os resultados\n",
    "\n",
    "Possivelmente, no gráfico anterior, você verá pelo menos alguma correlação entre os valores previstos e os valores reais. A correlação pode não ser boa, e pode haver vários motivos para esse resultado:\n",
    "\n",
    "- As vendas são principalmente no atacado, mas incluem alguns pedidos menores.\n",
    "- Você reteve dados, o que significa que uma temporada inteira não foi incluída nos dados de treinamento.\n",
    "- Talvez você tenha perdido a categoria útil ou os dados de promoção de vendas.\n",
    "\n",
    "Como todos os modelos de machine learning, os resultados são tão bons quanto os dados usados para treinar o modelo. Conforme observado anteriormente, o modelo pode ser melhorado com mais dados."
   ]
  },
  {
   "cell_type": "markdown",
   "metadata": {},
   "source": [
    "## Tarefa 7: Limpeza\n",
    "\n",
    "As células a seguir limpam os recursos que foram criados durante o laboratório."
   ]
  },
  {
   "cell_type": "code",
   "execution_count": 14,
   "metadata": {},
   "outputs": [],
   "source": [
    "%store -r"
   ]
  },
  {
   "cell_type": "code",
   "execution_count": 15,
   "metadata": {},
   "outputs": [
    {
     "ename": "NameError",
     "evalue": "name 'forecast' is not defined",
     "output_type": "error",
     "traceback": [
      "\u001b[0;31m\u001b[0m",
      "\u001b[0;31mNameError\u001b[0mTraceback (most recent call last)",
      "\u001b[0;32m<ipython-input-15-5cdd3374f3fb>\u001b[0m in \u001b[0;36m<module>\u001b[0;34m()\u001b[0m\n\u001b[0;32m----> 1\u001b[0;31m \u001b[0mforecast\u001b[0m\u001b[0;34m.\u001b[0m\u001b[0mdelete_forecast\u001b[0m\u001b[0;34m(\u001b[0m\u001b[0mForecastArn\u001b[0m\u001b[0;34m=\u001b[0m\u001b[0mforecast_arn\u001b[0m\u001b[0;34m)\u001b[0m\u001b[0;34m\u001b[0m\u001b[0m\n\u001b[0m\u001b[1;32m      2\u001b[0m \u001b[0mtime\u001b[0m\u001b[0;34m.\u001b[0m\u001b[0msleep\u001b[0m\u001b[0;34m(\u001b[0m\u001b[0;36m60\u001b[0m\u001b[0;34m)\u001b[0m\u001b[0;34m\u001b[0m\u001b[0m\n\u001b[1;32m      3\u001b[0m \u001b[0;34m\u001b[0m\u001b[0m\n\u001b[1;32m      4\u001b[0m \u001b[0mforecast\u001b[0m\u001b[0;34m.\u001b[0m\u001b[0mdelete_predictor\u001b[0m\u001b[0;34m(\u001b[0m\u001b[0mPredictorArn\u001b[0m\u001b[0;34m=\u001b[0m\u001b[0mpredictor_arn\u001b[0m\u001b[0;34m)\u001b[0m\u001b[0;34m\u001b[0m\u001b[0m\n\u001b[1;32m      5\u001b[0m \u001b[0mtime\u001b[0m\u001b[0;34m.\u001b[0m\u001b[0msleep\u001b[0m\u001b[0;34m(\u001b[0m\u001b[0;36m60\u001b[0m\u001b[0;34m)\u001b[0m\u001b[0;34m\u001b[0m\u001b[0m\n",
      "\u001b[0;31mNameError\u001b[0m: name 'forecast' is not defined"
     ]
    }
   ],
   "source": [
    "forecast.delete_forecast(ForecastArn=forecast_arn)\n",
    "time.sleep(60)\n",
    "\n",
    "forecast.delete_predictor(PredictorArn=predictor_arn)\n",
    "time.sleep(60)"
   ]
  },
  {
   "cell_type": "code",
   "execution_count": 16,
   "metadata": {},
   "outputs": [
    {
     "ename": "NameError",
     "evalue": "name 'forecast' is not defined",
     "output_type": "error",
     "traceback": [
      "\u001b[0;31m\u001b[0m",
      "\u001b[0;31mNameError\u001b[0mTraceback (most recent call last)",
      "\u001b[0;32m<ipython-input-16-4799e7dc2d2d>\u001b[0m in \u001b[0;36m<module>\u001b[0;34m()\u001b[0m\n\u001b[0;32m----> 1\u001b[0;31m \u001b[0mforecast\u001b[0m\u001b[0;34m.\u001b[0m\u001b[0mdelete_dataset_import_job\u001b[0m\u001b[0;34m(\u001b[0m\u001b[0mDatasetImportJobArn\u001b[0m\u001b[0;34m=\u001b[0m\u001b[0mds_related_import_job_arn\u001b[0m\u001b[0;34m)\u001b[0m\u001b[0;34m\u001b[0m\u001b[0m\n\u001b[0m\u001b[1;32m      2\u001b[0m \u001b[0mforecast\u001b[0m\u001b[0;34m.\u001b[0m\u001b[0mdelete_dataset_import_job\u001b[0m\u001b[0;34m(\u001b[0m\u001b[0mDatasetImportJobArn\u001b[0m\u001b[0;34m=\u001b[0m\u001b[0mds_import_job_arn\u001b[0m\u001b[0;34m)\u001b[0m\u001b[0;34m\u001b[0m\u001b[0m\n\u001b[1;32m      3\u001b[0m \u001b[0mtime\u001b[0m\u001b[0;34m.\u001b[0m\u001b[0msleep\u001b[0m\u001b[0;34m(\u001b[0m\u001b[0;36m60\u001b[0m\u001b[0;34m)\u001b[0m\u001b[0;34m\u001b[0m\u001b[0m\n",
      "\u001b[0;31mNameError\u001b[0m: name 'forecast' is not defined"
     ]
    }
   ],
   "source": [
    "forecast.delete_dataset_import_job(DatasetImportJobArn=ds_related_import_job_arn)\n",
    "forecast.delete_dataset_import_job(DatasetImportJobArn=ds_import_job_arn)\n",
    "time.sleep(60)"
   ]
  },
  {
   "cell_type": "code",
   "execution_count": 17,
   "metadata": {},
   "outputs": [
    {
     "ename": "NameError",
     "evalue": "name 'forecast' is not defined",
     "output_type": "error",
     "traceback": [
      "\u001b[0;31m\u001b[0m",
      "\u001b[0;31mNameError\u001b[0mTraceback (most recent call last)",
      "\u001b[0;32m<ipython-input-17-cfe0d71c022a>\u001b[0m in \u001b[0;36m<module>\u001b[0;34m()\u001b[0m\n\u001b[0;32m----> 1\u001b[0;31m \u001b[0mforecast\u001b[0m\u001b[0;34m.\u001b[0m\u001b[0mdelete_dataset\u001b[0m\u001b[0;34m(\u001b[0m\u001b[0mDatasetArn\u001b[0m\u001b[0;34m=\u001b[0m\u001b[0mrelated_dataset_arn\u001b[0m\u001b[0;34m)\u001b[0m\u001b[0;34m\u001b[0m\u001b[0m\n\u001b[0m\u001b[1;32m      2\u001b[0m \u001b[0mforecast\u001b[0m\u001b[0;34m.\u001b[0m\u001b[0mdelete_dataset\u001b[0m\u001b[0;34m(\u001b[0m\u001b[0mDatasetArn\u001b[0m\u001b[0;34m=\u001b[0m\u001b[0mdataset_arn\u001b[0m\u001b[0;34m)\u001b[0m\u001b[0;34m\u001b[0m\u001b[0m\n\u001b[1;32m      3\u001b[0m \u001b[0mtime\u001b[0m\u001b[0;34m.\u001b[0m\u001b[0msleep\u001b[0m\u001b[0;34m(\u001b[0m\u001b[0;36m60\u001b[0m\u001b[0;34m)\u001b[0m\u001b[0;34m\u001b[0m\u001b[0m\n",
      "\u001b[0;31mNameError\u001b[0m: name 'forecast' is not defined"
     ]
    }
   ],
   "source": [
    "forecast.delete_dataset(DatasetArn=related_dataset_arn)\n",
    "forecast.delete_dataset(DatasetArn=dataset_arn)\n",
    "time.sleep(60)"
   ]
  },
  {
   "cell_type": "code",
   "execution_count": 18,
   "metadata": {},
   "outputs": [
    {
     "ename": "NameError",
     "evalue": "name 'forecast' is not defined",
     "output_type": "error",
     "traceback": [
      "\u001b[0;31m\u001b[0m",
      "\u001b[0;31mNameError\u001b[0mTraceback (most recent call last)",
      "\u001b[0;32m<ipython-input-18-5aa001740ff1>\u001b[0m in \u001b[0;36m<module>\u001b[0;34m()\u001b[0m\n\u001b[0;32m----> 1\u001b[0;31m \u001b[0mforecast\u001b[0m\u001b[0;34m.\u001b[0m\u001b[0mdelete_dataset_group\u001b[0m\u001b[0;34m(\u001b[0m\u001b[0mDatasetGroupArn\u001b[0m\u001b[0;34m=\u001b[0m\u001b[0mdataset_group_arn\u001b[0m\u001b[0;34m)\u001b[0m\u001b[0;34m\u001b[0m\u001b[0m\n\u001b[0m",
      "\u001b[0;31mNameError\u001b[0m: name 'forecast' is not defined"
     ]
    }
   ],
   "source": [
    "forecast.delete_dataset_group(DatasetGroupArn=dataset_group_arn)"
   ]
  }
 ],
 "metadata": {
  "kernelspec": {
   "display_name": "conda_amazonei_mxnet_p27",
   "language": "python",
   "name": "conda_amazonei_mxnet_p27"
  },
  "language_info": {
   "codemirror_mode": {
    "name": "ipython",
    "version": 2
   },
   "file_extension": ".py",
   "mimetype": "text/x-python",
   "name": "python",
   "nbconvert_exporter": "python",
   "pygments_lexer": "ipython2",
   "version": "2.7.16"
  }
 },
 "nbformat": 4,
 "nbformat_minor": 4
}
